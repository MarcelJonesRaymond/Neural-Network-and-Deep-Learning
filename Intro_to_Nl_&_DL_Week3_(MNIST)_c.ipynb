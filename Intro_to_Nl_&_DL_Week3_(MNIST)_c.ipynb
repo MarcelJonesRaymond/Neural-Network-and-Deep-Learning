{
  "nbformat": 4,
  "nbformat_minor": 0,
  "metadata": {
    "colab": {
      "name": "Intro to Nl & DL  Week3 (MNIST)-c.ipynb",
      "provenance": [],
      "authorship_tag": "ABX9TyMB4FNs3wRIl2h6Hww6BYpl",
      "include_colab_link": true
    },
    "kernelspec": {
      "name": "python3",
      "display_name": "Python 3"
    },
    "language_info": {
      "name": "python"
    }
  },
  "cells": [
    {
      "cell_type": "markdown",
      "metadata": {
        "id": "view-in-github",
        "colab_type": "text"
      },
      "source": [
        "<a href=\"https://colab.research.google.com/github/MarcelJonesRaymond/Neural-Network-and-Deep-Learning/blob/main/Intro_to_Nl_%26_DL_Week3_(MNIST)_c.ipynb\" target=\"_parent\"><img src=\"https://colab.research.google.com/assets/colab-badge.svg\" alt=\"Open In Colab\"/></a>"
      ]
    },
    {
      "cell_type": "markdown",
      "source": [
        "Mnist dataset- Hyperparameter Optimization using Tensorflow\n"
      ],
      "metadata": {
        "id": "LNbZFzpnW8Sl"
      }
    },
    {
      "cell_type": "markdown",
      "source": [
        "Importing the Libraries"
      ],
      "metadata": {
        "id": "N7QDfDPFXjWR"
      }
    },
    {
      "cell_type": "code",
      "source": [
        "import numpy as np\n",
        "import pandas as pd\n",
        "import seaborn as sns\n",
        "import matplotlib.pyplot as plt\n",
        "from sklearn.model_selection import train_test_split\n",
        "from sklearn import preprocessing\n",
        "from sklearn import metrics\n",
        "import tensorflow as tf\n",
        "from tensorflow.keras.datasets import mnist\n",
        "from tensorflow.keras.models import Sequential\n",
        "from tensorflow.keras.callbacks import EarlyStopping\n",
        "from tensorflow.keras.layers import Dense\n",
        "from tensorflow.keras import regularizers, optimizers\n",
        "import warnings\n",
        "warnings.filterwarnings('ignore')"
      ],
      "metadata": {
        "id": "Qa3k-pG5XqDF"
      },
      "execution_count": 45,
      "outputs": []
    },
    {
      "cell_type": "markdown",
      "source": [
        "Importing the data"
      ],
      "metadata": {
        "id": "fSDob5zdX6u3"
      }
    },
    {
      "cell_type": "code",
      "source": [
        "(X_train,Y_train),(X_val,Y_val)=mnist.load_data()"
      ],
      "metadata": {
        "colab": {
          "base_uri": "https://localhost:8080/"
        },
        "id": "ZYwtOvjEYsmD",
        "outputId": "e166f9ad-beb5-4397-eda9-fcf638bdc077"
      },
      "execution_count": 7,
      "outputs": [
        {
          "output_type": "stream",
          "name": "stdout",
          "text": [
            "Downloading data from https://storage.googleapis.com/tensorflow/tf-keras-datasets/mnist.npz\n",
            "11493376/11490434 [==============================] - 0s 0us/step\n",
            "11501568/11490434 [==============================] - 0s 0us/step\n"
          ]
        }
      ]
    },
    {
      "cell_type": "code",
      "source": [
        "print('Train data shape',X_train.shape)\n",
        "print('Validation data shape',X_val.shape)"
      ],
      "metadata": {
        "colab": {
          "base_uri": "https://localhost:8080/"
        },
        "id": "wFp0Xk-kZJiO",
        "outputId": "f50ee385-61d9-412f-c416-8c454a38ef28"
      },
      "execution_count": 8,
      "outputs": [
        {
          "output_type": "stream",
          "name": "stdout",
          "text": [
            "Train data shape (60000, 28, 28)\n",
            "Validation data shape (10000, 28, 28)\n"
          ]
        }
      ]
    },
    {
      "cell_type": "code",
      "source": [
        "random_pic=np.random.randint(0,6000)\n",
        "print('Label: ',Y_train[random_pic])\n",
        "plt.imshow(X_train[random_pic],cmap='gray')"
      ],
      "metadata": {
        "colab": {
          "base_uri": "https://localhost:8080/",
          "height": 300
        },
        "id": "egqiTxdQZbW3",
        "outputId": "5de324ff-1617-4389-89dd-408b4464f166"
      },
      "execution_count": 16,
      "outputs": [
        {
          "output_type": "stream",
          "name": "stdout",
          "text": [
            "Label:  2\n"
          ]
        },
        {
          "output_type": "execute_result",
          "data": {
            "text/plain": [
              "<matplotlib.image.AxesImage at 0x7fc95e870c50>"
            ]
          },
          "metadata": {},
          "execution_count": 16
        },
        {
          "output_type": "display_data",
          "data": {
            "image/png": "[encoded data removed]",
            "text/plain": [
              "<Figure size 432x288 with 1 Axes>"
            ]
          },
          "metadata": {
            "needs_background": "light"
          }
        }
      ]
    },
    {
      "cell_type": "code",
      "source": [
        "28*28"
      ],
      "metadata": {
        "colab": {
          "base_uri": "https://localhost:8080/"
        },
        "id": "AvPMATgUZpsS",
        "outputId": "4308a780-b46e-450a-d518-e41d157b0487"
      },
      "execution_count": 17,
      "outputs": [
        {
          "output_type": "execute_result",
          "data": {
            "text/plain": [
              "784"
            ]
          },
          "metadata": {},
          "execution_count": 17
        }
      ]
    },
    {
      "cell_type": "markdown",
      "source": [
        "Reshape the data "
      ],
      "metadata": {
        "id": "iX0daQz2an1r"
      }
    },
    {
      "cell_type": "code",
      "source": [
        "X_train=X_train.reshape(60000,784)\n",
        "X_val=X_val.reshape(10000,784)"
      ],
      "metadata": {
        "id": "Ulnp-KmCaraC"
      },
      "execution_count": 18,
      "outputs": []
    },
    {
      "cell_type": "code",
      "source": [
        "print('Train data shape',X_train.shape)\n",
        "print('Validation data shape',X_val.shape)"
      ],
      "metadata": {
        "colab": {
          "base_uri": "https://localhost:8080/"
        },
        "id": "2eq7bIJ9a3Fg",
        "outputId": "ec90a3e0-3ea0-46be-cc56-4fb4bfc01f09"
      },
      "execution_count": 19,
      "outputs": [
        {
          "output_type": "stream",
          "name": "stdout",
          "text": [
            "Train data shape (60000, 784)\n",
            "Validation data shape (10000, 784)\n"
          ]
        }
      ]
    },
    {
      "cell_type": "markdown",
      "source": [
        "Normalization"
      ],
      "metadata": {
        "id": "-vhLCeDBa6FZ"
      }
    },
    {
      "cell_type": "code",
      "source": [
        "print(X_train.max())\n",
        "print(X_train.min())"
      ],
      "metadata": {
        "colab": {
          "base_uri": "https://localhost:8080/"
        },
        "id": "1akXghPvbpm1",
        "outputId": "adbbd360-09d3-481e-c4d5-db4c4187de25"
      },
      "execution_count": 20,
      "outputs": [
        {
          "output_type": "stream",
          "name": "stdout",
          "text": [
            "255\n",
            "0\n"
          ]
        }
      ]
    },
    {
      "cell_type": "code",
      "source": [
        "X_train=X_train/255\n",
        "X_val=X_val/255"
      ],
      "metadata": {
        "id": "sjcNCUz6bu9s"
      },
      "execution_count": 21,
      "outputs": []
    },
    {
      "cell_type": "code",
      "source": [
        "print(X_train.max())\n",
        "print(X_val.min())"
      ],
      "metadata": {
        "colab": {
          "base_uri": "https://localhost:8080/"
        },
        "id": "O-hQyAYUb0Y4",
        "outputId": "e1ff90ae-2c12-414c-ed27-1bbc98ed107f"
      },
      "execution_count": 22,
      "outputs": [
        {
          "output_type": "stream",
          "name": "stdout",
          "text": [
            "1.0\n",
            "0.0\n"
          ]
        }
      ]
    },
    {
      "cell_type": "markdown",
      "source": [
        "One Hot Encode the Class vector"
      ],
      "metadata": {
        "id": "6vkes1OXb7H8"
      }
    },
    {
      "cell_type": "code",
      "source": [
        "random_num=np.random.randint(0,60000)\n",
        "print(Y_train[random_num])\n",
        "Y_train=tf.keras.utils.to_categorical(Y_train,num_classes=10)\n",
        "Y_val=tf.keras.utils.to_categorical(Y_val, num_classes=10)\n",
        "print(Y_train[random_num])"
      ],
      "metadata": {
        "colab": {
          "base_uri": "https://localhost:8080/"
        },
        "id": "eSwOd4GVcSZW",
        "outputId": "e8607190-2fe7-41c2-8a2f-8c377db9859c"
      },
      "execution_count": 25,
      "outputs": [
        {
          "output_type": "stream",
          "name": "stdout",
          "text": [
            "7\n",
            "[0. 0. 0. 0. 0. 0. 0. 1. 0. 0.]\n"
          ]
        }
      ]
    },
    {
      "cell_type": "code",
      "source": [
        "plt.figure(figsize=(10,5))\n",
        "for i in range(0,10):\n",
        "  plt.subplot(1,10,i+1)\n",
        "  random_num1=np.random.randint(60000)\n",
        "  plt.imshow(X_train[random_num1].reshape(28,28),cmap='gray')\n",
        "  plt.axis('off')\n",
        "  print('Label: ',np.argmax(Y_train[0:60000][random_num1]))\n",
        "plt.show()"
      ],
      "metadata": {
        "colab": {
          "base_uri": "https://localhost:8080/",
          "height": 252
        },
        "id": "MgkPz9Cyck2n",
        "outputId": "93fe5e9d-d1d7-4a3e-a1d3-2f8736828a62"
      },
      "execution_count": 33,
      "outputs": [
        {
          "output_type": "stream",
          "name": "stdout",
          "text": [
            "Label:  7\n",
            "Label:  7\n",
            "Label:  9\n",
            "Label:  0\n",
            "Label:  3\n",
            "Label:  6\n",
            "Label:  8\n",
            "Label:  4\n",
            "Label:  8\n",
            "Label:  9\n"
          ]
        },
        {
          "output_type": "display_data",
          "data": {
            "image/png": "[encoded data removed]",
            "text/plain": [
              "<Figure size 720x360 with 10 Axes>"
            ]
          },
          "metadata": {
            "needs_background": "light"
          }
        }
      ]
    },
    {
      "cell_type": "code",
      "source": [
        "60000*(2/3)"
      ],
      "metadata": {
        "colab": {
          "base_uri": "https://localhost:8080/"
        },
        "id": "1iej1g0mgBOZ",
        "outputId": "02bb79c0-1ce9-4e63-ad07-8f3550bb40d9"
      },
      "execution_count": 43,
      "outputs": [
        {
          "output_type": "execute_result",
          "data": {
            "text/plain": [
              "40000.0"
            ]
          },
          "metadata": {},
          "execution_count": 43
        }
      ]
    },
    {
      "cell_type": "code",
      "source": [
        "60000/256"
      ],
      "metadata": {
        "colab": {
          "base_uri": "https://localhost:8080/"
        },
        "id": "pRC4Jc1Qg1qR",
        "outputId": "f1815620-707e-47b1-ca36-ab825a6701ca"
      },
      "execution_count": 44,
      "outputs": [
        {
          "output_type": "execute_result",
          "data": {
            "text/plain": [
              "234.375"
            ]
          },
          "metadata": {},
          "execution_count": 44
        }
      ]
    },
    {
      "cell_type": "markdown",
      "source": [
        "Model 1"
      ],
      "metadata": {
        "id": "5wY5E0GDg7BP"
      }
    },
    {
      "cell_type": "code",
      "source": [
        "784/256"
      ],
      "metadata": {
        "colab": {
          "base_uri": "https://localhost:8080/"
        },
        "id": "IY6c8ACstgB5",
        "outputId": "3fd2c965-ab85-415b-8e79-77ec30ad9bda"
      },
      "execution_count": 47,
      "outputs": [
        {
          "output_type": "execute_result",
          "data": {
            "text/plain": [
              "3.0625"
            ]
          },
          "metadata": {},
          "execution_count": 47
        }
      ]
    },
    {
      "cell_type": "code",
      "source": [
        "model=Sequential()\n",
        "model.add(Dense(256, input_shape=(784,),activation='relu'))\n",
        "model.add(Dense(256,activation='relu'))\n",
        "model.add(Dense(10,activation='softmax'))"
      ],
      "metadata": {
        "id": "8NjOhhstu47k"
      },
      "execution_count": 58,
      "outputs": []
    },
    {
      "cell_type": "code",
      "source": [
        "model.compile(optimizer='sgd',loss='categorical_crossentropy',metrics=['accuracy'])"
      ],
      "metadata": {
        "id": "QqTQ7uDSwXqe"
      },
      "execution_count": 66,
      "outputs": []
    },
    {
      "cell_type": "code",
      "source": [
        "model.fit(X_train,Y_train,batch_size=500,epochs=10, verbose=1,validation_split=0.3)"
      ],
      "metadata": {
        "colab": {
          "base_uri": "https://localhost:8080/"
        },
        "id": "qpIqxe9TxCUw",
        "outputId": "c91af1b5-7980-42ab-b4ce-3e7f73734ae6"
      },
      "execution_count": 67,
      "outputs": [
        {
          "output_type": "stream",
          "name": "stdout",
          "text": [
            "Epoch 1/10\n",
            "84/84 [==============================] - 2s 22ms/step - loss: 0.2760 - accuracy: 0.9208 - val_loss: 0.2730 - val_accuracy: 0.9227\n",
            "Epoch 2/10\n",
            "84/84 [==============================] - 2s 18ms/step - loss: 0.2729 - accuracy: 0.9220 - val_loss: 0.2703 - val_accuracy: 0.9237\n",
            "Epoch 3/10\n",
            "84/84 [==============================] - 2s 18ms/step - loss: 0.2699 - accuracy: 0.9230 - val_loss: 0.2678 - val_accuracy: 0.9245\n",
            "Epoch 4/10\n",
            "84/84 [==============================] - 2s 18ms/step - loss: 0.2669 - accuracy: 0.9240 - val_loss: 0.2653 - val_accuracy: 0.9252\n",
            "Epoch 5/10\n",
            "84/84 [==============================] - 2s 18ms/step - loss: 0.2641 - accuracy: 0.9248 - val_loss: 0.2634 - val_accuracy: 0.9253\n",
            "Epoch 6/10\n",
            "84/84 [==============================] - 2s 18ms/step - loss: 0.2613 - accuracy: 0.9255 - val_loss: 0.2610 - val_accuracy: 0.9261\n",
            "Epoch 7/10\n",
            "84/84 [==============================] - 2s 18ms/step - loss: 0.2587 - accuracy: 0.9261 - val_loss: 0.2589 - val_accuracy: 0.9267\n",
            "Epoch 8/10\n",
            "84/84 [==============================] - 2s 18ms/step - loss: 0.2559 - accuracy: 0.9270 - val_loss: 0.2566 - val_accuracy: 0.9267\n",
            "Epoch 9/10\n",
            "84/84 [==============================] - 2s 18ms/step - loss: 0.2534 - accuracy: 0.9279 - val_loss: 0.2543 - val_accuracy: 0.9276\n",
            "Epoch 10/10\n",
            "84/84 [==============================] - 2s 18ms/step - loss: 0.2508 - accuracy: 0.9284 - val_loss: 0.2530 - val_accuracy: 0.9280\n"
          ]
        },
        {
          "output_type": "execute_result",
          "data": {
            "text/plain": [
              "<keras.callbacks.History at 0x7fc95741aa10>"
            ]
          },
          "metadata": {},
          "execution_count": 67
        }
      ]
    },
    {
      "cell_type": "code",
      "source": [
        "model=Sequential()\n",
        "model.add(Dense(256, input_shape=(784,),activation='relu'))\n",
        "model.add(Dense(256,activation='relu'))\n",
        "model.add(Dense(10,activation='softmax'))\n",
        "model.compile(optimizer='adam',loss='categorical_crossentropy',metrics=['accuracy'])\n",
        "model.fit(X_train,Y_train,batch_size=500,epochs=10, verbose=1,validation_split=0.3)"
      ],
      "metadata": {
        "colab": {
          "base_uri": "https://localhost:8080/"
        },
        "id": "-X5Q9l28yGgQ",
        "outputId": "b1e785e4-4f43-4abb-da88-0ee50554c7d5"
      },
      "execution_count": 68,
      "outputs": [
        {
          "output_type": "stream",
          "name": "stdout",
          "text": [
            "Epoch 1/10\n",
            "84/84 [==============================] - 2s 22ms/step - loss: 0.5013 - accuracy: 0.8633 - val_loss: 0.2262 - val_accuracy: 0.9336\n",
            "Epoch 2/10\n",
            "84/84 [==============================] - 2s 19ms/step - loss: 0.1803 - accuracy: 0.9475 - val_loss: 0.1640 - val_accuracy: 0.9514\n",
            "Epoch 3/10\n",
            "84/84 [==============================] - 2s 19ms/step - loss: 0.1244 - accuracy: 0.9640 - val_loss: 0.1366 - val_accuracy: 0.9605\n",
            "Epoch 4/10\n",
            "84/84 [==============================] - 2s 19ms/step - loss: 0.0926 - accuracy: 0.9735 - val_loss: 0.1197 - val_accuracy: 0.9629\n",
            "Epoch 5/10\n",
            "84/84 [==============================] - 2s 18ms/step - loss: 0.0714 - accuracy: 0.9790 - val_loss: 0.1239 - val_accuracy: 0.9629\n",
            "Epoch 6/10\n",
            "84/84 [==============================] - 2s 19ms/step - loss: 0.0564 - accuracy: 0.9833 - val_loss: 0.1054 - val_accuracy: 0.9685\n",
            "Epoch 7/10\n",
            "84/84 [==============================] - 2s 19ms/step - loss: 0.0430 - accuracy: 0.9876 - val_loss: 0.0966 - val_accuracy: 0.9716\n",
            "Epoch 8/10\n",
            "84/84 [==============================] - 2s 19ms/step - loss: 0.0329 - accuracy: 0.9914 - val_loss: 0.0999 - val_accuracy: 0.9716\n",
            "Epoch 9/10\n",
            "84/84 [==============================] - 2s 19ms/step - loss: 0.0284 - accuracy: 0.9924 - val_loss: 0.1051 - val_accuracy: 0.9712\n",
            "Epoch 10/10\n",
            "84/84 [==============================] - 2s 19ms/step - loss: 0.0217 - accuracy: 0.9946 - val_loss: 0.0984 - val_accuracy: 0.9734\n"
          ]
        },
        {
          "output_type": "execute_result",
          "data": {
            "text/plain": [
              "<keras.callbacks.History at 0x7fc9572a1c90>"
            ]
          },
          "metadata": {},
          "execution_count": 68
        }
      ]
    },
    {
      "cell_type": "code",
      "source": [
        "early_stopping = tf.keras.callbacks.EarlyStopping(patience=2)\n",
        "model=Sequential()\n",
        "model.add(Dense(256, input_shape=(784,),activation='relu'))\n",
        "model.add(Dense(256,activation='relu'))\n",
        "model.add(Dense(10,activation='softmax'))\n",
        "model.compile(optimizer='adam',loss='categorical_crossentropy',metrics=['accuracy'])\n",
        "model.fit(X_train,Y_train,batch_size=500,epochs=10, verbose=1,validation_split=0.3,callbacks=[early_stopping])"
      ],
      "metadata": {
        "colab": {
          "base_uri": "https://localhost:8080/"
        },
        "id": "HjjD_yMPziim",
        "outputId": "460d7c7a-3ff5-4a96-db66-4a7137b0f312"
      },
      "execution_count": 69,
      "outputs": [
        {
          "output_type": "stream",
          "name": "stdout",
          "text": [
            "Epoch 1/10\n",
            "84/84 [==============================] - 2s 21ms/step - loss: 0.5103 - accuracy: 0.8639 - val_loss: 0.2397 - val_accuracy: 0.9289\n",
            "Epoch 2/10\n",
            "84/84 [==============================] - 2s 19ms/step - loss: 0.1856 - accuracy: 0.9459 - val_loss: 0.1668 - val_accuracy: 0.9516\n",
            "Epoch 3/10\n",
            "84/84 [==============================] - 2s 19ms/step - loss: 0.1265 - accuracy: 0.9633 - val_loss: 0.1352 - val_accuracy: 0.9610\n",
            "Epoch 4/10\n",
            "84/84 [==============================] - 2s 18ms/step - loss: 0.0956 - accuracy: 0.9724 - val_loss: 0.1172 - val_accuracy: 0.9663\n",
            "Epoch 5/10\n",
            "84/84 [==============================] - 2s 18ms/step - loss: 0.0733 - accuracy: 0.9785 - val_loss: 0.1103 - val_accuracy: 0.9676\n",
            "Epoch 6/10\n",
            "84/84 [==============================] - 2s 19ms/step - loss: 0.0578 - accuracy: 0.9829 - val_loss: 0.0980 - val_accuracy: 0.9708\n",
            "Epoch 7/10\n",
            "84/84 [==============================] - 2s 19ms/step - loss: 0.0452 - accuracy: 0.9870 - val_loss: 0.1005 - val_accuracy: 0.9702\n",
            "Epoch 8/10\n",
            "84/84 [==============================] - 2s 19ms/step - loss: 0.0361 - accuracy: 0.9903 - val_loss: 0.0916 - val_accuracy: 0.9723\n",
            "Epoch 9/10\n",
            "84/84 [==============================] - 2s 19ms/step - loss: 0.0275 - accuracy: 0.9931 - val_loss: 0.0981 - val_accuracy: 0.9716\n",
            "Epoch 10/10\n",
            "84/84 [==============================] - 2s 19ms/step - loss: 0.0228 - accuracy: 0.9943 - val_loss: 0.0910 - val_accuracy: 0.9749\n"
          ]
        },
        {
          "output_type": "execute_result",
          "data": {
            "text/plain": [
              "<keras.callbacks.History at 0x7fc955407b50>"
            ]
          },
          "metadata": {},
          "execution_count": 69
        }
      ]
    },
    {
      "cell_type": "markdown",
      "source": [
        "MOdel -2"
      ],
      "metadata": {
        "id": "o8ns1anjz3K8"
      }
    },
    {
      "cell_type": "code",
      "source": [
        "def function(lr):\n",
        "  model=Sequential()\n",
        "  model.add(Dense(256,input_shape=(784,),activation='relu'))\n",
        "  model.add(Dense(256,activation='relu'))\n",
        "  model.add(Dense(10,activation='softmax'))\n",
        "  sgd=optimizers.SGD(learning_rate=lr,decay=1e-6,momentum=0.9)\n",
        "  model.compile(loss='categorical_crossentropy',optimizer=sgd,metrics=['accuracy'])\n",
        "  model.fit(X_train,Y_train,validation_split=0.3,batch_size=100, epochs=10,verbose=1)\n",
        "  return model.evaluate(X_test,Y_test)"
      ],
      "metadata": {
        "id": "2i0suFh-9Quk"
      },
      "execution_count": 76,
      "outputs": []
    },
    {
      "cell_type": "code",
      "source": [
        "function(0.1)"
      ],
      "metadata": {
        "colab": {
          "base_uri": "https://localhost:8080/"
        },
        "id": "009wGDAP_tmJ",
        "outputId": "20061ef0-334e-4020-effc-f370ec1c5cf7"
      },
      "execution_count": 77,
      "outputs": [
        {
          "output_type": "stream",
          "name": "stdout",
          "text": [
            "Epoch 1/10\n",
            "420/420 [==============================] - 4s 8ms/step - loss: 0.2796 - accuracy: 0.9133 - val_loss: 0.1361 - val_accuracy: 0.9574\n",
            "Epoch 2/10\n",
            "420/420 [==============================] - 3s 7ms/step - loss: 0.1051 - accuracy: 0.9670 - val_loss: 0.1261 - val_accuracy: 0.9614\n",
            "Epoch 3/10\n",
            "420/420 [==============================] - 3s 7ms/step - loss: 0.0752 - accuracy: 0.9765 - val_loss: 0.1096 - val_accuracy: 0.9671\n",
            "Epoch 4/10\n",
            "420/420 [==============================] - 3s 7ms/step - loss: 0.0478 - accuracy: 0.9843 - val_loss: 0.1217 - val_accuracy: 0.9659\n",
            "Epoch 5/10\n",
            "420/420 [==============================] - 3s 7ms/step - loss: 0.0321 - accuracy: 0.9900 - val_loss: 0.1118 - val_accuracy: 0.9704\n",
            "Epoch 6/10\n",
            "420/420 [==============================] - 3s 7ms/step - loss: 0.0350 - accuracy: 0.9886 - val_loss: 0.1111 - val_accuracy: 0.9717\n",
            "Epoch 7/10\n",
            "420/420 [==============================] - 3s 7ms/step - loss: 0.0208 - accuracy: 0.9932 - val_loss: 0.1001 - val_accuracy: 0.9750\n",
            "Epoch 8/10\n",
            "420/420 [==============================] - 3s 7ms/step - loss: 0.0159 - accuracy: 0.9948 - val_loss: 0.1156 - val_accuracy: 0.9736\n",
            "Epoch 9/10\n",
            "420/420 [==============================] - 3s 7ms/step - loss: 0.0108 - accuracy: 0.9965 - val_loss: 0.1062 - val_accuracy: 0.9773\n",
            "Epoch 10/10\n",
            "420/420 [==============================] - 3s 7ms/step - loss: 0.0081 - accuracy: 0.9975 - val_loss: 0.1150 - val_accuracy: 0.9768\n",
            "157/157 [==============================] - 1s 2ms/step - loss: 0.0915 - accuracy: 0.9790\n"
          ]
        },
        {
          "output_type": "execute_result",
          "data": {
            "text/plain": [
              "[0.09154105186462402, 0.9789999723434448]"
            ]
          },
          "metadata": {},
          "execution_count": 77
        }
      ]
    },
    {
      "cell_type": "markdown",
      "source": [
        "Full Model"
      ],
      "metadata": {
        "id": "DoDxjC_aABh6"
      }
    },
    {
      "cell_type": "code",
      "source": [
        "def function(lr,lambdaa):\n",
        "  model=Sequential()\n",
        "  model.add(Dense(256,input_shape=(784,),activation='relu'))\n",
        "  model.add(Dense(256,activation='relu'))\n",
        "  model.add(Dense(10,activation='softmax',kernel_regularizer=regularizers.l2(lambdaa)))\n",
        "  sgd=optimizers.SGD(learning_rate=lr,decay=1e-6,momentum=0.9)\n",
        "  model.compile(loss='categorical_crossentropy',optimizer=sgd,metrics=['accuracy'])\n",
        "  model.fit(X_train,Y_train,validation_split=0.3,batch_size=100, epochs=100,verbose=1)\n",
        "  return model.evaluate(X_test,Y_test)"
      ],
      "metadata": {
        "id": "kT0SW1xWC8uq"
      },
      "execution_count": 88,
      "outputs": []
    },
    {
      "cell_type": "code",
      "source": [
        "function(2e-2,1e-4)"
      ],
      "metadata": {
        "colab": {
          "base_uri": "https://localhost:8080/"
        },
        "id": "ycZEX0zlDhV6",
        "outputId": "b7ec693a-ee10-4930-a13f-eb34e50d2ca1"
      },
      "execution_count": 89,
      "outputs": [
        {
          "output_type": "stream",
          "name": "stdout",
          "text": [
            "Epoch 1/100\n",
            "420/420 [==============================] - 4s 7ms/step - loss: 0.3930 - accuracy: 0.8858 - val_loss: 0.1996 - val_accuracy: 0.9438\n",
            "Epoch 2/100\n",
            "420/420 [==============================] - 3s 7ms/step - loss: 0.1612 - accuracy: 0.9533 - val_loss: 0.1595 - val_accuracy: 0.9527\n",
            "Epoch 3/100\n",
            "420/420 [==============================] - 3s 7ms/step - loss: 0.1116 - accuracy: 0.9694 - val_loss: 0.1231 - val_accuracy: 0.9662\n",
            "Epoch 4/100\n",
            "420/420 [==============================] - 3s 7ms/step - loss: 0.0882 - accuracy: 0.9760 - val_loss: 0.1081 - val_accuracy: 0.9694\n",
            "Epoch 5/100\n",
            "420/420 [==============================] - 3s 7ms/step - loss: 0.0678 - accuracy: 0.9815 - val_loss: 0.1103 - val_accuracy: 0.9702\n",
            "Epoch 6/100\n",
            "420/420 [==============================] - 3s 7ms/step - loss: 0.0566 - accuracy: 0.9852 - val_loss: 0.0970 - val_accuracy: 0.9730\n",
            "Epoch 7/100\n",
            "420/420 [==============================] - 3s 7ms/step - loss: 0.0465 - accuracy: 0.9885 - val_loss: 0.0970 - val_accuracy: 0.9728\n",
            "Epoch 8/100\n",
            "420/420 [==============================] - 3s 7ms/step - loss: 0.0390 - accuracy: 0.9905 - val_loss: 0.0966 - val_accuracy: 0.9749\n",
            "Epoch 9/100\n",
            "420/420 [==============================] - 3s 7ms/step - loss: 0.0324 - accuracy: 0.9929 - val_loss: 0.0961 - val_accuracy: 0.9748\n",
            "Epoch 10/100\n",
            "420/420 [==============================] - 3s 6ms/step - loss: 0.0275 - accuracy: 0.9948 - val_loss: 0.0953 - val_accuracy: 0.9752\n",
            "Epoch 11/100\n",
            "420/420 [==============================] - 3s 7ms/step - loss: 0.0235 - accuracy: 0.9965 - val_loss: 0.0983 - val_accuracy: 0.9740\n",
            "Epoch 12/100\n",
            "420/420 [==============================] - 3s 7ms/step - loss: 0.0208 - accuracy: 0.9973 - val_loss: 0.0958 - val_accuracy: 0.9753\n",
            "Epoch 13/100\n",
            "420/420 [==============================] - 3s 7ms/step - loss: 0.0180 - accuracy: 0.9979 - val_loss: 0.0974 - val_accuracy: 0.9749\n",
            "Epoch 14/100\n",
            "420/420 [==============================] - 3s 7ms/step - loss: 0.0158 - accuracy: 0.9989 - val_loss: 0.0941 - val_accuracy: 0.9769\n",
            "Epoch 15/100\n",
            "420/420 [==============================] - 3s 7ms/step - loss: 0.0140 - accuracy: 0.9992 - val_loss: 0.0953 - val_accuracy: 0.9763\n",
            "Epoch 16/100\n",
            "420/420 [==============================] - 3s 7ms/step - loss: 0.0124 - accuracy: 0.9996 - val_loss: 0.0955 - val_accuracy: 0.9778\n",
            "Epoch 17/100\n",
            "420/420 [==============================] - 3s 7ms/step - loss: 0.0119 - accuracy: 0.9996 - val_loss: 0.1008 - val_accuracy: 0.9761\n",
            "Epoch 18/100\n",
            "420/420 [==============================] - 3s 7ms/step - loss: 0.0116 - accuracy: 0.9996 - val_loss: 0.0967 - val_accuracy: 0.9774\n",
            "Epoch 19/100\n",
            "420/420 [==============================] - 3s 7ms/step - loss: 0.0109 - accuracy: 0.9998 - val_loss: 0.0970 - val_accuracy: 0.9771\n",
            "Epoch 20/100\n",
            "420/420 [==============================] - 3s 7ms/step - loss: 0.0101 - accuracy: 0.9999 - val_loss: 0.0963 - val_accuracy: 0.9773\n",
            "Epoch 21/100\n",
            "420/420 [==============================] - 3s 7ms/step - loss: 0.0098 - accuracy: 1.0000 - val_loss: 0.0967 - val_accuracy: 0.9776\n",
            "Epoch 22/100\n",
            "420/420 [==============================] - 3s 7ms/step - loss: 0.0095 - accuracy: 1.0000 - val_loss: 0.0959 - val_accuracy: 0.9772\n",
            "Epoch 23/100\n",
            "420/420 [==============================] - 3s 7ms/step - loss: 0.0093 - accuracy: 0.9999 - val_loss: 0.0966 - val_accuracy: 0.9778\n",
            "Epoch 24/100\n",
            "420/420 [==============================] - 3s 7ms/step - loss: 0.0090 - accuracy: 1.0000 - val_loss: 0.0969 - val_accuracy: 0.9778\n",
            "Epoch 25/100\n",
            "420/420 [==============================] - 3s 7ms/step - loss: 0.0088 - accuracy: 1.0000 - val_loss: 0.0971 - val_accuracy: 0.9777\n",
            "Epoch 26/100\n",
            "420/420 [==============================] - 3s 7ms/step - loss: 0.0086 - accuracy: 1.0000 - val_loss: 0.0983 - val_accuracy: 0.9777\n",
            "Epoch 27/100\n",
            "420/420 [==============================] - 3s 7ms/step - loss: 0.0085 - accuracy: 1.0000 - val_loss: 0.0979 - val_accuracy: 0.9777\n",
            "Epoch 28/100\n",
            "420/420 [==============================] - 3s 7ms/step - loss: 0.0083 - accuracy: 1.0000 - val_loss: 0.0983 - val_accuracy: 0.9779\n",
            "Epoch 29/100\n",
            "420/420 [==============================] - 3s 7ms/step - loss: 0.0082 - accuracy: 1.0000 - val_loss: 0.0979 - val_accuracy: 0.9769\n",
            "Epoch 30/100\n",
            "420/420 [==============================] - 3s 7ms/step - loss: 0.0080 - accuracy: 1.0000 - val_loss: 0.0978 - val_accuracy: 0.9781\n",
            "Epoch 31/100\n",
            "420/420 [==============================] - 3s 7ms/step - loss: 0.0079 - accuracy: 1.0000 - val_loss: 0.0979 - val_accuracy: 0.9771\n",
            "Epoch 32/100\n",
            "420/420 [==============================] - 3s 7ms/step - loss: 0.0078 - accuracy: 1.0000 - val_loss: 0.0978 - val_accuracy: 0.9777\n",
            "Epoch 33/100\n",
            "420/420 [==============================] - 3s 7ms/step - loss: 0.0076 - accuracy: 1.0000 - val_loss: 0.0981 - val_accuracy: 0.9778\n",
            "Epoch 34/100\n",
            "420/420 [==============================] - 3s 7ms/step - loss: 0.0076 - accuracy: 1.0000 - val_loss: 0.0970 - val_accuracy: 0.9776\n",
            "Epoch 35/100\n",
            "420/420 [==============================] - 3s 8ms/step - loss: 0.0074 - accuracy: 1.0000 - val_loss: 0.0981 - val_accuracy: 0.9774\n",
            "Epoch 36/100\n",
            "420/420 [==============================] - 3s 7ms/step - loss: 0.0073 - accuracy: 1.0000 - val_loss: 0.0972 - val_accuracy: 0.9781\n",
            "Epoch 37/100\n",
            "420/420 [==============================] - 3s 7ms/step - loss: 0.0072 - accuracy: 1.0000 - val_loss: 0.0979 - val_accuracy: 0.9777\n",
            "Epoch 38/100\n",
            "420/420 [==============================] - 3s 7ms/step - loss: 0.0071 - accuracy: 1.0000 - val_loss: 0.0974 - val_accuracy: 0.9773\n",
            "Epoch 39/100\n",
            "420/420 [==============================] - 3s 7ms/step - loss: 0.0070 - accuracy: 1.0000 - val_loss: 0.0971 - val_accuracy: 0.9777\n",
            "Epoch 40/100\n",
            "420/420 [==============================] - 3s 7ms/step - loss: 0.0069 - accuracy: 1.0000 - val_loss: 0.0972 - val_accuracy: 0.9779\n",
            "Epoch 41/100\n",
            "420/420 [==============================] - 3s 7ms/step - loss: 0.0068 - accuracy: 1.0000 - val_loss: 0.0974 - val_accuracy: 0.9777\n",
            "Epoch 42/100\n",
            "420/420 [==============================] - 3s 7ms/step - loss: 0.0067 - accuracy: 1.0000 - val_loss: 0.0970 - val_accuracy: 0.9779\n",
            "Epoch 43/100\n",
            "420/420 [==============================] - 3s 7ms/step - loss: 0.0066 - accuracy: 1.0000 - val_loss: 0.0975 - val_accuracy: 0.9780\n",
            "Epoch 44/100\n",
            "420/420 [==============================] - 3s 7ms/step - loss: 0.0066 - accuracy: 1.0000 - val_loss: 0.0973 - val_accuracy: 0.9785\n",
            "Epoch 45/100\n",
            "420/420 [==============================] - 3s 7ms/step - loss: 0.0065 - accuracy: 1.0000 - val_loss: 0.0975 - val_accuracy: 0.9777\n",
            "Epoch 46/100\n",
            "420/420 [==============================] - 3s 7ms/step - loss: 0.0064 - accuracy: 1.0000 - val_loss: 0.0974 - val_accuracy: 0.9777\n",
            "Epoch 47/100\n",
            "420/420 [==============================] - 3s 7ms/step - loss: 0.0063 - accuracy: 1.0000 - val_loss: 0.0972 - val_accuracy: 0.9778\n",
            "Epoch 48/100\n",
            "420/420 [==============================] - 3s 7ms/step - loss: 0.0062 - accuracy: 1.0000 - val_loss: 0.0966 - val_accuracy: 0.9782\n",
            "Epoch 49/100\n",
            "420/420 [==============================] - 3s 7ms/step - loss: 0.0062 - accuracy: 1.0000 - val_loss: 0.0978 - val_accuracy: 0.9778\n",
            "Epoch 50/100\n",
            "420/420 [==============================] - 3s 7ms/step - loss: 0.0061 - accuracy: 1.0000 - val_loss: 0.0965 - val_accuracy: 0.9784\n",
            "Epoch 51/100\n",
            "420/420 [==============================] - 3s 7ms/step - loss: 0.0060 - accuracy: 1.0000 - val_loss: 0.0970 - val_accuracy: 0.9782\n",
            "Epoch 52/100\n",
            "420/420 [==============================] - 3s 7ms/step - loss: 0.0060 - accuracy: 1.0000 - val_loss: 0.0970 - val_accuracy: 0.9780\n",
            "Epoch 53/100\n",
            "420/420 [==============================] - 3s 7ms/step - loss: 0.0059 - accuracy: 1.0000 - val_loss: 0.0962 - val_accuracy: 0.9786\n",
            "Epoch 54/100\n",
            "420/420 [==============================] - 3s 7ms/step - loss: 0.0058 - accuracy: 1.0000 - val_loss: 0.0976 - val_accuracy: 0.9779\n",
            "Epoch 55/100\n",
            "420/420 [==============================] - 3s 7ms/step - loss: 0.0058 - accuracy: 1.0000 - val_loss: 0.0965 - val_accuracy: 0.9779\n",
            "Epoch 56/100\n",
            "420/420 [==============================] - 3s 7ms/step - loss: 0.0057 - accuracy: 1.0000 - val_loss: 0.0969 - val_accuracy: 0.9777\n",
            "Epoch 57/100\n",
            "420/420 [==============================] - 3s 7ms/step - loss: 0.0057 - accuracy: 1.0000 - val_loss: 0.0965 - val_accuracy: 0.9782\n",
            "Epoch 58/100\n",
            "420/420 [==============================] - 3s 7ms/step - loss: 0.0056 - accuracy: 1.0000 - val_loss: 0.0969 - val_accuracy: 0.9777\n",
            "Epoch 59/100\n",
            "420/420 [==============================] - 3s 7ms/step - loss: 0.0055 - accuracy: 1.0000 - val_loss: 0.0959 - val_accuracy: 0.9779\n",
            "Epoch 60/100\n",
            "420/420 [==============================] - 3s 7ms/step - loss: 0.0055 - accuracy: 1.0000 - val_loss: 0.0959 - val_accuracy: 0.9780\n",
            "Epoch 61/100\n",
            "420/420 [==============================] - 3s 7ms/step - loss: 0.0054 - accuracy: 1.0000 - val_loss: 0.0961 - val_accuracy: 0.9780\n",
            "Epoch 62/100\n",
            "420/420 [==============================] - 3s 7ms/step - loss: 0.0054 - accuracy: 1.0000 - val_loss: 0.0962 - val_accuracy: 0.9777\n",
            "Epoch 63/100\n",
            "420/420 [==============================] - 3s 7ms/step - loss: 0.0053 - accuracy: 1.0000 - val_loss: 0.0961 - val_accuracy: 0.9779\n",
            "Epoch 64/100\n",
            "420/420 [==============================] - 3s 7ms/step - loss: 0.0053 - accuracy: 1.0000 - val_loss: 0.0962 - val_accuracy: 0.9781\n",
            "Epoch 65/100\n",
            "420/420 [==============================] - 3s 7ms/step - loss: 0.0052 - accuracy: 1.0000 - val_loss: 0.0959 - val_accuracy: 0.9778\n",
            "Epoch 66/100\n",
            "420/420 [==============================] - 3s 7ms/step - loss: 0.0052 - accuracy: 1.0000 - val_loss: 0.0963 - val_accuracy: 0.9782\n",
            "Epoch 67/100\n",
            "420/420 [==============================] - 3s 7ms/step - loss: 0.0051 - accuracy: 1.0000 - val_loss: 0.0960 - val_accuracy: 0.9776\n",
            "Epoch 68/100\n",
            "420/420 [==============================] - 3s 7ms/step - loss: 0.0051 - accuracy: 1.0000 - val_loss: 0.0960 - val_accuracy: 0.9777\n",
            "Epoch 69/100\n",
            "420/420 [==============================] - 3s 7ms/step - loss: 0.0050 - accuracy: 1.0000 - val_loss: 0.0959 - val_accuracy: 0.9779\n",
            "Epoch 70/100\n",
            "420/420 [==============================] - 3s 7ms/step - loss: 0.0050 - accuracy: 1.0000 - val_loss: 0.0956 - val_accuracy: 0.9778\n",
            "Epoch 71/100\n",
            "420/420 [==============================] - 3s 7ms/step - loss: 0.0049 - accuracy: 1.0000 - val_loss: 0.0961 - val_accuracy: 0.9778\n",
            "Epoch 72/100\n",
            "420/420 [==============================] - 3s 7ms/step - loss: 0.0049 - accuracy: 1.0000 - val_loss: 0.0964 - val_accuracy: 0.9778\n",
            "Epoch 73/100\n",
            "420/420 [==============================] - 3s 7ms/step - loss: 0.0049 - accuracy: 1.0000 - val_loss: 0.0958 - val_accuracy: 0.9778\n",
            "Epoch 74/100\n",
            "420/420 [==============================] - 3s 7ms/step - loss: 0.0048 - accuracy: 1.0000 - val_loss: 0.0956 - val_accuracy: 0.9782\n",
            "Epoch 75/100\n",
            "420/420 [==============================] - 3s 7ms/step - loss: 0.0048 - accuracy: 1.0000 - val_loss: 0.0956 - val_accuracy: 0.9780\n",
            "Epoch 76/100\n",
            "420/420 [==============================] - 3s 7ms/step - loss: 0.0047 - accuracy: 1.0000 - val_loss: 0.0957 - val_accuracy: 0.9781\n",
            "Epoch 77/100\n",
            "420/420 [==============================] - 3s 7ms/step - loss: 0.0047 - accuracy: 1.0000 - val_loss: 0.0957 - val_accuracy: 0.9783\n",
            "Epoch 78/100\n",
            "420/420 [==============================] - 3s 7ms/step - loss: 0.0047 - accuracy: 1.0000 - val_loss: 0.0957 - val_accuracy: 0.9776\n",
            "Epoch 79/100\n",
            "420/420 [==============================] - 3s 7ms/step - loss: 0.0046 - accuracy: 1.0000 - val_loss: 0.0953 - val_accuracy: 0.9781\n",
            "Epoch 80/100\n",
            "420/420 [==============================] - 3s 7ms/step - loss: 0.0046 - accuracy: 1.0000 - val_loss: 0.0958 - val_accuracy: 0.9779\n",
            "Epoch 81/100\n",
            "420/420 [==============================] - 3s 7ms/step - loss: 0.0046 - accuracy: 1.0000 - val_loss: 0.0959 - val_accuracy: 0.9778\n",
            "Epoch 82/100\n",
            "420/420 [==============================] - 3s 7ms/step - loss: 0.0045 - accuracy: 1.0000 - val_loss: 0.0953 - val_accuracy: 0.9782\n",
            "Epoch 83/100\n",
            "420/420 [==============================] - 3s 7ms/step - loss: 0.0045 - accuracy: 1.0000 - val_loss: 0.0966 - val_accuracy: 0.9777\n",
            "Epoch 84/100\n",
            "420/420 [==============================] - 3s 7ms/step - loss: 0.0045 - accuracy: 1.0000 - val_loss: 0.0958 - val_accuracy: 0.9783\n",
            "Epoch 85/100\n",
            "420/420 [==============================] - 3s 7ms/step - loss: 0.0044 - accuracy: 1.0000 - val_loss: 0.0960 - val_accuracy: 0.9779\n",
            "Epoch 86/100\n",
            "420/420 [==============================] - 3s 7ms/step - loss: 0.0044 - accuracy: 1.0000 - val_loss: 0.0957 - val_accuracy: 0.9783\n",
            "Epoch 87/100\n",
            "420/420 [==============================] - 3s 7ms/step - loss: 0.0044 - accuracy: 1.0000 - val_loss: 0.0958 - val_accuracy: 0.9783\n",
            "Epoch 88/100\n",
            "420/420 [==============================] - 3s 7ms/step - loss: 0.0043 - accuracy: 1.0000 - val_loss: 0.0961 - val_accuracy: 0.9781\n",
            "Epoch 89/100\n",
            "420/420 [==============================] - 3s 7ms/step - loss: 0.0043 - accuracy: 1.0000 - val_loss: 0.0957 - val_accuracy: 0.9779\n",
            "Epoch 90/100\n",
            "420/420 [==============================] - 3s 7ms/step - loss: 0.0043 - accuracy: 1.0000 - val_loss: 0.0957 - val_accuracy: 0.9778\n",
            "Epoch 91/100\n",
            "420/420 [==============================] - 3s 7ms/step - loss: 0.0042 - accuracy: 1.0000 - val_loss: 0.0964 - val_accuracy: 0.9779\n",
            "Epoch 92/100\n",
            "420/420 [==============================] - 3s 7ms/step - loss: 0.0042 - accuracy: 1.0000 - val_loss: 0.0955 - val_accuracy: 0.9786\n",
            "Epoch 93/100\n",
            "420/420 [==============================] - 3s 7ms/step - loss: 0.0042 - accuracy: 1.0000 - val_loss: 0.0957 - val_accuracy: 0.9778\n",
            "Epoch 94/100\n",
            "420/420 [==============================] - 3s 7ms/step - loss: 0.0041 - accuracy: 1.0000 - val_loss: 0.0957 - val_accuracy: 0.9782\n",
            "Epoch 95/100\n",
            "420/420 [==============================] - 3s 7ms/step - loss: 0.0041 - accuracy: 1.0000 - val_loss: 0.0955 - val_accuracy: 0.9782\n",
            "Epoch 96/100\n",
            "420/420 [==============================] - 3s 7ms/step - loss: 0.0041 - accuracy: 1.0000 - val_loss: 0.0954 - val_accuracy: 0.9781\n",
            "Epoch 97/100\n",
            "420/420 [==============================] - 3s 7ms/step - loss: 0.0041 - accuracy: 1.0000 - val_loss: 0.0956 - val_accuracy: 0.9783\n",
            "Epoch 98/100\n",
            "420/420 [==============================] - 3s 6ms/step - loss: 0.0040 - accuracy: 1.0000 - val_loss: 0.0963 - val_accuracy: 0.9780\n",
            "Epoch 99/100\n",
            "420/420 [==============================] - 3s 7ms/step - loss: 0.0040 - accuracy: 1.0000 - val_loss: 0.0956 - val_accuracy: 0.9780\n",
            "Epoch 100/100\n",
            "420/420 [==============================] - 3s 7ms/step - loss: 0.0040 - accuracy: 1.0000 - val_loss: 0.0958 - val_accuracy: 0.9782\n",
            "157/157 [==============================] - 1s 2ms/step - loss: 0.0772 - accuracy: 0.9804\n"
          ]
        },
        {
          "output_type": "execute_result",
          "data": {
            "text/plain": [
              "[0.07723972946405411, 0.980400025844574]"
            ]
          },
          "metadata": {},
          "execution_count": 89
        }
      ]
    },
    {
      "cell_type": "code",
      "source": [
        ""
      ],
      "metadata": {
        "id": "H8KLLPBwDkb6"
      },
      "execution_count": null,
      "outputs": []
    }
  ]
}