{
  "nbformat": 4,
  "nbformat_minor": 0,
  "metadata": {
    "colab": {
      "name": "Week 2 content Mnist dataset.ipynb",
      "provenance": [],
      "collapsed_sections": [],
      "authorship_tag": "ABX9TyMqFGrPmqlLqkiSefoaTfnv",
      "include_colab_link": true
    },
    "kernelspec": {
      "name": "python3",
      "display_name": "Python 3"
    },
    "language_info": {
      "name": "python"
    },
    "accelerator": "TPU"
  },
  "cells": [
    {
      "cell_type": "markdown",
      "metadata": {
        "id": "view-in-github",
        "colab_type": "text"
      },
      "source": [
        "<a href=\"https://colab.research.google.com/github/MarcelJonesRaymond/Neural-Network-and-Deep-Learning/blob/main/Week_2_content_Mnist_dataset.ipynb\" target=\"_parent\"><img src=\"https://colab.research.google.com/assets/colab-badge.svg\" alt=\"Open In Colab\"/></a>"
      ]
    },
    {
      "cell_type": "code",
      "execution_count": 1,
      "metadata": {
        "colab": {
          "base_uri": "https://localhost:8080/",
          "height": 35
        },
        "id": "RDpzKBz2Qk_s",
        "outputId": "a7b6bc3c-4614-427e-abb8-be7d588b88a7"
      },
      "outputs": [
        {
          "output_type": "execute_result",
          "data": {
            "application/vnd.google.colaboratory.intrinsic+json": {
              "type": "string"
            },
            "text/plain": [
              "'2.7.0'"
            ]
          },
          "metadata": {},
          "execution_count": 1
        }
      ],
      "source": [
        "import tensorflow as tf\n",
        "tf.__version__"
      ]
    },
    {
      "cell_type": "code",
      "source": [
        "import numpy as np\n",
        "import pandas as pd\n",
        "import seaborn as sns\n",
        "import random\n",
        "random.seed(0)\n",
        "import warnings\n",
        "warnings.filterwarnings('ignore')\n",
        "import matplotlib.pyplot as plt"
      ],
      "metadata": {
        "id": "Rkc9YsQ1UIiA"
      },
      "execution_count": 10,
      "outputs": []
    },
    {
      "cell_type": "code",
      "source": [
        "from tensorflow.keras.datasets import mnist"
      ],
      "metadata": {
        "id": "6rrLaazDUj4X"
      },
      "execution_count": 4,
      "outputs": []
    },
    {
      "cell_type": "code",
      "source": [
        "(x_train,y_train),(x_test,y_test)=mnist.load_data()"
      ],
      "metadata": {
        "id": "m-cjekEcUq76"
      },
      "execution_count": 7,
      "outputs": []
    },
    {
      "cell_type": "code",
      "source": [
        "display(x_train.shape,x_test.shape)"
      ],
      "metadata": {
        "colab": {
          "base_uri": "https://localhost:8080/",
          "height": 52
        },
        "id": "BF3Ln3UYVEX9",
        "outputId": "720a7897-00c5-4bbd-f5fc-455cb693f6cd"
      },
      "execution_count": 8,
      "outputs": [
        {
          "output_type": "display_data",
          "data": {
            "text/plain": [
              "(60000, 28, 28)"
            ]
          },
          "metadata": {}
        },
        {
          "output_type": "display_data",
          "data": {
            "text/plain": [
              "(10000, 28, 28)"
            ]
          },
          "metadata": {}
        }
      ]
    },
    {
      "cell_type": "code",
      "source": [
        "display(y_train.shape,y_test.shape)"
      ],
      "metadata": {
        "colab": {
          "base_uri": "https://localhost:8080/",
          "height": 52
        },
        "id": "EX1qFVbhVIlT",
        "outputId": "9bada28d-e74f-4f9a-b93c-55e3ca6ffd46"
      },
      "execution_count": 9,
      "outputs": [
        {
          "output_type": "display_data",
          "data": {
            "text/plain": [
              "(60000,)"
            ]
          },
          "metadata": {}
        },
        {
          "output_type": "display_data",
          "data": {
            "text/plain": [
              "(10000,)"
            ]
          },
          "metadata": {}
        }
      ]
    },
    {
      "cell_type": "code",
      "source": [
        "print('Label: ',y_train[0])\n",
        "plt.imshow(x_train[0],cmap='gray')"
      ],
      "metadata": {
        "colab": {
          "base_uri": "https://localhost:8080/",
          "height": 300
        },
        "id": "0gyMNgFrVQN7",
        "outputId": "f8996468-daf8-48bf-92ef-2e0148ff40cd"
      },
      "execution_count": 12,
      "outputs": [
        {
          "output_type": "stream",
          "name": "stdout",
          "text": [
            "Label:  5\n"
          ]
        },
        {
          "output_type": "execute_result",
          "data": {
            "text/plain": [
              "<matplotlib.image.AxesImage at 0x7f2fb0026990>"
            ]
          },
          "metadata": {},
          "execution_count": 12
        },
        {
          "output_type": "display_data",
          "data": {
            "image/png": "[encoded data removed]",
            "text/plain": [
              "<Figure size 432x288 with 1 Axes>"
            ]
          },
          "metadata": {
            "needs_background": "light"
          }
        }
      ]
    },
    {
      "cell_type": "code",
      "source": [
        "print('Label: ',y_train[500])\n",
        "plt.imshow(x_train[500],cmap='gray')"
      ],
      "metadata": {
        "colab": {
          "base_uri": "https://localhost:8080/",
          "height": 300
        },
        "id": "g378ZfgXVtTR",
        "outputId": "c027a3c2-18b6-4962-c121-15da3caa586b"
      },
      "execution_count": 13,
      "outputs": [
        {
          "output_type": "stream",
          "name": "stdout",
          "text": [
            "Label:  3\n"
          ]
        },
        {
          "output_type": "execute_result",
          "data": {
            "text/plain": [
              "<matplotlib.image.AxesImage at 0x7f2fb3a68750>"
            ]
          },
          "metadata": {},
          "execution_count": 13
        },
        {
          "output_type": "display_data",
          "data": {
            "image/png": "[encoded data removed]",
            "text/plain": [
              "<Figure size 432x288 with 1 Axes>"
            ]
          },
          "metadata": {
            "needs_background": "light"
          }
        }
      ]
    },
    {
      "cell_type": "markdown",
      "source": [
        "Reshape train and test sets into compatible shapes\n",
        "Sequential model in tensorflow.keras expects data to be in the format (n_e, n_h, n_w, n_c)\n",
        "n_e= number of examples, n_h = height, n_w = width, n_c = number of channels\n",
        "do not reshape labels"
      ],
      "metadata": {
        "id": "bidYZNNLWdH3"
      }
    },
    {
      "cell_type": "code",
      "source": [
        "X_train=x_train.reshape(x_train.shape[0],28,28,1)\n",
        "X_test=x_test.reshape(x_test.shape[0],28,28,1)"
      ],
      "metadata": {
        "id": "yozPEA8wWOaM"
      },
      "execution_count": 14,
      "outputs": []
    },
    {
      "cell_type": "code",
      "source": [
        "display(X_train.shape,X_test.shape)"
      ],
      "metadata": {
        "colab": {
          "base_uri": "https://localhost:8080/",
          "height": 52
        },
        "id": "QbFcIr_9WwFO",
        "outputId": "a21cbb8f-498c-48a2-e5e6-b1b5601f8e5f"
      },
      "execution_count": 16,
      "outputs": [
        {
          "output_type": "display_data",
          "data": {
            "text/plain": [
              "(60000, 28, 28, 1)"
            ]
          },
          "metadata": {}
        },
        {
          "output_type": "display_data",
          "data": {
            "text/plain": [
              "(10000, 28, 28, 1)"
            ]
          },
          "metadata": {}
        }
      ]
    },
    {
      "cell_type": "markdown",
      "source": [
        "Normalizing the data"
      ],
      "metadata": {
        "id": "5MuaZzAmXSoz"
      }
    },
    {
      "cell_type": "code",
      "source": [
        "X_train = X_train.astype('float32')\n",
        "X_test = X_test.astype('float32')\n",
        "\n",
        "X_train /= 255\n",
        "X_test /= 255"
      ],
      "metadata": {
        "id": "KEjsw_dXWxF0"
      },
      "execution_count": 18,
      "outputs": []
    },
    {
      "cell_type": "code",
      "source": [
        "from tensorflow.keras.utils import to_categorical\n",
        "Y_train=to_categorical(y_train,num_classes=10)\n",
        "Y_test=to_categorical(y_test,num_classes=10)"
      ],
      "metadata": {
        "id": "tA7E39GoXLT9"
      },
      "execution_count": 25,
      "outputs": []
    },
    {
      "cell_type": "code",
      "source": [
        "from tensorflow.keras.models import Sequential\n",
        "from tensorflow.keras.layers import Flatten,Dense"
      ],
      "metadata": {
        "id": "abAUEg5Oak9Q"
      },
      "execution_count": 27,
      "outputs": []
    },
    {
      "cell_type": "code",
      "source": [
        "model=Sequential()\n",
        "model.add(Flatten())\n",
        "model.add(Dense(128,activation='relu'))\n",
        "model.add(Dense(10,activation='softmax'))"
      ],
      "metadata": {
        "id": "PqmB7ne5b32G"
      },
      "execution_count": 28,
      "outputs": []
    },
    {
      "cell_type": "code",
      "source": [
        "model.compile(optimizer='SGD',loss='categorical_crossentropy',metrics=['accuracy'])\n",
        "model.fit(X_train,Y_train,validation_data=(X_test,Y_test),epochs=100,batch_size=100)"
      ],
      "metadata": {
        "colab": {
          "base_uri": "https://localhost:8080/"
        },
        "id": "GTD0KiU9ctAu",
        "outputId": "2c74cf22-8d15-42cb-e1e2-2973ee7f69e0"
      },
      "execution_count": 29,
      "outputs": [
        {
          "output_type": "stream",
          "name": "stdout",
          "text": [
            "Epoch 1/100\n",
            "600/600 [==============================] - 4s 6ms/step - loss: 1.1098 - accuracy: 0.7278 - val_loss: 0.5719 - val_accuracy: 0.8651\n",
            "Epoch 2/100\n",
            "600/600 [==============================] - 3s 5ms/step - loss: 0.5018 - accuracy: 0.8714 - val_loss: 0.4140 - val_accuracy: 0.8909\n",
            "Epoch 3/100\n",
            "600/600 [==============================] - 3s 5ms/step - loss: 0.4056 - accuracy: 0.8904 - val_loss: 0.3582 - val_accuracy: 0.9044\n",
            "Epoch 4/100\n",
            "600/600 [==============================] - 3s 5ms/step - loss: 0.3622 - accuracy: 0.8998 - val_loss: 0.3280 - val_accuracy: 0.9103\n",
            "Epoch 5/100\n",
            "600/600 [==============================] - 3s 5ms/step - loss: 0.3353 - accuracy: 0.9058 - val_loss: 0.3071 - val_accuracy: 0.9141\n",
            "Epoch 6/100\n",
            "600/600 [==============================] - 3s 5ms/step - loss: 0.3158 - accuracy: 0.9106 - val_loss: 0.2916 - val_accuracy: 0.9192\n",
            "Epoch 7/100\n",
            "600/600 [==============================] - 3s 5ms/step - loss: 0.3001 - accuracy: 0.9146 - val_loss: 0.2793 - val_accuracy: 0.9216\n",
            "Epoch 8/100\n",
            "600/600 [==============================] - 3s 5ms/step - loss: 0.2871 - accuracy: 0.9185 - val_loss: 0.2685 - val_accuracy: 0.9245\n",
            "Epoch 9/100\n",
            "600/600 [==============================] - 3s 5ms/step - loss: 0.2760 - accuracy: 0.9215 - val_loss: 0.2600 - val_accuracy: 0.9266\n",
            "Epoch 10/100\n",
            "600/600 [==============================] - 3s 5ms/step - loss: 0.2661 - accuracy: 0.9246 - val_loss: 0.2518 - val_accuracy: 0.9293\n",
            "Epoch 11/100\n",
            "600/600 [==============================] - 3s 5ms/step - loss: 0.2572 - accuracy: 0.9266 - val_loss: 0.2434 - val_accuracy: 0.9304\n",
            "Epoch 12/100\n",
            "600/600 [==============================] - 3s 5ms/step - loss: 0.2490 - accuracy: 0.9291 - val_loss: 0.2372 - val_accuracy: 0.9319\n",
            "Epoch 13/100\n",
            "600/600 [==============================] - 3s 5ms/step - loss: 0.2415 - accuracy: 0.9312 - val_loss: 0.2310 - val_accuracy: 0.9350\n",
            "Epoch 14/100\n",
            "600/600 [==============================] - 3s 5ms/step - loss: 0.2345 - accuracy: 0.9337 - val_loss: 0.2247 - val_accuracy: 0.9361\n",
            "Epoch 15/100\n",
            "600/600 [==============================] - 3s 5ms/step - loss: 0.2281 - accuracy: 0.9356 - val_loss: 0.2193 - val_accuracy: 0.9369\n",
            "Epoch 16/100\n",
            "600/600 [==============================] - 3s 5ms/step - loss: 0.2219 - accuracy: 0.9373 - val_loss: 0.2142 - val_accuracy: 0.9379\n",
            "Epoch 17/100\n",
            "600/600 [==============================] - 3s 5ms/step - loss: 0.2162 - accuracy: 0.9387 - val_loss: 0.2092 - val_accuracy: 0.9401\n",
            "Epoch 18/100\n",
            "600/600 [==============================] - 3s 5ms/step - loss: 0.2108 - accuracy: 0.9405 - val_loss: 0.2042 - val_accuracy: 0.9409\n",
            "Epoch 19/100\n",
            "600/600 [==============================] - 3s 5ms/step - loss: 0.2057 - accuracy: 0.9421 - val_loss: 0.1993 - val_accuracy: 0.9425\n",
            "Epoch 20/100\n",
            "600/600 [==============================] - 3s 5ms/step - loss: 0.2007 - accuracy: 0.9435 - val_loss: 0.1955 - val_accuracy: 0.9443\n",
            "Epoch 21/100\n",
            "600/600 [==============================] - 3s 5ms/step - loss: 0.1961 - accuracy: 0.9452 - val_loss: 0.1908 - val_accuracy: 0.9447\n",
            "Epoch 22/100\n",
            "600/600 [==============================] - 3s 5ms/step - loss: 0.1916 - accuracy: 0.9462 - val_loss: 0.1873 - val_accuracy: 0.9461\n",
            "Epoch 23/100\n",
            "600/600 [==============================] - 3s 5ms/step - loss: 0.1873 - accuracy: 0.9476 - val_loss: 0.1837 - val_accuracy: 0.9465\n",
            "Epoch 24/100\n",
            "600/600 [==============================] - 3s 5ms/step - loss: 0.1834 - accuracy: 0.9484 - val_loss: 0.1800 - val_accuracy: 0.9468\n",
            "Epoch 25/100\n",
            "600/600 [==============================] - 3s 5ms/step - loss: 0.1795 - accuracy: 0.9498 - val_loss: 0.1764 - val_accuracy: 0.9494\n",
            "Epoch 26/100\n",
            "600/600 [==============================] - 3s 5ms/step - loss: 0.1758 - accuracy: 0.9504 - val_loss: 0.1734 - val_accuracy: 0.9490\n",
            "Epoch 27/100\n",
            "600/600 [==============================] - 3s 5ms/step - loss: 0.1721 - accuracy: 0.9518 - val_loss: 0.1701 - val_accuracy: 0.9503\n",
            "Epoch 28/100\n",
            "600/600 [==============================] - 3s 5ms/step - loss: 0.1688 - accuracy: 0.9526 - val_loss: 0.1673 - val_accuracy: 0.9519\n",
            "Epoch 29/100\n",
            "600/600 [==============================] - 3s 5ms/step - loss: 0.1656 - accuracy: 0.9534 - val_loss: 0.1644 - val_accuracy: 0.9525\n",
            "Epoch 30/100\n",
            "600/600 [==============================] - 3s 5ms/step - loss: 0.1624 - accuracy: 0.9547 - val_loss: 0.1623 - val_accuracy: 0.9536\n",
            "Epoch 31/100\n",
            "600/600 [==============================] - 3s 5ms/step - loss: 0.1594 - accuracy: 0.9553 - val_loss: 0.1596 - val_accuracy: 0.9540\n",
            "Epoch 32/100\n",
            "600/600 [==============================] - 3s 5ms/step - loss: 0.1564 - accuracy: 0.9565 - val_loss: 0.1568 - val_accuracy: 0.9551\n",
            "Epoch 33/100\n",
            "600/600 [==============================] - 3s 5ms/step - loss: 0.1536 - accuracy: 0.9572 - val_loss: 0.1534 - val_accuracy: 0.9557\n",
            "Epoch 34/100\n",
            "600/600 [==============================] - 3s 5ms/step - loss: 0.1509 - accuracy: 0.9578 - val_loss: 0.1520 - val_accuracy: 0.9562\n",
            "Epoch 35/100\n",
            "600/600 [==============================] - 3s 5ms/step - loss: 0.1482 - accuracy: 0.9589 - val_loss: 0.1494 - val_accuracy: 0.9568\n",
            "Epoch 36/100\n",
            "600/600 [==============================] - 3s 5ms/step - loss: 0.1457 - accuracy: 0.9596 - val_loss: 0.1474 - val_accuracy: 0.9575\n",
            "Epoch 37/100\n",
            "600/600 [==============================] - 3s 5ms/step - loss: 0.1432 - accuracy: 0.9602 - val_loss: 0.1457 - val_accuracy: 0.9577\n",
            "Epoch 38/100\n",
            "600/600 [==============================] - 3s 5ms/step - loss: 0.1409 - accuracy: 0.9609 - val_loss: 0.1439 - val_accuracy: 0.9594\n",
            "Epoch 39/100\n",
            "600/600 [==============================] - 3s 5ms/step - loss: 0.1385 - accuracy: 0.9614 - val_loss: 0.1412 - val_accuracy: 0.9597\n",
            "Epoch 40/100\n",
            "600/600 [==============================] - 3s 5ms/step - loss: 0.1363 - accuracy: 0.9623 - val_loss: 0.1391 - val_accuracy: 0.9599\n",
            "Epoch 41/100\n",
            "600/600 [==============================] - 3s 5ms/step - loss: 0.1341 - accuracy: 0.9625 - val_loss: 0.1373 - val_accuracy: 0.9607\n",
            "Epoch 42/100\n",
            "600/600 [==============================] - 3s 5ms/step - loss: 0.1320 - accuracy: 0.9632 - val_loss: 0.1353 - val_accuracy: 0.9615\n",
            "Epoch 43/100\n",
            "600/600 [==============================] - 3s 5ms/step - loss: 0.1300 - accuracy: 0.9638 - val_loss: 0.1337 - val_accuracy: 0.9627\n",
            "Epoch 44/100\n",
            "600/600 [==============================] - 3s 5ms/step - loss: 0.1281 - accuracy: 0.9643 - val_loss: 0.1320 - val_accuracy: 0.9618\n",
            "Epoch 45/100\n",
            "600/600 [==============================] - 3s 5ms/step - loss: 0.1261 - accuracy: 0.9649 - val_loss: 0.1307 - val_accuracy: 0.9622\n",
            "Epoch 46/100\n",
            "600/600 [==============================] - 3s 5ms/step - loss: 0.1243 - accuracy: 0.9655 - val_loss: 0.1290 - val_accuracy: 0.9629\n",
            "Epoch 47/100\n",
            "600/600 [==============================] - 3s 5ms/step - loss: 0.1225 - accuracy: 0.9662 - val_loss: 0.1281 - val_accuracy: 0.9636\n",
            "Epoch 48/100\n",
            "600/600 [==============================] - 3s 5ms/step - loss: 0.1207 - accuracy: 0.9663 - val_loss: 0.1265 - val_accuracy: 0.9635\n",
            "Epoch 49/100\n",
            "600/600 [==============================] - 3s 5ms/step - loss: 0.1191 - accuracy: 0.9669 - val_loss: 0.1252 - val_accuracy: 0.9636\n",
            "Epoch 50/100\n",
            "600/600 [==============================] - 3s 5ms/step - loss: 0.1174 - accuracy: 0.9676 - val_loss: 0.1236 - val_accuracy: 0.9645\n",
            "Epoch 51/100\n",
            "600/600 [==============================] - 3s 5ms/step - loss: 0.1157 - accuracy: 0.9680 - val_loss: 0.1224 - val_accuracy: 0.9647\n",
            "Epoch 52/100\n",
            "600/600 [==============================] - 3s 5ms/step - loss: 0.1142 - accuracy: 0.9684 - val_loss: 0.1207 - val_accuracy: 0.9649\n",
            "Epoch 53/100\n",
            "600/600 [==============================] - 3s 5ms/step - loss: 0.1127 - accuracy: 0.9688 - val_loss: 0.1199 - val_accuracy: 0.9655\n",
            "Epoch 54/100\n",
            "600/600 [==============================] - 3s 5ms/step - loss: 0.1112 - accuracy: 0.9697 - val_loss: 0.1187 - val_accuracy: 0.9652\n",
            "Epoch 55/100\n",
            "600/600 [==============================] - 3s 5ms/step - loss: 0.1097 - accuracy: 0.9697 - val_loss: 0.1170 - val_accuracy: 0.9668\n",
            "Epoch 56/100\n",
            "600/600 [==============================] - 3s 6ms/step - loss: 0.1083 - accuracy: 0.9699 - val_loss: 0.1158 - val_accuracy: 0.9668\n",
            "Epoch 57/100\n",
            "600/600 [==============================] - 3s 5ms/step - loss: 0.1070 - accuracy: 0.9707 - val_loss: 0.1151 - val_accuracy: 0.9667\n",
            "Epoch 58/100\n",
            "600/600 [==============================] - 3s 5ms/step - loss: 0.1056 - accuracy: 0.9710 - val_loss: 0.1140 - val_accuracy: 0.9670\n",
            "Epoch 59/100\n",
            "600/600 [==============================] - 3s 5ms/step - loss: 0.1042 - accuracy: 0.9716 - val_loss: 0.1130 - val_accuracy: 0.9677\n",
            "Epoch 60/100\n",
            "600/600 [==============================] - 3s 5ms/step - loss: 0.1030 - accuracy: 0.9720 - val_loss: 0.1121 - val_accuracy: 0.9678\n",
            "Epoch 61/100\n",
            "600/600 [==============================] - 3s 5ms/step - loss: 0.1016 - accuracy: 0.9723 - val_loss: 0.1123 - val_accuracy: 0.9670\n",
            "Epoch 62/100\n",
            "600/600 [==============================] - 3s 6ms/step - loss: 0.1005 - accuracy: 0.9729 - val_loss: 0.1102 - val_accuracy: 0.9676\n",
            "Epoch 63/100\n",
            "600/600 [==============================] - 3s 6ms/step - loss: 0.0993 - accuracy: 0.9730 - val_loss: 0.1088 - val_accuracy: 0.9675\n",
            "Epoch 64/100\n",
            "600/600 [==============================] - 3s 5ms/step - loss: 0.0981 - accuracy: 0.9734 - val_loss: 0.1080 - val_accuracy: 0.9680\n",
            "Epoch 65/100\n",
            "600/600 [==============================] - 3s 5ms/step - loss: 0.0970 - accuracy: 0.9736 - val_loss: 0.1079 - val_accuracy: 0.9681\n",
            "Epoch 66/100\n",
            "600/600 [==============================] - 3s 5ms/step - loss: 0.0959 - accuracy: 0.9742 - val_loss: 0.1061 - val_accuracy: 0.9690\n",
            "Epoch 67/100\n",
            "600/600 [==============================] - 3s 5ms/step - loss: 0.0948 - accuracy: 0.9744 - val_loss: 0.1055 - val_accuracy: 0.9687\n",
            "Epoch 68/100\n",
            "600/600 [==============================] - 3s 5ms/step - loss: 0.0937 - accuracy: 0.9747 - val_loss: 0.1053 - val_accuracy: 0.9687\n",
            "Epoch 69/100\n",
            "600/600 [==============================] - 3s 5ms/step - loss: 0.0927 - accuracy: 0.9749 - val_loss: 0.1038 - val_accuracy: 0.9689\n",
            "Epoch 70/100\n",
            "600/600 [==============================] - 3s 6ms/step - loss: 0.0917 - accuracy: 0.9751 - val_loss: 0.1027 - val_accuracy: 0.9701\n",
            "Epoch 71/100\n",
            "600/600 [==============================] - 3s 6ms/step - loss: 0.0907 - accuracy: 0.9755 - val_loss: 0.1019 - val_accuracy: 0.9698\n",
            "Epoch 72/100\n",
            "600/600 [==============================] - 3s 5ms/step - loss: 0.0897 - accuracy: 0.9756 - val_loss: 0.1021 - val_accuracy: 0.9694\n",
            "Epoch 73/100\n",
            "600/600 [==============================] - 3s 5ms/step - loss: 0.0886 - accuracy: 0.9760 - val_loss: 0.1013 - val_accuracy: 0.9700\n",
            "Epoch 74/100\n",
            "600/600 [==============================] - 3s 5ms/step - loss: 0.0878 - accuracy: 0.9765 - val_loss: 0.1002 - val_accuracy: 0.9703\n",
            "Epoch 75/100\n",
            "600/600 [==============================] - 3s 5ms/step - loss: 0.0868 - accuracy: 0.9765 - val_loss: 0.0996 - val_accuracy: 0.9709\n",
            "Epoch 76/100\n",
            "600/600 [==============================] - 3s 5ms/step - loss: 0.0860 - accuracy: 0.9764 - val_loss: 0.0986 - val_accuracy: 0.9706\n",
            "Epoch 77/100\n",
            "600/600 [==============================] - 3s 6ms/step - loss: 0.0850 - accuracy: 0.9768 - val_loss: 0.0987 - val_accuracy: 0.9704\n",
            "Epoch 78/100\n",
            "600/600 [==============================] - 3s 6ms/step - loss: 0.0842 - accuracy: 0.9772 - val_loss: 0.0975 - val_accuracy: 0.9709\n",
            "Epoch 79/100\n",
            "600/600 [==============================] - 3s 5ms/step - loss: 0.0833 - accuracy: 0.9774 - val_loss: 0.0969 - val_accuracy: 0.9714\n",
            "Epoch 80/100\n",
            "600/600 [==============================] - 3s 5ms/step - loss: 0.0824 - accuracy: 0.9777 - val_loss: 0.0963 - val_accuracy: 0.9709\n",
            "Epoch 81/100\n",
            "600/600 [==============================] - 3s 5ms/step - loss: 0.0816 - accuracy: 0.9779 - val_loss: 0.0962 - val_accuracy: 0.9716\n",
            "Epoch 82/100\n",
            "600/600 [==============================] - 3s 5ms/step - loss: 0.0808 - accuracy: 0.9779 - val_loss: 0.0959 - val_accuracy: 0.9715\n",
            "Epoch 83/100\n",
            "600/600 [==============================] - 3s 5ms/step - loss: 0.0801 - accuracy: 0.9782 - val_loss: 0.0951 - val_accuracy: 0.9713\n",
            "Epoch 84/100\n",
            "600/600 [==============================] - 3s 5ms/step - loss: 0.0793 - accuracy: 0.9782 - val_loss: 0.0942 - val_accuracy: 0.9719\n",
            "Epoch 85/100\n",
            "600/600 [==============================] - 3s 5ms/step - loss: 0.0786 - accuracy: 0.9786 - val_loss: 0.0935 - val_accuracy: 0.9723\n",
            "Epoch 86/100\n",
            "600/600 [==============================] - 3s 5ms/step - loss: 0.0778 - accuracy: 0.9788 - val_loss: 0.0931 - val_accuracy: 0.9720\n",
            "Epoch 87/100\n",
            "600/600 [==============================] - 3s 5ms/step - loss: 0.0770 - accuracy: 0.9792 - val_loss: 0.0924 - val_accuracy: 0.9724\n",
            "Epoch 88/100\n",
            "600/600 [==============================] - 3s 5ms/step - loss: 0.0763 - accuracy: 0.9792 - val_loss: 0.0920 - val_accuracy: 0.9727\n",
            "Epoch 89/100\n",
            "600/600 [==============================] - 3s 5ms/step - loss: 0.0756 - accuracy: 0.9796 - val_loss: 0.0911 - val_accuracy: 0.9729\n",
            "Epoch 90/100\n",
            "600/600 [==============================] - 3s 6ms/step - loss: 0.0749 - accuracy: 0.9797 - val_loss: 0.0911 - val_accuracy: 0.9728\n",
            "Epoch 91/100\n",
            "600/600 [==============================] - 3s 5ms/step - loss: 0.0742 - accuracy: 0.9799 - val_loss: 0.0900 - val_accuracy: 0.9727\n",
            "Epoch 92/100\n",
            "600/600 [==============================] - 3s 6ms/step - loss: 0.0735 - accuracy: 0.9802 - val_loss: 0.0896 - val_accuracy: 0.9733\n",
            "Epoch 93/100\n",
            "600/600 [==============================] - 3s 5ms/step - loss: 0.0729 - accuracy: 0.9803 - val_loss: 0.0891 - val_accuracy: 0.9732\n",
            "Epoch 94/100\n",
            "600/600 [==============================] - 3s 5ms/step - loss: 0.0722 - accuracy: 0.9804 - val_loss: 0.0888 - val_accuracy: 0.9732\n",
            "Epoch 95/100\n",
            "600/600 [==============================] - 3s 5ms/step - loss: 0.0716 - accuracy: 0.9803 - val_loss: 0.0886 - val_accuracy: 0.9733\n",
            "Epoch 96/100\n",
            "600/600 [==============================] - 3s 5ms/step - loss: 0.0709 - accuracy: 0.9809 - val_loss: 0.0881 - val_accuracy: 0.9734\n",
            "Epoch 97/100\n",
            "600/600 [==============================] - 3s 5ms/step - loss: 0.0703 - accuracy: 0.9812 - val_loss: 0.0876 - val_accuracy: 0.9734\n",
            "Epoch 98/100\n",
            "600/600 [==============================] - 3s 5ms/step - loss: 0.0697 - accuracy: 0.9810 - val_loss: 0.0872 - val_accuracy: 0.9734\n",
            "Epoch 99/100\n",
            "600/600 [==============================] - 3s 5ms/step - loss: 0.0691 - accuracy: 0.9816 - val_loss: 0.0868 - val_accuracy: 0.9737\n",
            "Epoch 100/100\n",
            "600/600 [==============================] - 3s 5ms/step - loss: 0.0685 - accuracy: 0.9815 - val_loss: 0.0869 - val_accuracy: 0.9736\n"
          ]
        },
        {
          "output_type": "execute_result",
          "data": {
            "text/plain": [
              "<keras.callbacks.History at 0x7f2faff893d0>"
            ]
          },
          "metadata": {},
          "execution_count": 29
        }
      ]
    },
    {
      "cell_type": "code",
      "source": [
        "yhat=model.predict(X_test)"
      ],
      "metadata": {
        "id": "NbZ1jkbjdS7F"
      },
      "execution_count": 30,
      "outputs": []
    },
    {
      "cell_type": "code",
      "source": [
        "model.evaluate(X_test, Y_test)"
      ],
      "metadata": {
        "colab": {
          "base_uri": "https://localhost:8080/"
        },
        "id": "ced7ykaWej-P",
        "outputId": "7f8a9ee4-4a19-445c-b84f-9db3c349b860"
      },
      "execution_count": 33,
      "outputs": [
        {
          "output_type": "stream",
          "name": "stdout",
          "text": [
            "313/313 [==============================] - 1s 2ms/step - loss: 0.0869 - accuracy: 0.9736\n"
          ]
        },
        {
          "output_type": "execute_result",
          "data": {
            "text/plain": [
              "[0.08685817569494247, 0.9735999703407288]"
            ]
          },
          "metadata": {},
          "execution_count": 33
        }
      ]
    },
    {
      "cell_type": "code",
      "source": [
        ""
      ],
      "metadata": {
        "id": "GfCXR9S3fEWQ"
      },
      "execution_count": null,
      "outputs": []
    }
  ]
}