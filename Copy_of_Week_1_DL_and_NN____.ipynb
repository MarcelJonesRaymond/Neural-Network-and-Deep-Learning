{
  "nbformat": 4,
  "nbformat_minor": 0,
  "metadata": {
    "colab": {
      "name": "Copy of Week 1 -DL and NN ___.ipynb",
      "provenance": [],
      "collapsed_sections": []
    },
    "kernelspec": {
      "name": "python3",
      "display_name": "Python 3"
    },
    "language_info": {
      "name": "python"
    },
    "accelerator": "GPU"
  },
  "cells": [
    {
      "cell_type": "code",
      "execution_count": null,
      "metadata": {
        "colab": {
          "base_uri": "https://localhost:8080/",
          "height": 35
        },
        "id": "iEXUmHhQeVl_",
        "outputId": "554077c2-02c3-4bbd-ab2b-faaa538082bd"
      },
      "outputs": [
        {
          "output_type": "execute_result",
          "data": {
            "application/vnd.google.colaboratory.intrinsic+json": {
              "type": "string"
            },
            "text/plain": [
              "'2.7.0'"
            ]
          },
          "metadata": {},
          "execution_count": 28
        }
      ],
      "source": [
        "import tensorflow\n",
        "tensorflow.__version__"
      ]
    },
    {
      "cell_type": "code",
      "source": [
        "import random\n",
        "random.seed(0)"
      ],
      "metadata": {
        "id": "FpqjXouwe4NM"
      },
      "execution_count": null,
      "outputs": []
    },
    {
      "cell_type": "code",
      "source": [
        "import warnings\n",
        "warnings.filterwarnings('ignore')"
      ],
      "metadata": {
        "id": "Jh7Xkst9fHpL"
      },
      "execution_count": null,
      "outputs": []
    },
    {
      "cell_type": "code",
      "source": [
        "import numpy as np\n",
        "import matplotlib.pyplot as plt\n",
        "import seaborn as sns"
      ],
      "metadata": {
        "id": "mNzjhNHFfl_E"
      },
      "execution_count": null,
      "outputs": []
    },
    {
      "cell_type": "code",
      "source": [
        "x=np.random.randint(0,30,10)\n",
        "y=np.random.randint(0,30,10)"
      ],
      "metadata": {
        "id": "IpmDLZwfflxG"
      },
      "execution_count": null,
      "outputs": []
    },
    {
      "cell_type": "code",
      "source": [
        "print(x,y)"
      ],
      "metadata": {
        "colab": {
          "base_uri": "https://localhost:8080/"
        },
        "id": "XJ0CJMEyfOX8",
        "outputId": "1b6c60ff-664f-4f41-e088-0e3e11d6b1c2"
      },
      "execution_count": null,
      "outputs": [
        {
          "output_type": "stream",
          "name": "stdout",
          "text": [
            "[ 3  5 21 12 12 16 29 10  6 10] [15 16 29 27 17 23 10 11 27  3]\n"
          ]
        }
      ]
    },
    {
      "cell_type": "markdown",
      "source": [
        "What does sequential do in TensorFlow?\n",
        "Sequential: Used for implementing simple layer-by-layer architectures without multiple inputs, multiple outputs, or layer branches"
      ],
      "metadata": {
        "id": "P_LdjtFagePK"
      }
    },
    {
      "cell_type": "markdown",
      "source": [
        "Is flatten a layer?\n",
        "Image result for tensorflow.keras.layers.Flatten\n",
        "Flattening is converting the data into a 1-dimensional array for inputting it to the next layer. ... And it is connected to the final classification model, which is called a fully-connected layer."
      ],
      "metadata": {
        "id": "neZtKXFIh3yD"
      }
    },
    {
      "cell_type": "markdown",
      "source": [
        "Dense implements the operation: output = activation(dot(input, kernel) + bias) "
      ],
      "metadata": {
        "id": "nPkUtVcZiOmu"
      }
    },
    {
      "cell_type": "code",
      "source": [
        "model=tensorflow.keras.models.Sequential([tensorflow.keras.layers.Flatten(),tensorflow.keras.layers.Dense(1)])"
      ],
      "metadata": {
        "id": "kFG4Fr7lgk0m"
      },
      "execution_count": null,
      "outputs": []
    },
    {
      "cell_type": "code",
      "source": [
        "model.compile(optimizer='sgd',loss='mean_squared_error')"
      ],
      "metadata": {
        "id": "vZEehgNGhn_X"
      },
      "execution_count": null,
      "outputs": []
    },
    {
      "cell_type": "code",
      "source": [
        "model.fit(x,y,epochs=5)"
      ],
      "metadata": {
        "colab": {
          "base_uri": "https://localhost:8080/"
        },
        "id": "aC5ppoEjgnJh",
        "outputId": "51336234-3621-4352-a728-ea4bf9bec77d"
      },
      "execution_count": null,
      "outputs": [
        {
          "output_type": "stream",
          "name": "stdout",
          "text": [
            "Epoch 1/5\n",
            "1/1 [==============================] - 0s 10ms/step - loss: nan\n",
            "Epoch 2/5\n",
            "1/1 [==============================] - 0s 5ms/step - loss: nan\n",
            "Epoch 3/5\n",
            "1/1 [==============================] - 0s 6ms/step - loss: nan\n",
            "Epoch 4/5\n",
            "1/1 [==============================] - 0s 5ms/step - loss: nan\n",
            "Epoch 5/5\n",
            "1/1 [==============================] - 0s 9ms/step - loss: nan\n"
          ]
        },
        {
          "output_type": "execute_result",
          "data": {
            "text/plain": [
              "<keras.callbacks.History at 0x7fcb7808da50>"
            ]
          },
          "metadata": {},
          "execution_count": 38
        }
      ]
    },
    {
      "cell_type": "code",
      "source": [
        "model.predict([100])"
      ],
      "metadata": {
        "colab": {
          "base_uri": "https://localhost:8080/"
        },
        "id": "4NxFUcZglMA3",
        "outputId": "2c98d7b1-74a3-4cc1-f6a3-a1c28cb236b2"
      },
      "execution_count": null,
      "outputs": [
        {
          "output_type": "execute_result",
          "data": {
            "text/plain": [
              "array([[nan]], dtype=float32)"
            ]
          },
          "metadata": {},
          "execution_count": 39
        }
      ]
    },
    {
      "cell_type": "code",
      "source": [
        ""
      ],
      "metadata": {
        "id": "xT13LZGLlzQd"
      },
      "execution_count": null,
      "outputs": []
    }
  ]
}