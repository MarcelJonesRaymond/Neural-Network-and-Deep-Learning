{
  "nbformat": 4,
  "nbformat_minor": 0,
  "metadata": {
    "colab": {
      "name": "Week 1 Mentoring Session of Intro ot NN & DL.ipynb",
      "provenance": [],
      "collapsed_sections": [],
      "authorship_tag": "ABX9TyM+68GPVww0euzCKaQsaEiD",
      "include_colab_link": true
    },
    "kernelspec": {
      "name": "python3",
      "display_name": "Python 3"
    },
    "language_info": {
      "name": "python"
    }
  },
  "cells": [
    {
      "cell_type": "markdown",
      "metadata": {
        "id": "view-in-github",
        "colab_type": "text"
      },
      "source": [
        "<a href=\"https://colab.research.google.com/github/MarcelJonesRaymond/Neural-Network-and-Deep-Learning/blob/main/Week_1_Mentoring_Session_of_Intro_ot_NN_%26_DL.ipynb\" target=\"_parent\"><img src=\"https://colab.research.google.com/assets/colab-badge.svg\" alt=\"Open In Colab\"/></a>"
      ]
    },
    {
      "cell_type": "code",
      "execution_count": 10,
      "metadata": {
        "id": "SD1iryXHRi_n"
      },
      "outputs": [],
      "source": [
        "import pandas as pd\n",
        "import numpy as np\n",
        "from sklearn.preprocessing import LabelEncoder\n",
        "from sklearn.model_selection import train_test_split\n",
        "import tensorflow as tf\n"
      ]
    },
    {
      "cell_type": "code",
      "source": [
        "data=pd.read_csv('/content/Churn_Modelling.csv')"
      ],
      "metadata": {
        "id": "utAFjugdSBM_"
      },
      "execution_count": 3,
      "outputs": []
    },
    {
      "cell_type": "code",
      "source": [
        "data.head(5)"
      ],
      "metadata": {
        "colab": {
          "base_uri": "https://localhost:8080/",
          "height": 206
        },
        "id": "V-2H_K4SSI4P",
        "outputId": "f66341d1-993d-4160-fe72-5a47b946038b"
      },
      "execution_count": 4,
      "outputs": [
        {
          "output_type": "execute_result",
          "data": {
            "text/html": [
              "\n",
              "  <div id=\"df-d83f6a68-d5d5-4222-b6c9-535d61f46e94\">\n",
              "    <div class=\"colab-df-container\">\n",
              "      <div>\n",
              "<style scoped>\n",
              "    .dataframe tbody tr th:only-of-type {\n",
              "        vertical-align: middle;\n",
              "    }\n",
              "\n",
              "    .dataframe tbody tr th {\n",
              "        vertical-align: top;\n",
              "    }\n",
              "\n",
              "    .dataframe thead th {\n",
              "        text-align: right;\n",
              "    }\n",
              "</style>\n",
              "<table border=\"1\" class=\"dataframe\">\n",
              "  <thead>\n",
              "    <tr style=\"text-align: right;\">\n",
              "      <th></th>\n",
              "      <th>RowNumber</th>\n",
              "      <th>CustomerId</th>\n",
              "      <th>Surname</th>\n",
              "      <th>CreditScore</th>\n",
              "      <th>Geography</th>\n",
              "      <th>Gender</th>\n",
              "      <th>Age</th>\n",
              "      <th>Tenure</th>\n",
              "      <th>Balance</th>\n",
              "      <th>NumOfProducts</th>\n",
              "      <th>HasCrCard</th>\n",
              "      <th>IsActiveMember</th>\n",
              "      <th>EstimatedSalary</th>\n",
              "      <th>Exited</th>\n",
              "    </tr>\n",
              "  </thead>\n",
              "  <tbody>\n",
              "    <tr>\n",
              "      <th>0</th>\n",
              "      <td>1</td>\n",
              "      <td>15634602</td>\n",
              "      <td>Hargrave</td>\n",
              "      <td>619</td>\n",
              "      <td>France</td>\n",
              "      <td>Female</td>\n",
              "      <td>42</td>\n",
              "      <td>2</td>\n",
              "      <td>0.00</td>\n",
              "      <td>1</td>\n",
              "      <td>1</td>\n",
              "      <td>1</td>\n",
              "      <td>101348.88</td>\n",
              "      <td>1</td>\n",
              "    </tr>\n",
              "    <tr>\n",
              "      <th>1</th>\n",
              "      <td>2</td>\n",
              "      <td>15647311</td>\n",
              "      <td>Hill</td>\n",
              "      <td>608</td>\n",
              "      <td>Spain</td>\n",
              "      <td>Female</td>\n",
              "      <td>41</td>\n",
              "      <td>1</td>\n",
              "      <td>83807.86</td>\n",
              "      <td>1</td>\n",
              "      <td>0</td>\n",
              "      <td>1</td>\n",
              "      <td>112542.58</td>\n",
              "      <td>0</td>\n",
              "    </tr>\n",
              "    <tr>\n",
              "      <th>2</th>\n",
              "      <td>3</td>\n",
              "      <td>15619304</td>\n",
              "      <td>Onio</td>\n",
              "      <td>502</td>\n",
              "      <td>France</td>\n",
              "      <td>Female</td>\n",
              "      <td>42</td>\n",
              "      <td>8</td>\n",
              "      <td>159660.80</td>\n",
              "      <td>3</td>\n",
              "      <td>1</td>\n",
              "      <td>0</td>\n",
              "      <td>113931.57</td>\n",
              "      <td>1</td>\n",
              "    </tr>\n",
              "    <tr>\n",
              "      <th>3</th>\n",
              "      <td>4</td>\n",
              "      <td>15701354</td>\n",
              "      <td>Boni</td>\n",
              "      <td>699</td>\n",
              "      <td>France</td>\n",
              "      <td>Female</td>\n",
              "      <td>39</td>\n",
              "      <td>1</td>\n",
              "      <td>0.00</td>\n",
              "      <td>2</td>\n",
              "      <td>0</td>\n",
              "      <td>0</td>\n",
              "      <td>93826.63</td>\n",
              "      <td>0</td>\n",
              "    </tr>\n",
              "    <tr>\n",
              "      <th>4</th>\n",
              "      <td>5</td>\n",
              "      <td>15737888</td>\n",
              "      <td>Mitchell</td>\n",
              "      <td>850</td>\n",
              "      <td>Spain</td>\n",
              "      <td>Female</td>\n",
              "      <td>43</td>\n",
              "      <td>2</td>\n",
              "      <td>125510.82</td>\n",
              "      <td>1</td>\n",
              "      <td>1</td>\n",
              "      <td>1</td>\n",
              "      <td>79084.10</td>\n",
              "      <td>0</td>\n",
              "    </tr>\n",
              "  </tbody>\n",
              "</table>\n",
              "</div>\n",
              "      <button class=\"colab-df-convert\" onclick=\"convertToInteractive('df-d83f6a68-d5d5-4222-b6c9-535d61f46e94')\"\n",
              "              title=\"Convert this dataframe to an interactive table.\"\n",
              "              style=\"display:none;\">\n",
              "        \n",
              "  <svg xmlns=\"http://www.w3.org/2000/svg\" height=\"24px\"viewBox=\"0 0 24 24\"\n",
              "       width=\"24px\">\n",
              "    <path d=\"M0 0h24v24H0V0z\" fill=\"none\"/>\n",
              "    <path d=\"M18.56 5.44l.94 2.06.94-2.06 2.06-.94-2.06-.94-.94-2.06-.94 2.06-2.06.94zm-11 1L8.5 8.5l.94-2.06 2.06-.94-2.06-.94L8.5 2.5l-.94 2.06-2.06.94zm10 10l.94 2.06.94-2.06 2.06-.94-2.06-.94-.94-2.06-.94 2.06-2.06.94z\"/><path d=\"M17.41 7.96l-1.37-1.37c-.4-.4-.92-.59-1.43-.59-.52 0-1.04.2-1.43.59L10.3 9.45l-7.72 7.72c-.78.78-.78 2.05 0 2.83L4 21.41c.39.39.9.59 1.41.59.51 0 1.02-.2 1.41-.59l7.78-7.78 2.81-2.81c.8-.78.8-2.07 0-2.86zM5.41 20L4 18.59l7.72-7.72 1.47 1.35L5.41 20z\"/>\n",
              "  </svg>\n",
              "      </button>\n",
              "      \n",
              "  <style>\n",
              "    .colab-df-container {\n",
              "      display:flex;\n",
              "      flex-wrap:wrap;\n",
              "      gap: 12px;\n",
              "    }\n",
              "\n",
              "    .colab-df-convert {\n",
              "      background-color: #E8F0FE;\n",
              "      border: none;\n",
              "      border-radius: 50%;\n",
              "      cursor: pointer;\n",
              "      display: none;\n",
              "      fill: #1967D2;\n",
              "      height: 32px;\n",
              "      padding: 0 0 0 0;\n",
              "      width: 32px;\n",
              "    }\n",
              "\n",
              "    .colab-df-convert:hover {\n",
              "      background-color: #E2EBFA;\n",
              "      box-shadow: 0px 1px 2px rgba(60, 64, 67, 0.3), 0px 1px 3px 1px rgba(60, 64, 67, 0.15);\n",
              "      fill: #174EA6;\n",
              "    }\n",
              "\n",
              "    [theme=dark] .colab-df-convert {\n",
              "      background-color: #3B4455;\n",
              "      fill: #D2E3FC;\n",
              "    }\n",
              "\n",
              "    [theme=dark] .colab-df-convert:hover {\n",
              "      background-color: #434B5C;\n",
              "      box-shadow: 0px 1px 3px 1px rgba(0, 0, 0, 0.15);\n",
              "      filter: drop-shadow(0px 1px 2px rgba(0, 0, 0, 0.3));\n",
              "      fill: #FFFFFF;\n",
              "    }\n",
              "  </style>\n",
              "\n",
              "      <script>\n",
              "        const buttonEl =\n",
              "          document.querySelector('#df-d83f6a68-d5d5-4222-b6c9-535d61f46e94 button.colab-df-convert');\n",
              "        buttonEl.style.display =\n",
              "          google.colab.kernel.accessAllowed ? 'block' : 'none';\n",
              "\n",
              "        async function convertToInteractive(key) {\n",
              "          const element = document.querySelector('#df-d83f6a68-d5d5-4222-b6c9-535d61f46e94');\n",
              "          const dataTable =\n",
              "            await google.colab.kernel.invokeFunction('convertToInteractive',\n",
              "                                                     [key], {});\n",
              "          if (!dataTable) return;\n",
              "\n",
              "          const docLinkHtml = 'Like what you see? Visit the ' +\n",
              "            '<a target=\"_blank\" href=https://colab.research.google.com/notebooks/data_table.ipynb>data table notebook</a>'\n",
              "            + ' to learn more about interactive tables.';\n",
              "          element.innerHTML = '';\n",
              "          dataTable['output_type'] = 'display_data';\n",
              "          await google.colab.output.renderOutput(dataTable, element);\n",
              "          const docLink = document.createElement('div');\n",
              "          docLink.innerHTML = docLinkHtml;\n",
              "          element.appendChild(docLink);\n",
              "        }\n",
              "      </script>\n",
              "    </div>\n",
              "  </div>\n",
              "  "
            ],
            "text/plain": [
              "   RowNumber  CustomerId   Surname  ...  IsActiveMember EstimatedSalary Exited\n",
              "0          1    15634602  Hargrave  ...               1       101348.88      1\n",
              "1          2    15647311      Hill  ...               1       112542.58      0\n",
              "2          3    15619304      Onio  ...               0       113931.57      1\n",
              "3          4    15701354      Boni  ...               0        93826.63      0\n",
              "4          5    15737888  Mitchell  ...               1        79084.10      0\n",
              "\n",
              "[5 rows x 14 columns]"
            ]
          },
          "metadata": {},
          "execution_count": 4
        }
      ]
    },
    {
      "cell_type": "code",
      "source": [
        "data.tail(5)"
      ],
      "metadata": {
        "colab": {
          "base_uri": "https://localhost:8080/",
          "height": 250
        },
        "id": "NlsB2-jHSTbR",
        "outputId": "23851567-b9cb-47f2-97bd-339446618542"
      },
      "execution_count": 5,
      "outputs": [
        {
          "output_type": "execute_result",
          "data": {
            "text/html": [
              "\n",
              "  <div id=\"df-b87af98e-23f8-4745-8da7-7429a4af1e02\">\n",
              "    <div class=\"colab-df-container\">\n",
              "      <div>\n",
              "<style scoped>\n",
              "    .dataframe tbody tr th:only-of-type {\n",
              "        vertical-align: middle;\n",
              "    }\n",
              "\n",
              "    .dataframe tbody tr th {\n",
              "        vertical-align: top;\n",
              "    }\n",
              "\n",
              "    .dataframe thead th {\n",
              "        text-align: right;\n",
              "    }\n",
              "</style>\n",
              "<table border=\"1\" class=\"dataframe\">\n",
              "  <thead>\n",
              "    <tr style=\"text-align: right;\">\n",
              "      <th></th>\n",
              "      <th>RowNumber</th>\n",
              "      <th>CustomerId</th>\n",
              "      <th>Surname</th>\n",
              "      <th>CreditScore</th>\n",
              "      <th>Geography</th>\n",
              "      <th>Gender</th>\n",
              "      <th>Age</th>\n",
              "      <th>Tenure</th>\n",
              "      <th>Balance</th>\n",
              "      <th>NumOfProducts</th>\n",
              "      <th>HasCrCard</th>\n",
              "      <th>IsActiveMember</th>\n",
              "      <th>EstimatedSalary</th>\n",
              "      <th>Exited</th>\n",
              "    </tr>\n",
              "  </thead>\n",
              "  <tbody>\n",
              "    <tr>\n",
              "      <th>9995</th>\n",
              "      <td>9996</td>\n",
              "      <td>15606229</td>\n",
              "      <td>Obijiaku</td>\n",
              "      <td>771</td>\n",
              "      <td>France</td>\n",
              "      <td>Male</td>\n",
              "      <td>39</td>\n",
              "      <td>5</td>\n",
              "      <td>0.00</td>\n",
              "      <td>2</td>\n",
              "      <td>1</td>\n",
              "      <td>0</td>\n",
              "      <td>96270.64</td>\n",
              "      <td>0</td>\n",
              "    </tr>\n",
              "    <tr>\n",
              "      <th>9996</th>\n",
              "      <td>9997</td>\n",
              "      <td>15569892</td>\n",
              "      <td>Johnstone</td>\n",
              "      <td>516</td>\n",
              "      <td>France</td>\n",
              "      <td>Male</td>\n",
              "      <td>35</td>\n",
              "      <td>10</td>\n",
              "      <td>57369.61</td>\n",
              "      <td>1</td>\n",
              "      <td>1</td>\n",
              "      <td>1</td>\n",
              "      <td>101699.77</td>\n",
              "      <td>0</td>\n",
              "    </tr>\n",
              "    <tr>\n",
              "      <th>9997</th>\n",
              "      <td>9998</td>\n",
              "      <td>15584532</td>\n",
              "      <td>Liu</td>\n",
              "      <td>709</td>\n",
              "      <td>France</td>\n",
              "      <td>Female</td>\n",
              "      <td>36</td>\n",
              "      <td>7</td>\n",
              "      <td>0.00</td>\n",
              "      <td>1</td>\n",
              "      <td>0</td>\n",
              "      <td>1</td>\n",
              "      <td>42085.58</td>\n",
              "      <td>1</td>\n",
              "    </tr>\n",
              "    <tr>\n",
              "      <th>9998</th>\n",
              "      <td>9999</td>\n",
              "      <td>15682355</td>\n",
              "      <td>Sabbatini</td>\n",
              "      <td>772</td>\n",
              "      <td>Germany</td>\n",
              "      <td>Male</td>\n",
              "      <td>42</td>\n",
              "      <td>3</td>\n",
              "      <td>75075.31</td>\n",
              "      <td>2</td>\n",
              "      <td>1</td>\n",
              "      <td>0</td>\n",
              "      <td>92888.52</td>\n",
              "      <td>1</td>\n",
              "    </tr>\n",
              "    <tr>\n",
              "      <th>9999</th>\n",
              "      <td>10000</td>\n",
              "      <td>15628319</td>\n",
              "      <td>Walker</td>\n",
              "      <td>792</td>\n",
              "      <td>France</td>\n",
              "      <td>Female</td>\n",
              "      <td>28</td>\n",
              "      <td>4</td>\n",
              "      <td>130142.79</td>\n",
              "      <td>1</td>\n",
              "      <td>1</td>\n",
              "      <td>0</td>\n",
              "      <td>38190.78</td>\n",
              "      <td>0</td>\n",
              "    </tr>\n",
              "  </tbody>\n",
              "</table>\n",
              "</div>\n",
              "      <button class=\"colab-df-convert\" onclick=\"convertToInteractive('df-b87af98e-23f8-4745-8da7-7429a4af1e02')\"\n",
              "              title=\"Convert this dataframe to an interactive table.\"\n",
              "              style=\"display:none;\">\n",
              "        \n",
              "  <svg xmlns=\"http://www.w3.org/2000/svg\" height=\"24px\"viewBox=\"0 0 24 24\"\n",
              "       width=\"24px\">\n",
              "    <path d=\"M0 0h24v24H0V0z\" fill=\"none\"/>\n",
              "    <path d=\"M18.56 5.44l.94 2.06.94-2.06 2.06-.94-2.06-.94-.94-2.06-.94 2.06-2.06.94zm-11 1L8.5 8.5l.94-2.06 2.06-.94-2.06-.94L8.5 2.5l-.94 2.06-2.06.94zm10 10l.94 2.06.94-2.06 2.06-.94-2.06-.94-.94-2.06-.94 2.06-2.06.94z\"/><path d=\"M17.41 7.96l-1.37-1.37c-.4-.4-.92-.59-1.43-.59-.52 0-1.04.2-1.43.59L10.3 9.45l-7.72 7.72c-.78.78-.78 2.05 0 2.83L4 21.41c.39.39.9.59 1.41.59.51 0 1.02-.2 1.41-.59l7.78-7.78 2.81-2.81c.8-.78.8-2.07 0-2.86zM5.41 20L4 18.59l7.72-7.72 1.47 1.35L5.41 20z\"/>\n",
              "  </svg>\n",
              "      </button>\n",
              "      \n",
              "  <style>\n",
              "    .colab-df-container {\n",
              "      display:flex;\n",
              "      flex-wrap:wrap;\n",
              "      gap: 12px;\n",
              "    }\n",
              "\n",
              "    .colab-df-convert {\n",
              "      background-color: #E8F0FE;\n",
              "      border: none;\n",
              "      border-radius: 50%;\n",
              "      cursor: pointer;\n",
              "      display: none;\n",
              "      fill: #1967D2;\n",
              "      height: 32px;\n",
              "      padding: 0 0 0 0;\n",
              "      width: 32px;\n",
              "    }\n",
              "\n",
              "    .colab-df-convert:hover {\n",
              "      background-color: #E2EBFA;\n",
              "      box-shadow: 0px 1px 2px rgba(60, 64, 67, 0.3), 0px 1px 3px 1px rgba(60, 64, 67, 0.15);\n",
              "      fill: #174EA6;\n",
              "    }\n",
              "\n",
              "    [theme=dark] .colab-df-convert {\n",
              "      background-color: #3B4455;\n",
              "      fill: #D2E3FC;\n",
              "    }\n",
              "\n",
              "    [theme=dark] .colab-df-convert:hover {\n",
              "      background-color: #434B5C;\n",
              "      box-shadow: 0px 1px 3px 1px rgba(0, 0, 0, 0.15);\n",
              "      filter: drop-shadow(0px 1px 2px rgba(0, 0, 0, 0.3));\n",
              "      fill: #FFFFFF;\n",
              "    }\n",
              "  </style>\n",
              "\n",
              "      <script>\n",
              "        const buttonEl =\n",
              "          document.querySelector('#df-b87af98e-23f8-4745-8da7-7429a4af1e02 button.colab-df-convert');\n",
              "        buttonEl.style.display =\n",
              "          google.colab.kernel.accessAllowed ? 'block' : 'none';\n",
              "\n",
              "        async function convertToInteractive(key) {\n",
              "          const element = document.querySelector('#df-b87af98e-23f8-4745-8da7-7429a4af1e02');\n",
              "          const dataTable =\n",
              "            await google.colab.kernel.invokeFunction('convertToInteractive',\n",
              "                                                     [key], {});\n",
              "          if (!dataTable) return;\n",
              "\n",
              "          const docLinkHtml = 'Like what you see? Visit the ' +\n",
              "            '<a target=\"_blank\" href=https://colab.research.google.com/notebooks/data_table.ipynb>data table notebook</a>'\n",
              "            + ' to learn more about interactive tables.';\n",
              "          element.innerHTML = '';\n",
              "          dataTable['output_type'] = 'display_data';\n",
              "          await google.colab.output.renderOutput(dataTable, element);\n",
              "          const docLink = document.createElement('div');\n",
              "          docLink.innerHTML = docLinkHtml;\n",
              "          element.appendChild(docLink);\n",
              "        }\n",
              "      </script>\n",
              "    </div>\n",
              "  </div>\n",
              "  "
            ],
            "text/plain": [
              "      RowNumber  CustomerId    Surname  ...  IsActiveMember EstimatedSalary Exited\n",
              "9995       9996    15606229   Obijiaku  ...               0        96270.64      0\n",
              "9996       9997    15569892  Johnstone  ...               1       101699.77      0\n",
              "9997       9998    15584532        Liu  ...               1        42085.58      1\n",
              "9998       9999    15682355  Sabbatini  ...               0        92888.52      1\n",
              "9999      10000    15628319     Walker  ...               0        38190.78      0\n",
              "\n",
              "[5 rows x 14 columns]"
            ]
          },
          "metadata": {},
          "execution_count": 5
        }
      ]
    },
    {
      "cell_type": "code",
      "source": [
        "data.sample(5)"
      ],
      "metadata": {
        "colab": {
          "base_uri": "https://localhost:8080/",
          "height": 250
        },
        "id": "W0msHq0xSUnN",
        "outputId": "52e990bc-0b0b-4813-c17c-133cfeae0a66"
      },
      "execution_count": 6,
      "outputs": [
        {
          "output_type": "execute_result",
          "data": {
            "text/html": [
              "\n",
              "  <div id=\"df-f240a0cc-d937-4517-b186-87cd9c480810\">\n",
              "    <div class=\"colab-df-container\">\n",
              "      <div>\n",
              "<style scoped>\n",
              "    .dataframe tbody tr th:only-of-type {\n",
              "        vertical-align: middle;\n",
              "    }\n",
              "\n",
              "    .dataframe tbody tr th {\n",
              "        vertical-align: top;\n",
              "    }\n",
              "\n",
              "    .dataframe thead th {\n",
              "        text-align: right;\n",
              "    }\n",
              "</style>\n",
              "<table border=\"1\" class=\"dataframe\">\n",
              "  <thead>\n",
              "    <tr style=\"text-align: right;\">\n",
              "      <th></th>\n",
              "      <th>RowNumber</th>\n",
              "      <th>CustomerId</th>\n",
              "      <th>Surname</th>\n",
              "      <th>CreditScore</th>\n",
              "      <th>Geography</th>\n",
              "      <th>Gender</th>\n",
              "      <th>Age</th>\n",
              "      <th>Tenure</th>\n",
              "      <th>Balance</th>\n",
              "      <th>NumOfProducts</th>\n",
              "      <th>HasCrCard</th>\n",
              "      <th>IsActiveMember</th>\n",
              "      <th>EstimatedSalary</th>\n",
              "      <th>Exited</th>\n",
              "    </tr>\n",
              "  </thead>\n",
              "  <tbody>\n",
              "    <tr>\n",
              "      <th>9014</th>\n",
              "      <td>9015</td>\n",
              "      <td>15626383</td>\n",
              "      <td>Tang</td>\n",
              "      <td>596</td>\n",
              "      <td>Spain</td>\n",
              "      <td>Male</td>\n",
              "      <td>60</td>\n",
              "      <td>7</td>\n",
              "      <td>121907.97</td>\n",
              "      <td>1</td>\n",
              "      <td>0</td>\n",
              "      <td>1</td>\n",
              "      <td>30314.04</td>\n",
              "      <td>0</td>\n",
              "    </tr>\n",
              "    <tr>\n",
              "      <th>9449</th>\n",
              "      <td>9450</td>\n",
              "      <td>15615444</td>\n",
              "      <td>Y?an</td>\n",
              "      <td>663</td>\n",
              "      <td>Germany</td>\n",
              "      <td>Male</td>\n",
              "      <td>28</td>\n",
              "      <td>8</td>\n",
              "      <td>123674.28</td>\n",
              "      <td>2</td>\n",
              "      <td>1</td>\n",
              "      <td>1</td>\n",
              "      <td>87985.20</td>\n",
              "      <td>0</td>\n",
              "    </tr>\n",
              "    <tr>\n",
              "      <th>1752</th>\n",
              "      <td>1753</td>\n",
              "      <td>15724466</td>\n",
              "      <td>Swearingen</td>\n",
              "      <td>744</td>\n",
              "      <td>Germany</td>\n",
              "      <td>Female</td>\n",
              "      <td>41</td>\n",
              "      <td>2</td>\n",
              "      <td>84113.41</td>\n",
              "      <td>1</td>\n",
              "      <td>1</td>\n",
              "      <td>0</td>\n",
              "      <td>197548.63</td>\n",
              "      <td>0</td>\n",
              "    </tr>\n",
              "    <tr>\n",
              "      <th>6451</th>\n",
              "      <td>6452</td>\n",
              "      <td>15722583</td>\n",
              "      <td>Benjamin</td>\n",
              "      <td>636</td>\n",
              "      <td>Spain</td>\n",
              "      <td>Female</td>\n",
              "      <td>29</td>\n",
              "      <td>6</td>\n",
              "      <td>157576.47</td>\n",
              "      <td>2</td>\n",
              "      <td>1</td>\n",
              "      <td>1</td>\n",
              "      <td>101102.39</td>\n",
              "      <td>0</td>\n",
              "    </tr>\n",
              "    <tr>\n",
              "      <th>3418</th>\n",
              "      <td>3419</td>\n",
              "      <td>15632272</td>\n",
              "      <td>Lung</td>\n",
              "      <td>792</td>\n",
              "      <td>France</td>\n",
              "      <td>Female</td>\n",
              "      <td>42</td>\n",
              "      <td>2</td>\n",
              "      <td>0.00</td>\n",
              "      <td>2</td>\n",
              "      <td>1</td>\n",
              "      <td>0</td>\n",
              "      <td>92664.09</td>\n",
              "      <td>0</td>\n",
              "    </tr>\n",
              "  </tbody>\n",
              "</table>\n",
              "</div>\n",
              "      <button class=\"colab-df-convert\" onclick=\"convertToInteractive('df-f240a0cc-d937-4517-b186-87cd9c480810')\"\n",
              "              title=\"Convert this dataframe to an interactive table.\"\n",
              "              style=\"display:none;\">\n",
              "        \n",
              "  <svg xmlns=\"http://www.w3.org/2000/svg\" height=\"24px\"viewBox=\"0 0 24 24\"\n",
              "       width=\"24px\">\n",
              "    <path d=\"M0 0h24v24H0V0z\" fill=\"none\"/>\n",
              "    <path d=\"M18.56 5.44l.94 2.06.94-2.06 2.06-.94-2.06-.94-.94-2.06-.94 2.06-2.06.94zm-11 1L8.5 8.5l.94-2.06 2.06-.94-2.06-.94L8.5 2.5l-.94 2.06-2.06.94zm10 10l.94 2.06.94-2.06 2.06-.94-2.06-.94-.94-2.06-.94 2.06-2.06.94z\"/><path d=\"M17.41 7.96l-1.37-1.37c-.4-.4-.92-.59-1.43-.59-.52 0-1.04.2-1.43.59L10.3 9.45l-7.72 7.72c-.78.78-.78 2.05 0 2.83L4 21.41c.39.39.9.59 1.41.59.51 0 1.02-.2 1.41-.59l7.78-7.78 2.81-2.81c.8-.78.8-2.07 0-2.86zM5.41 20L4 18.59l7.72-7.72 1.47 1.35L5.41 20z\"/>\n",
              "  </svg>\n",
              "      </button>\n",
              "      \n",
              "  <style>\n",
              "    .colab-df-container {\n",
              "      display:flex;\n",
              "      flex-wrap:wrap;\n",
              "      gap: 12px;\n",
              "    }\n",
              "\n",
              "    .colab-df-convert {\n",
              "      background-color: #E8F0FE;\n",
              "      border: none;\n",
              "      border-radius: 50%;\n",
              "      cursor: pointer;\n",
              "      display: none;\n",
              "      fill: #1967D2;\n",
              "      height: 32px;\n",
              "      padding: 0 0 0 0;\n",
              "      width: 32px;\n",
              "    }\n",
              "\n",
              "    .colab-df-convert:hover {\n",
              "      background-color: #E2EBFA;\n",
              "      box-shadow: 0px 1px 2px rgba(60, 64, 67, 0.3), 0px 1px 3px 1px rgba(60, 64, 67, 0.15);\n",
              "      fill: #174EA6;\n",
              "    }\n",
              "\n",
              "    [theme=dark] .colab-df-convert {\n",
              "      background-color: #3B4455;\n",
              "      fill: #D2E3FC;\n",
              "    }\n",
              "\n",
              "    [theme=dark] .colab-df-convert:hover {\n",
              "      background-color: #434B5C;\n",
              "      box-shadow: 0px 1px 3px 1px rgba(0, 0, 0, 0.15);\n",
              "      filter: drop-shadow(0px 1px 2px rgba(0, 0, 0, 0.3));\n",
              "      fill: #FFFFFF;\n",
              "    }\n",
              "  </style>\n",
              "\n",
              "      <script>\n",
              "        const buttonEl =\n",
              "          document.querySelector('#df-f240a0cc-d937-4517-b186-87cd9c480810 button.colab-df-convert');\n",
              "        buttonEl.style.display =\n",
              "          google.colab.kernel.accessAllowed ? 'block' : 'none';\n",
              "\n",
              "        async function convertToInteractive(key) {\n",
              "          const element = document.querySelector('#df-f240a0cc-d937-4517-b186-87cd9c480810');\n",
              "          const dataTable =\n",
              "            await google.colab.kernel.invokeFunction('convertToInteractive',\n",
              "                                                     [key], {});\n",
              "          if (!dataTable) return;\n",
              "\n",
              "          const docLinkHtml = 'Like what you see? Visit the ' +\n",
              "            '<a target=\"_blank\" href=https://colab.research.google.com/notebooks/data_table.ipynb>data table notebook</a>'\n",
              "            + ' to learn more about interactive tables.';\n",
              "          element.innerHTML = '';\n",
              "          dataTable['output_type'] = 'display_data';\n",
              "          await google.colab.output.renderOutput(dataTable, element);\n",
              "          const docLink = document.createElement('div');\n",
              "          docLink.innerHTML = docLinkHtml;\n",
              "          element.appendChild(docLink);\n",
              "        }\n",
              "      </script>\n",
              "    </div>\n",
              "  </div>\n",
              "  "
            ],
            "text/plain": [
              "      RowNumber  CustomerId  ... EstimatedSalary  Exited\n",
              "9014       9015    15626383  ...        30314.04       0\n",
              "9449       9450    15615444  ...        87985.20       0\n",
              "1752       1753    15724466  ...       197548.63       0\n",
              "6451       6452    15722583  ...       101102.39       0\n",
              "3418       3419    15632272  ...        92664.09       0\n",
              "\n",
              "[5 rows x 14 columns]"
            ]
          },
          "metadata": {},
          "execution_count": 6
        }
      ]
    },
    {
      "cell_type": "code",
      "source": [
        "data.drop(['RowNumber','CustomerId','Surname'],axis=1,inplace=True)"
      ],
      "metadata": {
        "id": "7G86CAJcSVdT"
      },
      "execution_count": 7,
      "outputs": []
    },
    {
      "cell_type": "code",
      "source": [
        "data.shape"
      ],
      "metadata": {
        "colab": {
          "base_uri": "https://localhost:8080/"
        },
        "id": "3n-8LuHRSmpJ",
        "outputId": "f60ef9c7-a958-4312-eead-48c1a369a2ea"
      },
      "execution_count": 8,
      "outputs": [
        {
          "output_type": "execute_result",
          "data": {
            "text/plain": [
              "(10000, 11)"
            ]
          },
          "metadata": {},
          "execution_count": 8
        }
      ]
    },
    {
      "cell_type": "code",
      "source": [
        "data.info()"
      ],
      "metadata": {
        "colab": {
          "base_uri": "https://localhost:8080/"
        },
        "id": "teHNKMuqSpQy",
        "outputId": "2347c64f-249c-4716-a1dc-2850fa144df2"
      },
      "execution_count": 9,
      "outputs": [
        {
          "output_type": "stream",
          "name": "stdout",
          "text": [
            "<class 'pandas.core.frame.DataFrame'>\n",
            "RangeIndex: 10000 entries, 0 to 9999\n",
            "Data columns (total 11 columns):\n",
            " #   Column           Non-Null Count  Dtype  \n",
            "---  ------           --------------  -----  \n",
            " 0   CreditScore      10000 non-null  int64  \n",
            " 1   Geography        10000 non-null  object \n",
            " 2   Gender           10000 non-null  object \n",
            " 3   Age              10000 non-null  int64  \n",
            " 4   Tenure           10000 non-null  int64  \n",
            " 5   Balance          10000 non-null  float64\n",
            " 6   NumOfProducts    10000 non-null  int64  \n",
            " 7   HasCrCard        10000 non-null  int64  \n",
            " 8   IsActiveMember   10000 non-null  int64  \n",
            " 9   EstimatedSalary  10000 non-null  float64\n",
            " 10  Exited           10000 non-null  int64  \n",
            "dtypes: float64(2), int64(7), object(2)\n",
            "memory usage: 859.5+ KB\n"
          ]
        }
      ]
    },
    {
      "cell_type": "code",
      "source": [
        "data.isna().sum()"
      ],
      "metadata": {
        "colab": {
          "base_uri": "https://localhost:8080/"
        },
        "id": "OI7xgk4QSqUq",
        "outputId": "85b09383-c7a0-42d5-d8f5-2cf7203190a8"
      },
      "execution_count": 12,
      "outputs": [
        {
          "output_type": "execute_result",
          "data": {
            "text/plain": [
              "CreditScore        0\n",
              "Geography          0\n",
              "Gender             0\n",
              "Age                0\n",
              "Tenure             0\n",
              "Balance            0\n",
              "NumOfProducts      0\n",
              "HasCrCard          0\n",
              "IsActiveMember     0\n",
              "EstimatedSalary    0\n",
              "Exited             0\n",
              "dtype: int64"
            ]
          },
          "metadata": {},
          "execution_count": 12
        }
      ]
    },
    {
      "cell_type": "code",
      "source": [
        "data.describe(include='all').T"
      ],
      "metadata": {
        "colab": {
          "base_uri": "https://localhost:8080/",
          "height": 394
        },
        "id": "SznPIE8TTDBL",
        "outputId": "dcaf14e3-4380-46a5-87a1-baeac0e986bb"
      },
      "execution_count": 16,
      "outputs": [
        {
          "output_type": "execute_result",
          "data": {
            "text/html": [
              "\n",
              "  <div id=\"df-1532ffef-416b-4580-b9db-4eeb434cb454\">\n",
              "    <div class=\"colab-df-container\">\n",
              "      <div>\n",
              "<style scoped>\n",
              "    .dataframe tbody tr th:only-of-type {\n",
              "        vertical-align: middle;\n",
              "    }\n",
              "\n",
              "    .dataframe tbody tr th {\n",
              "        vertical-align: top;\n",
              "    }\n",
              "\n",
              "    .dataframe thead th {\n",
              "        text-align: right;\n",
              "    }\n",
              "</style>\n",
              "<table border=\"1\" class=\"dataframe\">\n",
              "  <thead>\n",
              "    <tr style=\"text-align: right;\">\n",
              "      <th></th>\n",
              "      <th>count</th>\n",
              "      <th>unique</th>\n",
              "      <th>top</th>\n",
              "      <th>freq</th>\n",
              "      <th>mean</th>\n",
              "      <th>std</th>\n",
              "      <th>min</th>\n",
              "      <th>25%</th>\n",
              "      <th>50%</th>\n",
              "      <th>75%</th>\n",
              "      <th>max</th>\n",
              "    </tr>\n",
              "  </thead>\n",
              "  <tbody>\n",
              "    <tr>\n",
              "      <th>CreditScore</th>\n",
              "      <td>10000</td>\n",
              "      <td>NaN</td>\n",
              "      <td>NaN</td>\n",
              "      <td>NaN</td>\n",
              "      <td>650.529</td>\n",
              "      <td>96.6533</td>\n",
              "      <td>350</td>\n",
              "      <td>584</td>\n",
              "      <td>652</td>\n",
              "      <td>718</td>\n",
              "      <td>850</td>\n",
              "    </tr>\n",
              "    <tr>\n",
              "      <th>Geography</th>\n",
              "      <td>10000</td>\n",
              "      <td>3</td>\n",
              "      <td>France</td>\n",
              "      <td>5014</td>\n",
              "      <td>NaN</td>\n",
              "      <td>NaN</td>\n",
              "      <td>NaN</td>\n",
              "      <td>NaN</td>\n",
              "      <td>NaN</td>\n",
              "      <td>NaN</td>\n",
              "      <td>NaN</td>\n",
              "    </tr>\n",
              "    <tr>\n",
              "      <th>Gender</th>\n",
              "      <td>10000</td>\n",
              "      <td>2</td>\n",
              "      <td>Male</td>\n",
              "      <td>5457</td>\n",
              "      <td>NaN</td>\n",
              "      <td>NaN</td>\n",
              "      <td>NaN</td>\n",
              "      <td>NaN</td>\n",
              "      <td>NaN</td>\n",
              "      <td>NaN</td>\n",
              "      <td>NaN</td>\n",
              "    </tr>\n",
              "    <tr>\n",
              "      <th>Age</th>\n",
              "      <td>10000</td>\n",
              "      <td>NaN</td>\n",
              "      <td>NaN</td>\n",
              "      <td>NaN</td>\n",
              "      <td>38.9218</td>\n",
              "      <td>10.4878</td>\n",
              "      <td>18</td>\n",
              "      <td>32</td>\n",
              "      <td>37</td>\n",
              "      <td>44</td>\n",
              "      <td>92</td>\n",
              "    </tr>\n",
              "    <tr>\n",
              "      <th>Tenure</th>\n",
              "      <td>10000</td>\n",
              "      <td>NaN</td>\n",
              "      <td>NaN</td>\n",
              "      <td>NaN</td>\n",
              "      <td>5.0128</td>\n",
              "      <td>2.89217</td>\n",
              "      <td>0</td>\n",
              "      <td>3</td>\n",
              "      <td>5</td>\n",
              "      <td>7</td>\n",
              "      <td>10</td>\n",
              "    </tr>\n",
              "    <tr>\n",
              "      <th>Balance</th>\n",
              "      <td>10000</td>\n",
              "      <td>NaN</td>\n",
              "      <td>NaN</td>\n",
              "      <td>NaN</td>\n",
              "      <td>76485.9</td>\n",
              "      <td>62397.4</td>\n",
              "      <td>0</td>\n",
              "      <td>0</td>\n",
              "      <td>97198.5</td>\n",
              "      <td>127644</td>\n",
              "      <td>250898</td>\n",
              "    </tr>\n",
              "    <tr>\n",
              "      <th>NumOfProducts</th>\n",
              "      <td>10000</td>\n",
              "      <td>NaN</td>\n",
              "      <td>NaN</td>\n",
              "      <td>NaN</td>\n",
              "      <td>1.5302</td>\n",
              "      <td>0.581654</td>\n",
              "      <td>1</td>\n",
              "      <td>1</td>\n",
              "      <td>1</td>\n",
              "      <td>2</td>\n",
              "      <td>4</td>\n",
              "    </tr>\n",
              "    <tr>\n",
              "      <th>HasCrCard</th>\n",
              "      <td>10000</td>\n",
              "      <td>NaN</td>\n",
              "      <td>NaN</td>\n",
              "      <td>NaN</td>\n",
              "      <td>0.7055</td>\n",
              "      <td>0.45584</td>\n",
              "      <td>0</td>\n",
              "      <td>0</td>\n",
              "      <td>1</td>\n",
              "      <td>1</td>\n",
              "      <td>1</td>\n",
              "    </tr>\n",
              "    <tr>\n",
              "      <th>IsActiveMember</th>\n",
              "      <td>10000</td>\n",
              "      <td>NaN</td>\n",
              "      <td>NaN</td>\n",
              "      <td>NaN</td>\n",
              "      <td>0.5151</td>\n",
              "      <td>0.499797</td>\n",
              "      <td>0</td>\n",
              "      <td>0</td>\n",
              "      <td>1</td>\n",
              "      <td>1</td>\n",
              "      <td>1</td>\n",
              "    </tr>\n",
              "    <tr>\n",
              "      <th>EstimatedSalary</th>\n",
              "      <td>10000</td>\n",
              "      <td>NaN</td>\n",
              "      <td>NaN</td>\n",
              "      <td>NaN</td>\n",
              "      <td>100090</td>\n",
              "      <td>57510.5</td>\n",
              "      <td>11.58</td>\n",
              "      <td>51002.1</td>\n",
              "      <td>100194</td>\n",
              "      <td>149388</td>\n",
              "      <td>199992</td>\n",
              "    </tr>\n",
              "    <tr>\n",
              "      <th>Exited</th>\n",
              "      <td>10000</td>\n",
              "      <td>NaN</td>\n",
              "      <td>NaN</td>\n",
              "      <td>NaN</td>\n",
              "      <td>0.2037</td>\n",
              "      <td>0.402769</td>\n",
              "      <td>0</td>\n",
              "      <td>0</td>\n",
              "      <td>0</td>\n",
              "      <td>0</td>\n",
              "      <td>1</td>\n",
              "    </tr>\n",
              "  </tbody>\n",
              "</table>\n",
              "</div>\n",
              "      <button class=\"colab-df-convert\" onclick=\"convertToInteractive('df-1532ffef-416b-4580-b9db-4eeb434cb454')\"\n",
              "              title=\"Convert this dataframe to an interactive table.\"\n",
              "              style=\"display:none;\">\n",
              "        \n",
              "  <svg xmlns=\"http://www.w3.org/2000/svg\" height=\"24px\"viewBox=\"0 0 24 24\"\n",
              "       width=\"24px\">\n",
              "    <path d=\"M0 0h24v24H0V0z\" fill=\"none\"/>\n",
              "    <path d=\"M18.56 5.44l.94 2.06.94-2.06 2.06-.94-2.06-.94-.94-2.06-.94 2.06-2.06.94zm-11 1L8.5 8.5l.94-2.06 2.06-.94-2.06-.94L8.5 2.5l-.94 2.06-2.06.94zm10 10l.94 2.06.94-2.06 2.06-.94-2.06-.94-.94-2.06-.94 2.06-2.06.94z\"/><path d=\"M17.41 7.96l-1.37-1.37c-.4-.4-.92-.59-1.43-.59-.52 0-1.04.2-1.43.59L10.3 9.45l-7.72 7.72c-.78.78-.78 2.05 0 2.83L4 21.41c.39.39.9.59 1.41.59.51 0 1.02-.2 1.41-.59l7.78-7.78 2.81-2.81c.8-.78.8-2.07 0-2.86zM5.41 20L4 18.59l7.72-7.72 1.47 1.35L5.41 20z\"/>\n",
              "  </svg>\n",
              "      </button>\n",
              "      \n",
              "  <style>\n",
              "    .colab-df-container {\n",
              "      display:flex;\n",
              "      flex-wrap:wrap;\n",
              "      gap: 12px;\n",
              "    }\n",
              "\n",
              "    .colab-df-convert {\n",
              "      background-color: #E8F0FE;\n",
              "      border: none;\n",
              "      border-radius: 50%;\n",
              "      cursor: pointer;\n",
              "      display: none;\n",
              "      fill: #1967D2;\n",
              "      height: 32px;\n",
              "      padding: 0 0 0 0;\n",
              "      width: 32px;\n",
              "    }\n",
              "\n",
              "    .colab-df-convert:hover {\n",
              "      background-color: #E2EBFA;\n",
              "      box-shadow: 0px 1px 2px rgba(60, 64, 67, 0.3), 0px 1px 3px 1px rgba(60, 64, 67, 0.15);\n",
              "      fill: #174EA6;\n",
              "    }\n",
              "\n",
              "    [theme=dark] .colab-df-convert {\n",
              "      background-color: #3B4455;\n",
              "      fill: #D2E3FC;\n",
              "    }\n",
              "\n",
              "    [theme=dark] .colab-df-convert:hover {\n",
              "      background-color: #434B5C;\n",
              "      box-shadow: 0px 1px 3px 1px rgba(0, 0, 0, 0.15);\n",
              "      filter: drop-shadow(0px 1px 2px rgba(0, 0, 0, 0.3));\n",
              "      fill: #FFFFFF;\n",
              "    }\n",
              "  </style>\n",
              "\n",
              "      <script>\n",
              "        const buttonEl =\n",
              "          document.querySelector('#df-1532ffef-416b-4580-b9db-4eeb434cb454 button.colab-df-convert');\n",
              "        buttonEl.style.display =\n",
              "          google.colab.kernel.accessAllowed ? 'block' : 'none';\n",
              "\n",
              "        async function convertToInteractive(key) {\n",
              "          const element = document.querySelector('#df-1532ffef-416b-4580-b9db-4eeb434cb454');\n",
              "          const dataTable =\n",
              "            await google.colab.kernel.invokeFunction('convertToInteractive',\n",
              "                                                     [key], {});\n",
              "          if (!dataTable) return;\n",
              "\n",
              "          const docLinkHtml = 'Like what you see? Visit the ' +\n",
              "            '<a target=\"_blank\" href=https://colab.research.google.com/notebooks/data_table.ipynb>data table notebook</a>'\n",
              "            + ' to learn more about interactive tables.';\n",
              "          element.innerHTML = '';\n",
              "          dataTable['output_type'] = 'display_data';\n",
              "          await google.colab.output.renderOutput(dataTable, element);\n",
              "          const docLink = document.createElement('div');\n",
              "          docLink.innerHTML = docLinkHtml;\n",
              "          element.appendChild(docLink);\n",
              "        }\n",
              "      </script>\n",
              "    </div>\n",
              "  </div>\n",
              "  "
            ],
            "text/plain": [
              "                 count unique     top  freq  ...      25%      50%     75%     max\n",
              "CreditScore      10000    NaN     NaN   NaN  ...      584      652     718     850\n",
              "Geography        10000      3  France  5014  ...      NaN      NaN     NaN     NaN\n",
              "Gender           10000      2    Male  5457  ...      NaN      NaN     NaN     NaN\n",
              "Age              10000    NaN     NaN   NaN  ...       32       37      44      92\n",
              "Tenure           10000    NaN     NaN   NaN  ...        3        5       7      10\n",
              "Balance          10000    NaN     NaN   NaN  ...        0  97198.5  127644  250898\n",
              "NumOfProducts    10000    NaN     NaN   NaN  ...        1        1       2       4\n",
              "HasCrCard        10000    NaN     NaN   NaN  ...        0        1       1       1\n",
              "IsActiveMember   10000    NaN     NaN   NaN  ...        0        1       1       1\n",
              "EstimatedSalary  10000    NaN     NaN   NaN  ...  51002.1   100194  149388  199992\n",
              "Exited           10000    NaN     NaN   NaN  ...        0        0       0       1\n",
              "\n",
              "[11 rows x 11 columns]"
            ]
          },
          "metadata": {},
          "execution_count": 16
        }
      ]
    },
    {
      "cell_type": "markdown",
      "source": [
        "Spliliting into Features and Target values "
      ],
      "metadata": {
        "id": "zWQwgE_2TT_y"
      }
    },
    {
      "cell_type": "code",
      "source": [
        "data.head()"
      ],
      "metadata": {
        "colab": {
          "base_uri": "https://localhost:8080/",
          "height": 206
        },
        "id": "2FbTKD3dTwW7",
        "outputId": "da150c42-bed7-41fe-9cbc-3eb5938fb930"
      },
      "execution_count": 17,
      "outputs": [
        {
          "output_type": "execute_result",
          "data": {
            "text/html": [
              "\n",
              "  <div id=\"df-1ad87e16-5755-46c3-8c7a-2a4c8bbd37c2\">\n",
              "    <div class=\"colab-df-container\">\n",
              "      <div>\n",
              "<style scoped>\n",
              "    .dataframe tbody tr th:only-of-type {\n",
              "        vertical-align: middle;\n",
              "    }\n",
              "\n",
              "    .dataframe tbody tr th {\n",
              "        vertical-align: top;\n",
              "    }\n",
              "\n",
              "    .dataframe thead th {\n",
              "        text-align: right;\n",
              "    }\n",
              "</style>\n",
              "<table border=\"1\" class=\"dataframe\">\n",
              "  <thead>\n",
              "    <tr style=\"text-align: right;\">\n",
              "      <th></th>\n",
              "      <th>CreditScore</th>\n",
              "      <th>Geography</th>\n",
              "      <th>Gender</th>\n",
              "      <th>Age</th>\n",
              "      <th>Tenure</th>\n",
              "      <th>Balance</th>\n",
              "      <th>NumOfProducts</th>\n",
              "      <th>HasCrCard</th>\n",
              "      <th>IsActiveMember</th>\n",
              "      <th>EstimatedSalary</th>\n",
              "      <th>Exited</th>\n",
              "    </tr>\n",
              "  </thead>\n",
              "  <tbody>\n",
              "    <tr>\n",
              "      <th>0</th>\n",
              "      <td>619</td>\n",
              "      <td>France</td>\n",
              "      <td>Female</td>\n",
              "      <td>42</td>\n",
              "      <td>2</td>\n",
              "      <td>0.00</td>\n",
              "      <td>1</td>\n",
              "      <td>1</td>\n",
              "      <td>1</td>\n",
              "      <td>101348.88</td>\n",
              "      <td>1</td>\n",
              "    </tr>\n",
              "    <tr>\n",
              "      <th>1</th>\n",
              "      <td>608</td>\n",
              "      <td>Spain</td>\n",
              "      <td>Female</td>\n",
              "      <td>41</td>\n",
              "      <td>1</td>\n",
              "      <td>83807.86</td>\n",
              "      <td>1</td>\n",
              "      <td>0</td>\n",
              "      <td>1</td>\n",
              "      <td>112542.58</td>\n",
              "      <td>0</td>\n",
              "    </tr>\n",
              "    <tr>\n",
              "      <th>2</th>\n",
              "      <td>502</td>\n",
              "      <td>France</td>\n",
              "      <td>Female</td>\n",
              "      <td>42</td>\n",
              "      <td>8</td>\n",
              "      <td>159660.80</td>\n",
              "      <td>3</td>\n",
              "      <td>1</td>\n",
              "      <td>0</td>\n",
              "      <td>113931.57</td>\n",
              "      <td>1</td>\n",
              "    </tr>\n",
              "    <tr>\n",
              "      <th>3</th>\n",
              "      <td>699</td>\n",
              "      <td>France</td>\n",
              "      <td>Female</td>\n",
              "      <td>39</td>\n",
              "      <td>1</td>\n",
              "      <td>0.00</td>\n",
              "      <td>2</td>\n",
              "      <td>0</td>\n",
              "      <td>0</td>\n",
              "      <td>93826.63</td>\n",
              "      <td>0</td>\n",
              "    </tr>\n",
              "    <tr>\n",
              "      <th>4</th>\n",
              "      <td>850</td>\n",
              "      <td>Spain</td>\n",
              "      <td>Female</td>\n",
              "      <td>43</td>\n",
              "      <td>2</td>\n",
              "      <td>125510.82</td>\n",
              "      <td>1</td>\n",
              "      <td>1</td>\n",
              "      <td>1</td>\n",
              "      <td>79084.10</td>\n",
              "      <td>0</td>\n",
              "    </tr>\n",
              "  </tbody>\n",
              "</table>\n",
              "</div>\n",
              "      <button class=\"colab-df-convert\" onclick=\"convertToInteractive('df-1ad87e16-5755-46c3-8c7a-2a4c8bbd37c2')\"\n",
              "              title=\"Convert this dataframe to an interactive table.\"\n",
              "              style=\"display:none;\">\n",
              "        \n",
              "  <svg xmlns=\"http://www.w3.org/2000/svg\" height=\"24px\"viewBox=\"0 0 24 24\"\n",
              "       width=\"24px\">\n",
              "    <path d=\"M0 0h24v24H0V0z\" fill=\"none\"/>\n",
              "    <path d=\"M18.56 5.44l.94 2.06.94-2.06 2.06-.94-2.06-.94-.94-2.06-.94 2.06-2.06.94zm-11 1L8.5 8.5l.94-2.06 2.06-.94-2.06-.94L8.5 2.5l-.94 2.06-2.06.94zm10 10l.94 2.06.94-2.06 2.06-.94-2.06-.94-.94-2.06-.94 2.06-2.06.94z\"/><path d=\"M17.41 7.96l-1.37-1.37c-.4-.4-.92-.59-1.43-.59-.52 0-1.04.2-1.43.59L10.3 9.45l-7.72 7.72c-.78.78-.78 2.05 0 2.83L4 21.41c.39.39.9.59 1.41.59.51 0 1.02-.2 1.41-.59l7.78-7.78 2.81-2.81c.8-.78.8-2.07 0-2.86zM5.41 20L4 18.59l7.72-7.72 1.47 1.35L5.41 20z\"/>\n",
              "  </svg>\n",
              "      </button>\n",
              "      \n",
              "  <style>\n",
              "    .colab-df-container {\n",
              "      display:flex;\n",
              "      flex-wrap:wrap;\n",
              "      gap: 12px;\n",
              "    }\n",
              "\n",
              "    .colab-df-convert {\n",
              "      background-color: #E8F0FE;\n",
              "      border: none;\n",
              "      border-radius: 50%;\n",
              "      cursor: pointer;\n",
              "      display: none;\n",
              "      fill: #1967D2;\n",
              "      height: 32px;\n",
              "      padding: 0 0 0 0;\n",
              "      width: 32px;\n",
              "    }\n",
              "\n",
              "    .colab-df-convert:hover {\n",
              "      background-color: #E2EBFA;\n",
              "      box-shadow: 0px 1px 2px rgba(60, 64, 67, 0.3), 0px 1px 3px 1px rgba(60, 64, 67, 0.15);\n",
              "      fill: #174EA6;\n",
              "    }\n",
              "\n",
              "    [theme=dark] .colab-df-convert {\n",
              "      background-color: #3B4455;\n",
              "      fill: #D2E3FC;\n",
              "    }\n",
              "\n",
              "    [theme=dark] .colab-df-convert:hover {\n",
              "      background-color: #434B5C;\n",
              "      box-shadow: 0px 1px 3px 1px rgba(0, 0, 0, 0.15);\n",
              "      filter: drop-shadow(0px 1px 2px rgba(0, 0, 0, 0.3));\n",
              "      fill: #FFFFFF;\n",
              "    }\n",
              "  </style>\n",
              "\n",
              "      <script>\n",
              "        const buttonEl =\n",
              "          document.querySelector('#df-1ad87e16-5755-46c3-8c7a-2a4c8bbd37c2 button.colab-df-convert');\n",
              "        buttonEl.style.display =\n",
              "          google.colab.kernel.accessAllowed ? 'block' : 'none';\n",
              "\n",
              "        async function convertToInteractive(key) {\n",
              "          const element = document.querySelector('#df-1ad87e16-5755-46c3-8c7a-2a4c8bbd37c2');\n",
              "          const dataTable =\n",
              "            await google.colab.kernel.invokeFunction('convertToInteractive',\n",
              "                                                     [key], {});\n",
              "          if (!dataTable) return;\n",
              "\n",
              "          const docLinkHtml = 'Like what you see? Visit the ' +\n",
              "            '<a target=\"_blank\" href=https://colab.research.google.com/notebooks/data_table.ipynb>data table notebook</a>'\n",
              "            + ' to learn more about interactive tables.';\n",
              "          element.innerHTML = '';\n",
              "          dataTable['output_type'] = 'display_data';\n",
              "          await google.colab.output.renderOutput(dataTable, element);\n",
              "          const docLink = document.createElement('div');\n",
              "          docLink.innerHTML = docLinkHtml;\n",
              "          element.appendChild(docLink);\n",
              "        }\n",
              "      </script>\n",
              "    </div>\n",
              "  </div>\n",
              "  "
            ],
            "text/plain": [
              "   CreditScore Geography  Gender  ...  IsActiveMember  EstimatedSalary  Exited\n",
              "0          619    France  Female  ...               1        101348.88       1\n",
              "1          608     Spain  Female  ...               1        112542.58       0\n",
              "2          502    France  Female  ...               0        113931.57       1\n",
              "3          699    France  Female  ...               0         93826.63       0\n",
              "4          850     Spain  Female  ...               1         79084.10       0\n",
              "\n",
              "[5 rows x 11 columns]"
            ]
          },
          "metadata": {},
          "execution_count": 17
        }
      ]
    },
    {
      "cell_type": "code",
      "source": [
        "x=data.iloc[:,:-1]\n",
        "y=data[['Exited']]"
      ],
      "metadata": {
        "id": "ZDcVn3usTy4a"
      },
      "execution_count": 18,
      "outputs": []
    },
    {
      "cell_type": "code",
      "source": [
        "x.shape"
      ],
      "metadata": {
        "colab": {
          "base_uri": "https://localhost:8080/"
        },
        "id": "zuQACFSVT_P3",
        "outputId": "4ec07d03-9ba1-4d7b-fd13-43790a4c789d"
      },
      "execution_count": 21,
      "outputs": [
        {
          "output_type": "execute_result",
          "data": {
            "text/plain": [
              "(10000, 10)"
            ]
          },
          "metadata": {},
          "execution_count": 21
        }
      ]
    },
    {
      "cell_type": "code",
      "source": [
        "y.shape"
      ],
      "metadata": {
        "colab": {
          "base_uri": "https://localhost:8080/"
        },
        "id": "yjg1O2KOUAEd",
        "outputId": "8f6a4295-f579-4dab-c724-9cc2216cd6cf"
      },
      "execution_count": 22,
      "outputs": [
        {
          "output_type": "execute_result",
          "data": {
            "text/plain": [
              "(10000, 1)"
            ]
          },
          "metadata": {},
          "execution_count": 22
        }
      ]
    },
    {
      "cell_type": "code",
      "source": [
        "label=LabelEncoder()\n",
        "x['Geography']=label.fit_transform(x['Geography'])"
      ],
      "metadata": {
        "id": "1Ghh3j4WUE69"
      },
      "execution_count": 29,
      "outputs": []
    },
    {
      "cell_type": "code",
      "source": [
        "label=LabelEncoder()\n",
        "x['Gender']=label.fit_transform(x['Gender'])"
      ],
      "metadata": {
        "id": "PCyvFWEWUgya"
      },
      "execution_count": 30,
      "outputs": []
    },
    {
      "cell_type": "code",
      "source": [
        "x.head()"
      ],
      "metadata": {
        "colab": {
          "base_uri": "https://localhost:8080/",
          "height": 206
        },
        "id": "tN_HmMaiU0zT",
        "outputId": "3bebdfac-b19a-436d-bc90-43d3aa500b7f"
      },
      "execution_count": 32,
      "outputs": [
        {
          "output_type": "execute_result",
          "data": {
            "text/html": [
              "\n",
              "  <div id=\"df-c3866fdc-d6ac-472b-abe2-1efa656f144c\">\n",
              "    <div class=\"colab-df-container\">\n",
              "      <div>\n",
              "<style scoped>\n",
              "    .dataframe tbody tr th:only-of-type {\n",
              "        vertical-align: middle;\n",
              "    }\n",
              "\n",
              "    .dataframe tbody tr th {\n",
              "        vertical-align: top;\n",
              "    }\n",
              "\n",
              "    .dataframe thead th {\n",
              "        text-align: right;\n",
              "    }\n",
              "</style>\n",
              "<table border=\"1\" class=\"dataframe\">\n",
              "  <thead>\n",
              "    <tr style=\"text-align: right;\">\n",
              "      <th></th>\n",
              "      <th>CreditScore</th>\n",
              "      <th>Geography</th>\n",
              "      <th>Gender</th>\n",
              "      <th>Age</th>\n",
              "      <th>Tenure</th>\n",
              "      <th>Balance</th>\n",
              "      <th>NumOfProducts</th>\n",
              "      <th>HasCrCard</th>\n",
              "      <th>IsActiveMember</th>\n",
              "      <th>EstimatedSalary</th>\n",
              "    </tr>\n",
              "  </thead>\n",
              "  <tbody>\n",
              "    <tr>\n",
              "      <th>0</th>\n",
              "      <td>619</td>\n",
              "      <td>0</td>\n",
              "      <td>0</td>\n",
              "      <td>42</td>\n",
              "      <td>2</td>\n",
              "      <td>0.00</td>\n",
              "      <td>1</td>\n",
              "      <td>1</td>\n",
              "      <td>1</td>\n",
              "      <td>101348.88</td>\n",
              "    </tr>\n",
              "    <tr>\n",
              "      <th>1</th>\n",
              "      <td>608</td>\n",
              "      <td>2</td>\n",
              "      <td>0</td>\n",
              "      <td>41</td>\n",
              "      <td>1</td>\n",
              "      <td>83807.86</td>\n",
              "      <td>1</td>\n",
              "      <td>0</td>\n",
              "      <td>1</td>\n",
              "      <td>112542.58</td>\n",
              "    </tr>\n",
              "    <tr>\n",
              "      <th>2</th>\n",
              "      <td>502</td>\n",
              "      <td>0</td>\n",
              "      <td>0</td>\n",
              "      <td>42</td>\n",
              "      <td>8</td>\n",
              "      <td>159660.80</td>\n",
              "      <td>3</td>\n",
              "      <td>1</td>\n",
              "      <td>0</td>\n",
              "      <td>113931.57</td>\n",
              "    </tr>\n",
              "    <tr>\n",
              "      <th>3</th>\n",
              "      <td>699</td>\n",
              "      <td>0</td>\n",
              "      <td>0</td>\n",
              "      <td>39</td>\n",
              "      <td>1</td>\n",
              "      <td>0.00</td>\n",
              "      <td>2</td>\n",
              "      <td>0</td>\n",
              "      <td>0</td>\n",
              "      <td>93826.63</td>\n",
              "    </tr>\n",
              "    <tr>\n",
              "      <th>4</th>\n",
              "      <td>850</td>\n",
              "      <td>2</td>\n",
              "      <td>0</td>\n",
              "      <td>43</td>\n",
              "      <td>2</td>\n",
              "      <td>125510.82</td>\n",
              "      <td>1</td>\n",
              "      <td>1</td>\n",
              "      <td>1</td>\n",
              "      <td>79084.10</td>\n",
              "    </tr>\n",
              "  </tbody>\n",
              "</table>\n",
              "</div>\n",
              "      <button class=\"colab-df-convert\" onclick=\"convertToInteractive('df-c3866fdc-d6ac-472b-abe2-1efa656f144c')\"\n",
              "              title=\"Convert this dataframe to an interactive table.\"\n",
              "              style=\"display:none;\">\n",
              "        \n",
              "  <svg xmlns=\"http://www.w3.org/2000/svg\" height=\"24px\"viewBox=\"0 0 24 24\"\n",
              "       width=\"24px\">\n",
              "    <path d=\"M0 0h24v24H0V0z\" fill=\"none\"/>\n",
              "    <path d=\"M18.56 5.44l.94 2.06.94-2.06 2.06-.94-2.06-.94-.94-2.06-.94 2.06-2.06.94zm-11 1L8.5 8.5l.94-2.06 2.06-.94-2.06-.94L8.5 2.5l-.94 2.06-2.06.94zm10 10l.94 2.06.94-2.06 2.06-.94-2.06-.94-.94-2.06-.94 2.06-2.06.94z\"/><path d=\"M17.41 7.96l-1.37-1.37c-.4-.4-.92-.59-1.43-.59-.52 0-1.04.2-1.43.59L10.3 9.45l-7.72 7.72c-.78.78-.78 2.05 0 2.83L4 21.41c.39.39.9.59 1.41.59.51 0 1.02-.2 1.41-.59l7.78-7.78 2.81-2.81c.8-.78.8-2.07 0-2.86zM5.41 20L4 18.59l7.72-7.72 1.47 1.35L5.41 20z\"/>\n",
              "  </svg>\n",
              "      </button>\n",
              "      \n",
              "  <style>\n",
              "    .colab-df-container {\n",
              "      display:flex;\n",
              "      flex-wrap:wrap;\n",
              "      gap: 12px;\n",
              "    }\n",
              "\n",
              "    .colab-df-convert {\n",
              "      background-color: #E8F0FE;\n",
              "      border: none;\n",
              "      border-radius: 50%;\n",
              "      cursor: pointer;\n",
              "      display: none;\n",
              "      fill: #1967D2;\n",
              "      height: 32px;\n",
              "      padding: 0 0 0 0;\n",
              "      width: 32px;\n",
              "    }\n",
              "\n",
              "    .colab-df-convert:hover {\n",
              "      background-color: #E2EBFA;\n",
              "      box-shadow: 0px 1px 2px rgba(60, 64, 67, 0.3), 0px 1px 3px 1px rgba(60, 64, 67, 0.15);\n",
              "      fill: #174EA6;\n",
              "    }\n",
              "\n",
              "    [theme=dark] .colab-df-convert {\n",
              "      background-color: #3B4455;\n",
              "      fill: #D2E3FC;\n",
              "    }\n",
              "\n",
              "    [theme=dark] .colab-df-convert:hover {\n",
              "      background-color: #434B5C;\n",
              "      box-shadow: 0px 1px 3px 1px rgba(0, 0, 0, 0.15);\n",
              "      filter: drop-shadow(0px 1px 2px rgba(0, 0, 0, 0.3));\n",
              "      fill: #FFFFFF;\n",
              "    }\n",
              "  </style>\n",
              "\n",
              "      <script>\n",
              "        const buttonEl =\n",
              "          document.querySelector('#df-c3866fdc-d6ac-472b-abe2-1efa656f144c button.colab-df-convert');\n",
              "        buttonEl.style.display =\n",
              "          google.colab.kernel.accessAllowed ? 'block' : 'none';\n",
              "\n",
              "        async function convertToInteractive(key) {\n",
              "          const element = document.querySelector('#df-c3866fdc-d6ac-472b-abe2-1efa656f144c');\n",
              "          const dataTable =\n",
              "            await google.colab.kernel.invokeFunction('convertToInteractive',\n",
              "                                                     [key], {});\n",
              "          if (!dataTable) return;\n",
              "\n",
              "          const docLinkHtml = 'Like what you see? Visit the ' +\n",
              "            '<a target=\"_blank\" href=https://colab.research.google.com/notebooks/data_table.ipynb>data table notebook</a>'\n",
              "            + ' to learn more about interactive tables.';\n",
              "          element.innerHTML = '';\n",
              "          dataTable['output_type'] = 'display_data';\n",
              "          await google.colab.output.renderOutput(dataTable, element);\n",
              "          const docLink = document.createElement('div');\n",
              "          docLink.innerHTML = docLinkHtml;\n",
              "          element.appendChild(docLink);\n",
              "        }\n",
              "      </script>\n",
              "    </div>\n",
              "  </div>\n",
              "  "
            ],
            "text/plain": [
              "   CreditScore  Geography  Gender  ...  HasCrCard  IsActiveMember  EstimatedSalary\n",
              "0          619          0       0  ...          1               1        101348.88\n",
              "1          608          2       0  ...          0               1        112542.58\n",
              "2          502          0       0  ...          1               0        113931.57\n",
              "3          699          0       0  ...          0               0         93826.63\n",
              "4          850          2       0  ...          1               1         79084.10\n",
              "\n",
              "[5 rows x 10 columns]"
            ]
          },
          "metadata": {},
          "execution_count": 32
        }
      ]
    },
    {
      "cell_type": "code",
      "source": [
        "import numpy as np\n",
        "from sklearn.compose import ColumnTransformer\n",
        "from sklearn.preprocessing import Normalizer\n",
        "ct = ColumnTransformer(\n",
        "     [(\"norm1\", Normalizer(norm='l1'), [0, 1]),\n",
        "     (\"norm2\", Normalizer(norm='l1'), slice(2, 4))])\n",
        "X = np.array([[0., 1., 2., 2.],\n",
        "              [1., 1., 0., 1.]])\n",
        " # Normalizer scales each row of X to unit norm. A separate scaling\n",
        " # is applied for the two first and two last elements of each\n",
        " # row independently.\n",
        "ct.fit_transform(X)"
      ],
      "metadata": {
        "colab": {
          "base_uri": "https://localhost:8080/"
        },
        "id": "5qxRtf8LU2cn",
        "outputId": "e9cb6a16-f1f4-49f8-8b47-4897756fbe9d"
      },
      "execution_count": 37,
      "outputs": [
        {
          "output_type": "execute_result",
          "data": {
            "text/plain": [
              "array([[0. , 1. , 0.5, 0.5],\n",
              "       [0.5, 0.5, 0. , 1. ]])"
            ]
          },
          "metadata": {},
          "execution_count": 37
        }
      ]
    },
    {
      "cell_type": "code",
      "source": [
        "from sklearn.compose import ColumnTransformer\n",
        "from sklearn.preprocessing import OneHotEncoder"
      ],
      "metadata": {
        "id": "cnysNwa3W-qk"
      },
      "execution_count": 39,
      "outputs": []
    },
    {
      "cell_type": "code",
      "source": [
        "CT=ColumnTransformer([('Geography',OneHotEncoder(),[1])],remainder='passthrough')"
      ],
      "metadata": {
        "id": "dYU6fjkZXqc4"
      },
      "execution_count": 42,
      "outputs": []
    },
    {
      "cell_type": "code",
      "source": [
        "X=CT.fit_transform(x)"
      ],
      "metadata": {
        "id": "S6UKtcG4YLuE"
      },
      "execution_count": 43,
      "outputs": []
    },
    {
      "cell_type": "code",
      "source": [
        "X = X[:,1:]"
      ],
      "metadata": {
        "id": "9wLJ8cqwYQVK"
      },
      "execution_count": 49,
      "outputs": []
    },
    {
      "cell_type": "code",
      "source": [
        "X.shape"
      ],
      "metadata": {
        "colab": {
          "base_uri": "https://localhost:8080/"
        },
        "id": "ry0NZZQRYYlQ",
        "outputId": "036e3802-0104-434a-b0dd-b937fe5a4415"
      },
      "execution_count": 50,
      "outputs": [
        {
          "output_type": "execute_result",
          "data": {
            "text/plain": [
              "(10000, 11)"
            ]
          },
          "metadata": {},
          "execution_count": 50
        }
      ]
    },
    {
      "cell_type": "code",
      "source": [
        "x_train,x_test,y_train,y_test=train_test_split(X,y,random_state=1,test_size=0.30)"
      ],
      "metadata": {
        "id": "PJJB2mBpY1hV"
      },
      "execution_count": 51,
      "outputs": []
    },
    {
      "cell_type": "code",
      "source": [
        "x_train.shape"
      ],
      "metadata": {
        "colab": {
          "base_uri": "https://localhost:8080/"
        },
        "id": "7EiFuDY8ZAwX",
        "outputId": "cd1046fe-6dfe-44c0-aac6-c6b6a973112b"
      },
      "execution_count": 52,
      "outputs": [
        {
          "output_type": "execute_result",
          "data": {
            "text/plain": [
              "(7000, 11)"
            ]
          },
          "metadata": {},
          "execution_count": 52
        }
      ]
    },
    {
      "cell_type": "code",
      "source": [
        "x_test.shape"
      ],
      "metadata": {
        "colab": {
          "base_uri": "https://localhost:8080/"
        },
        "id": "cSOaOOmkZCV6",
        "outputId": "7f2124e8-ea07-4381-a0db-a50b3fc8f06e"
      },
      "execution_count": 53,
      "outputs": [
        {
          "output_type": "execute_result",
          "data": {
            "text/plain": [
              "(3000, 11)"
            ]
          },
          "metadata": {},
          "execution_count": 53
        }
      ]
    },
    {
      "cell_type": "code",
      "source": [
        "y_train.shape"
      ],
      "metadata": {
        "colab": {
          "base_uri": "https://localhost:8080/"
        },
        "id": "2x-AmvChZETe",
        "outputId": "ae70767f-c503-4595-eed7-7474f3017251"
      },
      "execution_count": 54,
      "outputs": [
        {
          "output_type": "execute_result",
          "data": {
            "text/plain": [
              "(7000, 1)"
            ]
          },
          "metadata": {},
          "execution_count": 54
        }
      ]
    },
    {
      "cell_type": "code",
      "source": [
        "y_test.shape"
      ],
      "metadata": {
        "colab": {
          "base_uri": "https://localhost:8080/"
        },
        "id": "kkcDe6IgZFi_",
        "outputId": "92584b55-3da0-4c03-c1f3-69757faa77a4"
      },
      "execution_count": 55,
      "outputs": [
        {
          "output_type": "execute_result",
          "data": {
            "text/plain": [
              "(3000, 1)"
            ]
          },
          "metadata": {},
          "execution_count": 55
        }
      ]
    },
    {
      "cell_type": "code",
      "source": [
        "from sklearn.preprocessing import  StandardScaler"
      ],
      "metadata": {
        "id": "SF5Rdw_HZGmx"
      },
      "execution_count": 59,
      "outputs": []
    },
    {
      "cell_type": "code",
      "source": [
        "scaler=StandardScaler()\n",
        "X_train=scaler.fit_transform(x_train)\n",
        "X_test=scaler.fit_transform(x_test)"
      ],
      "metadata": {
        "id": "cAIrrWF-ZQre"
      },
      "execution_count": 60,
      "outputs": []
    },
    {
      "cell_type": "code",
      "source": [
        "model=tf.keras.models.Sequential()"
      ],
      "metadata": {
        "id": "zYOHHlhvZvE4"
      },
      "execution_count": 66,
      "outputs": []
    },
    {
      "cell_type": "code",
      "source": [
        "# The amount of nodes (dimensions) in hidden layer should be the average of input and output layers, in this case 6.\n",
        "# This adds the input layer (by specifying input dimension) AND the first hidden layer (units)\n",
        "model.add(tf.keras.layers.Dense(activation='relu', input_dim=11,units=6, kernel_initializer='uniform'))"
      ],
      "metadata": {
        "id": "xBKhbc6ZaaFA"
      },
      "execution_count": 71,
      "outputs": []
    },
    {
      "cell_type": "code",
      "source": [
        "model.add(tf.keras.layers.Dense(6,activation='relu',kernel_initializer='uniform'))"
      ],
      "metadata": {
        "id": "U5hism1-cn6r"
      },
      "execution_count": 72,
      "outputs": []
    },
    {
      "cell_type": "code",
      "source": [
        "model.add(tf.keras.layers.Dense(1,activation='sigmoid',kernel_initializer='uniform'))"
      ],
      "metadata": {
        "id": "yJ4NQLETdR1w"
      },
      "execution_count": 73,
      "outputs": []
    },
    {
      "cell_type": "code",
      "source": [
        "model.compile(optimizer='SGD',loss='mse',metrics=['accuracy'])"
      ],
      "metadata": {
        "id": "24R8KNY7dTv_"
      },
      "execution_count": 80,
      "outputs": []
    },
    {
      "cell_type": "code",
      "source": [
        "model.summary()"
      ],
      "metadata": {
        "colab": {
          "base_uri": "https://localhost:8080/"
        },
        "id": "2u42jvMudg8e",
        "outputId": "de4cf974-5ebe-49eb-b4e6-36d210128106"
      },
      "execution_count": 81,
      "outputs": [
        {
          "output_type": "stream",
          "name": "stdout",
          "text": [
            "Model: \"sequential\"\n",
            "_________________________________________________________________\n",
            " Layer (type)                Output Shape              Param #   \n",
            "=================================================================\n",
            " dense (Dense)               (None, 6)                 72        \n",
            "                                                                 \n",
            " dense_1 (Dense)             (None, 6)                 42        \n",
            "                                                                 \n",
            " dense_2 (Dense)             (None, 1)                 7         \n",
            "                                                                 \n",
            "=================================================================\n",
            "Total params: 121\n",
            "Trainable params: 121\n",
            "Non-trainable params: 0\n",
            "_________________________________________________________________\n"
          ]
        }
      ]
    },
    {
      "cell_type": "code",
      "source": [
        "model.fit(X_train,y_train,epochs=100,batch_size=20,validation_data=(X_test,y_test))"
      ],
      "metadata": {
        "colab": {
          "base_uri": "https://localhost:8080/"
        },
        "id": "ZHrYvharditk",
        "outputId": "1a7d301b-73fa-4809-9bc8-e4f3ba397c7a"
      },
      "execution_count": 82,
      "outputs": [
        {
          "output_type": "stream",
          "name": "stdout",
          "text": [
            "Epoch 1/100\n",
            "350/350 [==============================] - 1s 2ms/step - loss: 0.2206 - accuracy: 0.7974 - val_loss: 0.2006 - val_accuracy: 0.7910\n",
            "Epoch 2/100\n",
            "350/350 [==============================] - 1s 2ms/step - loss: 0.1875 - accuracy: 0.7986 - val_loss: 0.1813 - val_accuracy: 0.7910\n",
            "Epoch 3/100\n",
            "350/350 [==============================] - 1s 2ms/step - loss: 0.1740 - accuracy: 0.7986 - val_loss: 0.1733 - val_accuracy: 0.7910\n",
            "Epoch 4/100\n",
            "350/350 [==============================] - 1s 2ms/step - loss: 0.1679 - accuracy: 0.7986 - val_loss: 0.1695 - val_accuracy: 0.7910\n",
            "Epoch 5/100\n",
            "350/350 [==============================] - 1s 2ms/step - loss: 0.1649 - accuracy: 0.7986 - val_loss: 0.1676 - val_accuracy: 0.7910\n",
            "Epoch 6/100\n",
            "350/350 [==============================] - 1s 2ms/step - loss: 0.1632 - accuracy: 0.7986 - val_loss: 0.1666 - val_accuracy: 0.7910\n",
            "Epoch 7/100\n",
            "350/350 [==============================] - 1s 2ms/step - loss: 0.1623 - accuracy: 0.7986 - val_loss: 0.1660 - val_accuracy: 0.7910\n",
            "Epoch 8/100\n",
            "350/350 [==============================] - 1s 2ms/step - loss: 0.1618 - accuracy: 0.7986 - val_loss: 0.1657 - val_accuracy: 0.7910\n",
            "Epoch 9/100\n",
            "350/350 [==============================] - 1s 2ms/step - loss: 0.1615 - accuracy: 0.7986 - val_loss: 0.1655 - val_accuracy: 0.7910\n",
            "Epoch 10/100\n",
            "350/350 [==============================] - 1s 2ms/step - loss: 0.1612 - accuracy: 0.7986 - val_loss: 0.1654 - val_accuracy: 0.7910\n",
            "Epoch 11/100\n",
            "350/350 [==============================] - 1s 2ms/step - loss: 0.1611 - accuracy: 0.7986 - val_loss: 0.1654 - val_accuracy: 0.7910\n",
            "Epoch 12/100\n",
            "350/350 [==============================] - 1s 2ms/step - loss: 0.1610 - accuracy: 0.7986 - val_loss: 0.1653 - val_accuracy: 0.7910\n",
            "Epoch 13/100\n",
            "350/350 [==============================] - 1s 2ms/step - loss: 0.1610 - accuracy: 0.7986 - val_loss: 0.1653 - val_accuracy: 0.7910\n",
            "Epoch 14/100\n",
            "350/350 [==============================] - 1s 2ms/step - loss: 0.1609 - accuracy: 0.7986 - val_loss: 0.1653 - val_accuracy: 0.7910\n",
            "Epoch 15/100\n",
            "350/350 [==============================] - 1s 2ms/step - loss: 0.1609 - accuracy: 0.7986 - val_loss: 0.1653 - val_accuracy: 0.7910\n",
            "Epoch 16/100\n",
            "350/350 [==============================] - 1s 2ms/step - loss: 0.1609 - accuracy: 0.7986 - val_loss: 0.1653 - val_accuracy: 0.7910\n",
            "Epoch 17/100\n",
            "350/350 [==============================] - 1s 2ms/step - loss: 0.1609 - accuracy: 0.7986 - val_loss: 0.1653 - val_accuracy: 0.7910\n",
            "Epoch 18/100\n",
            "350/350 [==============================] - 1s 2ms/step - loss: 0.1609 - accuracy: 0.7986 - val_loss: 0.1653 - val_accuracy: 0.7910\n",
            "Epoch 19/100\n",
            "350/350 [==============================] - 1s 2ms/step - loss: 0.1609 - accuracy: 0.7986 - val_loss: 0.1653 - val_accuracy: 0.7910\n",
            "Epoch 20/100\n",
            "350/350 [==============================] - 1s 2ms/step - loss: 0.1609 - accuracy: 0.7986 - val_loss: 0.1653 - val_accuracy: 0.7910\n",
            "Epoch 21/100\n",
            "350/350 [==============================] - 1s 2ms/step - loss: 0.1609 - accuracy: 0.7986 - val_loss: 0.1653 - val_accuracy: 0.7910\n",
            "Epoch 22/100\n",
            "350/350 [==============================] - 1s 2ms/step - loss: 0.1609 - accuracy: 0.7986 - val_loss: 0.1654 - val_accuracy: 0.7910\n",
            "Epoch 23/100\n",
            "350/350 [==============================] - 1s 2ms/step - loss: 0.1609 - accuracy: 0.7986 - val_loss: 0.1654 - val_accuracy: 0.7910\n",
            "Epoch 24/100\n",
            "350/350 [==============================] - 1s 2ms/step - loss: 0.1609 - accuracy: 0.7986 - val_loss: 0.1654 - val_accuracy: 0.7910\n",
            "Epoch 25/100\n",
            "350/350 [==============================] - 1s 2ms/step - loss: 0.1609 - accuracy: 0.7986 - val_loss: 0.1654 - val_accuracy: 0.7910\n",
            "Epoch 26/100\n",
            "350/350 [==============================] - 1s 2ms/step - loss: 0.1609 - accuracy: 0.7986 - val_loss: 0.1654 - val_accuracy: 0.7910\n",
            "Epoch 27/100\n",
            "350/350 [==============================] - 1s 2ms/step - loss: 0.1609 - accuracy: 0.7986 - val_loss: 0.1654 - val_accuracy: 0.7910\n",
            "Epoch 28/100\n",
            "350/350 [==============================] - 1s 2ms/step - loss: 0.1609 - accuracy: 0.7986 - val_loss: 0.1654 - val_accuracy: 0.7910\n",
            "Epoch 29/100\n",
            "350/350 [==============================] - 1s 2ms/step - loss: 0.1609 - accuracy: 0.7986 - val_loss: 0.1654 - val_accuracy: 0.7910\n",
            "Epoch 30/100\n",
            "350/350 [==============================] - 1s 2ms/step - loss: 0.1609 - accuracy: 0.7986 - val_loss: 0.1654 - val_accuracy: 0.7910\n",
            "Epoch 31/100\n",
            "350/350 [==============================] - 1s 2ms/step - loss: 0.1609 - accuracy: 0.7986 - val_loss: 0.1654 - val_accuracy: 0.7910\n",
            "Epoch 32/100\n",
            "350/350 [==============================] - 1s 2ms/step - loss: 0.1609 - accuracy: 0.7986 - val_loss: 0.1654 - val_accuracy: 0.7910\n",
            "Epoch 33/100\n",
            "350/350 [==============================] - 1s 2ms/step - loss: 0.1609 - accuracy: 0.7986 - val_loss: 0.1654 - val_accuracy: 0.7910\n",
            "Epoch 34/100\n",
            "350/350 [==============================] - 1s 2ms/step - loss: 0.1609 - accuracy: 0.7986 - val_loss: 0.1654 - val_accuracy: 0.7910\n",
            "Epoch 35/100\n",
            "350/350 [==============================] - 1s 2ms/step - loss: 0.1609 - accuracy: 0.7986 - val_loss: 0.1654 - val_accuracy: 0.7910\n",
            "Epoch 36/100\n",
            "350/350 [==============================] - 1s 2ms/step - loss: 0.1609 - accuracy: 0.7986 - val_loss: 0.1654 - val_accuracy: 0.7910\n",
            "Epoch 37/100\n",
            "350/350 [==============================] - 1s 2ms/step - loss: 0.1609 - accuracy: 0.7986 - val_loss: 0.1654 - val_accuracy: 0.7910\n",
            "Epoch 38/100\n",
            "350/350 [==============================] - 1s 2ms/step - loss: 0.1609 - accuracy: 0.7986 - val_loss: 0.1654 - val_accuracy: 0.7910\n",
            "Epoch 39/100\n",
            "350/350 [==============================] - 1s 2ms/step - loss: 0.1609 - accuracy: 0.7986 - val_loss: 0.1654 - val_accuracy: 0.7910\n",
            "Epoch 40/100\n",
            "350/350 [==============================] - 1s 2ms/step - loss: 0.1609 - accuracy: 0.7986 - val_loss: 0.1654 - val_accuracy: 0.7910\n",
            "Epoch 41/100\n",
            "350/350 [==============================] - 1s 2ms/step - loss: 0.1609 - accuracy: 0.7986 - val_loss: 0.1654 - val_accuracy: 0.7910\n",
            "Epoch 42/100\n",
            "350/350 [==============================] - 1s 2ms/step - loss: 0.1609 - accuracy: 0.7986 - val_loss: 0.1654 - val_accuracy: 0.7910\n",
            "Epoch 43/100\n",
            "350/350 [==============================] - 1s 2ms/step - loss: 0.1609 - accuracy: 0.7986 - val_loss: 0.1654 - val_accuracy: 0.7910\n",
            "Epoch 44/100\n",
            "350/350 [==============================] - 1s 2ms/step - loss: 0.1609 - accuracy: 0.7986 - val_loss: 0.1654 - val_accuracy: 0.7910\n",
            "Epoch 45/100\n",
            "350/350 [==============================] - 1s 2ms/step - loss: 0.1609 - accuracy: 0.7986 - val_loss: 0.1654 - val_accuracy: 0.7910\n",
            "Epoch 46/100\n",
            "350/350 [==============================] - 1s 2ms/step - loss: 0.1609 - accuracy: 0.7986 - val_loss: 0.1654 - val_accuracy: 0.7910\n",
            "Epoch 47/100\n",
            "350/350 [==============================] - 1s 2ms/step - loss: 0.1609 - accuracy: 0.7986 - val_loss: 0.1654 - val_accuracy: 0.7910\n",
            "Epoch 48/100\n",
            "350/350 [==============================] - 1s 2ms/step - loss: 0.1609 - accuracy: 0.7986 - val_loss: 0.1654 - val_accuracy: 0.7910\n",
            "Epoch 49/100\n",
            "350/350 [==============================] - 1s 2ms/step - loss: 0.1609 - accuracy: 0.7986 - val_loss: 0.1654 - val_accuracy: 0.7910\n",
            "Epoch 50/100\n",
            "350/350 [==============================] - 1s 2ms/step - loss: 0.1609 - accuracy: 0.7986 - val_loss: 0.1654 - val_accuracy: 0.7910\n",
            "Epoch 51/100\n",
            "350/350 [==============================] - 1s 2ms/step - loss: 0.1609 - accuracy: 0.7986 - val_loss: 0.1654 - val_accuracy: 0.7910\n",
            "Epoch 52/100\n",
            "350/350 [==============================] - 1s 2ms/step - loss: 0.1609 - accuracy: 0.7986 - val_loss: 0.1654 - val_accuracy: 0.7910\n",
            "Epoch 53/100\n",
            "350/350 [==============================] - 1s 2ms/step - loss: 0.1609 - accuracy: 0.7986 - val_loss: 0.1654 - val_accuracy: 0.7910\n",
            "Epoch 54/100\n",
            "350/350 [==============================] - 1s 2ms/step - loss: 0.1609 - accuracy: 0.7986 - val_loss: 0.1654 - val_accuracy: 0.7910\n",
            "Epoch 55/100\n",
            "350/350 [==============================] - 1s 2ms/step - loss: 0.1609 - accuracy: 0.7986 - val_loss: 0.1654 - val_accuracy: 0.7910\n",
            "Epoch 56/100\n",
            "350/350 [==============================] - 1s 2ms/step - loss: 0.1609 - accuracy: 0.7986 - val_loss: 0.1654 - val_accuracy: 0.7910\n",
            "Epoch 57/100\n",
            "350/350 [==============================] - 1s 2ms/step - loss: 0.1609 - accuracy: 0.7986 - val_loss: 0.1654 - val_accuracy: 0.7910\n",
            "Epoch 58/100\n",
            "350/350 [==============================] - 1s 2ms/step - loss: 0.1609 - accuracy: 0.7986 - val_loss: 0.1654 - val_accuracy: 0.7910\n",
            "Epoch 59/100\n",
            "350/350 [==============================] - 1s 2ms/step - loss: 0.1609 - accuracy: 0.7986 - val_loss: 0.1654 - val_accuracy: 0.7910\n",
            "Epoch 60/100\n",
            "350/350 [==============================] - 1s 2ms/step - loss: 0.1609 - accuracy: 0.7986 - val_loss: 0.1654 - val_accuracy: 0.7910\n",
            "Epoch 61/100\n",
            "350/350 [==============================] - 1s 2ms/step - loss: 0.1609 - accuracy: 0.7986 - val_loss: 0.1654 - val_accuracy: 0.7910\n",
            "Epoch 62/100\n",
            "350/350 [==============================] - 1s 2ms/step - loss: 0.1609 - accuracy: 0.7986 - val_loss: 0.1654 - val_accuracy: 0.7910\n",
            "Epoch 63/100\n",
            "350/350 [==============================] - 1s 2ms/step - loss: 0.1609 - accuracy: 0.7986 - val_loss: 0.1654 - val_accuracy: 0.7910\n",
            "Epoch 64/100\n",
            "350/350 [==============================] - 1s 2ms/step - loss: 0.1609 - accuracy: 0.7986 - val_loss: 0.1654 - val_accuracy: 0.7910\n",
            "Epoch 65/100\n",
            "350/350 [==============================] - 1s 2ms/step - loss: 0.1609 - accuracy: 0.7986 - val_loss: 0.1654 - val_accuracy: 0.7910\n",
            "Epoch 66/100\n",
            "350/350 [==============================] - 1s 2ms/step - loss: 0.1609 - accuracy: 0.7986 - val_loss: 0.1654 - val_accuracy: 0.7910\n",
            "Epoch 67/100\n",
            "350/350 [==============================] - 1s 2ms/step - loss: 0.1609 - accuracy: 0.7986 - val_loss: 0.1654 - val_accuracy: 0.7910\n",
            "Epoch 68/100\n",
            "350/350 [==============================] - 1s 2ms/step - loss: 0.1609 - accuracy: 0.7986 - val_loss: 0.1654 - val_accuracy: 0.7910\n",
            "Epoch 69/100\n",
            "350/350 [==============================] - 1s 2ms/step - loss: 0.1609 - accuracy: 0.7986 - val_loss: 0.1654 - val_accuracy: 0.7910\n",
            "Epoch 70/100\n",
            "350/350 [==============================] - 1s 2ms/step - loss: 0.1608 - accuracy: 0.7986 - val_loss: 0.1654 - val_accuracy: 0.7910\n",
            "Epoch 71/100\n",
            "350/350 [==============================] - 1s 2ms/step - loss: 0.1608 - accuracy: 0.7986 - val_loss: 0.1654 - val_accuracy: 0.7910\n",
            "Epoch 72/100\n",
            "350/350 [==============================] - 1s 2ms/step - loss: 0.1608 - accuracy: 0.7986 - val_loss: 0.1654 - val_accuracy: 0.7910\n",
            "Epoch 73/100\n",
            "350/350 [==============================] - 1s 2ms/step - loss: 0.1608 - accuracy: 0.7986 - val_loss: 0.1654 - val_accuracy: 0.7910\n",
            "Epoch 74/100\n",
            "350/350 [==============================] - 1s 2ms/step - loss: 0.1608 - accuracy: 0.7986 - val_loss: 0.1654 - val_accuracy: 0.7910\n",
            "Epoch 75/100\n",
            "350/350 [==============================] - 1s 2ms/step - loss: 0.1608 - accuracy: 0.7986 - val_loss: 0.1654 - val_accuracy: 0.7910\n",
            "Epoch 76/100\n",
            "350/350 [==============================] - 1s 2ms/step - loss: 0.1608 - accuracy: 0.7986 - val_loss: 0.1654 - val_accuracy: 0.7910\n",
            "Epoch 77/100\n",
            "350/350 [==============================] - 1s 2ms/step - loss: 0.1608 - accuracy: 0.7986 - val_loss: 0.1654 - val_accuracy: 0.7910\n",
            "Epoch 78/100\n",
            "350/350 [==============================] - 1s 2ms/step - loss: 0.1608 - accuracy: 0.7986 - val_loss: 0.1654 - val_accuracy: 0.7910\n",
            "Epoch 79/100\n",
            "350/350 [==============================] - 1s 2ms/step - loss: 0.1608 - accuracy: 0.7986 - val_loss: 0.1654 - val_accuracy: 0.7910\n",
            "Epoch 80/100\n",
            "350/350 [==============================] - 1s 2ms/step - loss: 0.1608 - accuracy: 0.7986 - val_loss: 0.1654 - val_accuracy: 0.7910\n",
            "Epoch 81/100\n",
            "350/350 [==============================] - 1s 2ms/step - loss: 0.1608 - accuracy: 0.7986 - val_loss: 0.1654 - val_accuracy: 0.7910\n",
            "Epoch 82/100\n",
            "350/350 [==============================] - 1s 2ms/step - loss: 0.1608 - accuracy: 0.7986 - val_loss: 0.1654 - val_accuracy: 0.7910\n",
            "Epoch 83/100\n",
            "350/350 [==============================] - 1s 2ms/step - loss: 0.1608 - accuracy: 0.7986 - val_loss: 0.1654 - val_accuracy: 0.7910\n",
            "Epoch 84/100\n",
            "350/350 [==============================] - 1s 2ms/step - loss: 0.1608 - accuracy: 0.7986 - val_loss: 0.1654 - val_accuracy: 0.7910\n",
            "Epoch 85/100\n",
            "350/350 [==============================] - 1s 2ms/step - loss: 0.1608 - accuracy: 0.7986 - val_loss: 0.1654 - val_accuracy: 0.7910\n",
            "Epoch 86/100\n",
            "350/350 [==============================] - 1s 2ms/step - loss: 0.1608 - accuracy: 0.7986 - val_loss: 0.1654 - val_accuracy: 0.7910\n",
            "Epoch 87/100\n",
            "350/350 [==============================] - 1s 2ms/step - loss: 0.1608 - accuracy: 0.7986 - val_loss: 0.1654 - val_accuracy: 0.7910\n",
            "Epoch 88/100\n",
            "350/350 [==============================] - 1s 2ms/step - loss: 0.1608 - accuracy: 0.7986 - val_loss: 0.1654 - val_accuracy: 0.7910\n",
            "Epoch 89/100\n",
            "350/350 [==============================] - 1s 2ms/step - loss: 0.1608 - accuracy: 0.7986 - val_loss: 0.1654 - val_accuracy: 0.7910\n",
            "Epoch 90/100\n",
            "350/350 [==============================] - 1s 2ms/step - loss: 0.1608 - accuracy: 0.7986 - val_loss: 0.1654 - val_accuracy: 0.7910\n",
            "Epoch 91/100\n",
            "350/350 [==============================] - 1s 2ms/step - loss: 0.1608 - accuracy: 0.7986 - val_loss: 0.1654 - val_accuracy: 0.7910\n",
            "Epoch 92/100\n",
            "350/350 [==============================] - 1s 2ms/step - loss: 0.1608 - accuracy: 0.7986 - val_loss: 0.1654 - val_accuracy: 0.7910\n",
            "Epoch 93/100\n",
            "350/350 [==============================] - 1s 2ms/step - loss: 0.1608 - accuracy: 0.7986 - val_loss: 0.1653 - val_accuracy: 0.7910\n",
            "Epoch 94/100\n",
            "350/350 [==============================] - 1s 2ms/step - loss: 0.1608 - accuracy: 0.7986 - val_loss: 0.1653 - val_accuracy: 0.7910\n",
            "Epoch 95/100\n",
            "350/350 [==============================] - 1s 2ms/step - loss: 0.1608 - accuracy: 0.7986 - val_loss: 0.1653 - val_accuracy: 0.7910\n",
            "Epoch 96/100\n",
            "350/350 [==============================] - 1s 2ms/step - loss: 0.1608 - accuracy: 0.7986 - val_loss: 0.1653 - val_accuracy: 0.7910\n",
            "Epoch 97/100\n",
            "350/350 [==============================] - 1s 2ms/step - loss: 0.1608 - accuracy: 0.7986 - val_loss: 0.1653 - val_accuracy: 0.7910\n",
            "Epoch 98/100\n",
            "350/350 [==============================] - 1s 2ms/step - loss: 0.1608 - accuracy: 0.7986 - val_loss: 0.1653 - val_accuracy: 0.7910\n",
            "Epoch 99/100\n",
            "350/350 [==============================] - 1s 2ms/step - loss: 0.1608 - accuracy: 0.7986 - val_loss: 0.1653 - val_accuracy: 0.7910\n",
            "Epoch 100/100\n",
            "350/350 [==============================] - 1s 2ms/step - loss: 0.1608 - accuracy: 0.7986 - val_loss: 0.1653 - val_accuracy: 0.7910\n"
          ]
        },
        {
          "output_type": "execute_result",
          "data": {
            "text/plain": [
              "<keras.callbacks.History at 0x7faa30c79d90>"
            ]
          },
          "metadata": {},
          "execution_count": 82
        }
      ]
    },
    {
      "cell_type": "code",
      "source": [
        "yhat=model.predict(X_test)\n",
        "print(yhat)"
      ],
      "metadata": {
        "colab": {
          "base_uri": "https://localhost:8080/"
        },
        "id": "tlIbM9zgeawK",
        "outputId": "2c8e7a75-03d2-4923-9c68-93bb37c9a855"
      },
      "execution_count": 84,
      "outputs": [
        {
          "output_type": "stream",
          "name": "stdout",
          "text": [
            "[[0.20140979]\n",
            " [0.20133   ]\n",
            " [0.20153639]\n",
            " ...\n",
            " [0.20133775]\n",
            " [0.2015616 ]\n",
            " [0.20143339]]\n"
          ]
        }
      ]
    },
    {
      "cell_type": "code",
      "source": [
        "from sklearn.metrics import confusion_matrix\n",
        "import seaborn as sns"
      ],
      "metadata": {
        "id": "1aTFvghHgEk1"
      },
      "execution_count": 85,
      "outputs": []
    },
    {
      "cell_type": "code",
      "source": [
        "sns.heatmap(confusion_matrix(y_test,yhat.round(), normalize=None),annot=True)"
      ],
      "metadata": {
        "colab": {
          "base_uri": "https://localhost:8080/",
          "height": 282
        },
        "id": "gTgEHyXMgSrL",
        "outputId": "057e41d8-ef1a-4c8e-df41-3cb2d20fb3ca"
      },
      "execution_count": 89,
      "outputs": [
        {
          "output_type": "execute_result",
          "data": {
            "text/plain": [
              "<matplotlib.axes._subplots.AxesSubplot at 0x7faa2c3c4810>"
            ]
          },
          "metadata": {},
          "execution_count": 89
        },
        {
          "output_type": "display_data",
          "data": {
            "image/png": "[encoded data removed]",
            "text/plain": [
              "<Figure size 432x288 with 2 Axes>"
            ]
          },
          "metadata": {
            "needs_background": "light"
          }
        }
      ]
    },
    {
      "cell_type": "markdown",
      "source": [
        "Rebuild the model\n"
      ],
      "metadata": {
        "id": "vYzSG1zVguVt"
      }
    },
    {
      "cell_type": "code",
      "source": [
        "from tensorflow.keras.models import Sequential\n",
        "from tensorflow.keras.layers import Dense\n",
        "classifier = Sequential()\n",
        "classifier.add(Dense(activation = 'relu', input_dim = 11, units=6, kernel_initializer='uniform'))\n",
        "classifier.add(Dense(activation = 'relu', units=6, kernel_initializer='uniform')) \n",
        "classifier.add(Dense(activation = 'sigmoid', units=1, kernel_initializer='uniform')) \n",
        "classifier.compile(optimizer='adam', loss = 'binary_crossentropy', metrics=['accuracy'])\n",
        "classifier.fit(X_train, y_train,           \n",
        "          validation_data=(X_test,y_test),\n",
        "          epochs=100,\n",
        "          batch_size=32)"
      ],
      "metadata": {
        "colab": {
          "base_uri": "https://localhost:8080/"
        },
        "id": "M9C2Ko6-he2J",
        "outputId": "84c90128-9900-41dc-d0d8-0067414efa73"
      },
      "execution_count": 92,
      "outputs": [
        {
          "output_type": "stream",
          "name": "stdout",
          "text": [
            "Epoch 1/100\n",
            "219/219 [==============================] - 1s 3ms/step - loss: 0.6464 - accuracy: 0.7946 - val_loss: 0.5649 - val_accuracy: 0.7910\n",
            "Epoch 2/100\n",
            "219/219 [==============================] - 0s 2ms/step - loss: 0.4786 - accuracy: 0.7994 - val_loss: 0.4361 - val_accuracy: 0.7983\n",
            "Epoch 3/100\n",
            "219/219 [==============================] - 0s 2ms/step - loss: 0.4088 - accuracy: 0.8167 - val_loss: 0.3963 - val_accuracy: 0.8310\n",
            "Epoch 4/100\n",
            "219/219 [==============================] - 0s 2ms/step - loss: 0.3816 - accuracy: 0.8416 - val_loss: 0.3768 - val_accuracy: 0.8447\n",
            "Epoch 5/100\n",
            "219/219 [==============================] - 0s 2ms/step - loss: 0.3682 - accuracy: 0.8454 - val_loss: 0.3653 - val_accuracy: 0.8487\n",
            "Epoch 6/100\n",
            "219/219 [==============================] - 0s 2ms/step - loss: 0.3611 - accuracy: 0.8486 - val_loss: 0.3590 - val_accuracy: 0.8527\n",
            "Epoch 7/100\n",
            "219/219 [==============================] - 0s 2ms/step - loss: 0.3565 - accuracy: 0.8487 - val_loss: 0.3564 - val_accuracy: 0.8520\n",
            "Epoch 8/100\n",
            "219/219 [==============================] - 0s 2ms/step - loss: 0.3540 - accuracy: 0.8507 - val_loss: 0.3534 - val_accuracy: 0.8520\n",
            "Epoch 9/100\n",
            "219/219 [==============================] - 0s 2ms/step - loss: 0.3517 - accuracy: 0.8514 - val_loss: 0.3517 - val_accuracy: 0.8563\n",
            "Epoch 10/100\n",
            "219/219 [==============================] - 0s 2ms/step - loss: 0.3499 - accuracy: 0.8533 - val_loss: 0.3498 - val_accuracy: 0.8570\n",
            "Epoch 11/100\n",
            "219/219 [==============================] - 0s 2ms/step - loss: 0.3487 - accuracy: 0.8540 - val_loss: 0.3492 - val_accuracy: 0.8570\n",
            "Epoch 12/100\n",
            "219/219 [==============================] - 0s 2ms/step - loss: 0.3476 - accuracy: 0.8543 - val_loss: 0.3485 - val_accuracy: 0.8577\n",
            "Epoch 13/100\n",
            "219/219 [==============================] - 0s 2ms/step - loss: 0.3467 - accuracy: 0.8559 - val_loss: 0.3473 - val_accuracy: 0.8590\n",
            "Epoch 14/100\n",
            "219/219 [==============================] - 0s 2ms/step - loss: 0.3455 - accuracy: 0.8559 - val_loss: 0.3471 - val_accuracy: 0.8597\n",
            "Epoch 15/100\n",
            "219/219 [==============================] - 0s 2ms/step - loss: 0.3443 - accuracy: 0.8564 - val_loss: 0.3477 - val_accuracy: 0.8593\n",
            "Epoch 16/100\n",
            "219/219 [==============================] - 0s 2ms/step - loss: 0.3444 - accuracy: 0.8569 - val_loss: 0.3457 - val_accuracy: 0.8593\n",
            "Epoch 17/100\n",
            "219/219 [==============================] - 0s 2ms/step - loss: 0.3439 - accuracy: 0.8571 - val_loss: 0.3452 - val_accuracy: 0.8623\n",
            "Epoch 18/100\n",
            "219/219 [==============================] - 0s 2ms/step - loss: 0.3431 - accuracy: 0.8566 - val_loss: 0.3449 - val_accuracy: 0.8617\n",
            "Epoch 19/100\n",
            "219/219 [==============================] - 0s 2ms/step - loss: 0.3425 - accuracy: 0.8564 - val_loss: 0.3453 - val_accuracy: 0.8630\n",
            "Epoch 20/100\n",
            "219/219 [==============================] - 0s 2ms/step - loss: 0.3426 - accuracy: 0.8567 - val_loss: 0.3444 - val_accuracy: 0.8617\n",
            "Epoch 21/100\n",
            "219/219 [==============================] - 0s 2ms/step - loss: 0.3422 - accuracy: 0.8579 - val_loss: 0.3443 - val_accuracy: 0.8617\n",
            "Epoch 22/100\n",
            "219/219 [==============================] - 0s 2ms/step - loss: 0.3418 - accuracy: 0.8583 - val_loss: 0.3443 - val_accuracy: 0.8603\n",
            "Epoch 23/100\n",
            "219/219 [==============================] - 0s 2ms/step - loss: 0.3417 - accuracy: 0.8566 - val_loss: 0.3437 - val_accuracy: 0.8627\n",
            "Epoch 24/100\n",
            "219/219 [==============================] - 0s 2ms/step - loss: 0.3412 - accuracy: 0.8570 - val_loss: 0.3428 - val_accuracy: 0.8643\n",
            "Epoch 25/100\n",
            "219/219 [==============================] - 0s 2ms/step - loss: 0.3412 - accuracy: 0.8586 - val_loss: 0.3434 - val_accuracy: 0.8617\n",
            "Epoch 26/100\n",
            "219/219 [==============================] - 0s 2ms/step - loss: 0.3405 - accuracy: 0.8579 - val_loss: 0.3440 - val_accuracy: 0.8623\n",
            "Epoch 27/100\n",
            "219/219 [==============================] - 0s 2ms/step - loss: 0.3410 - accuracy: 0.8587 - val_loss: 0.3428 - val_accuracy: 0.8633\n",
            "Epoch 28/100\n",
            "219/219 [==============================] - 0s 2ms/step - loss: 0.3408 - accuracy: 0.8591 - val_loss: 0.3434 - val_accuracy: 0.8627\n",
            "Epoch 29/100\n",
            "219/219 [==============================] - 0s 2ms/step - loss: 0.3405 - accuracy: 0.8580 - val_loss: 0.3429 - val_accuracy: 0.8623\n",
            "Epoch 30/100\n",
            "219/219 [==============================] - 0s 2ms/step - loss: 0.3403 - accuracy: 0.8589 - val_loss: 0.3434 - val_accuracy: 0.8623\n",
            "Epoch 31/100\n",
            "219/219 [==============================] - 0s 2ms/step - loss: 0.3406 - accuracy: 0.8569 - val_loss: 0.3421 - val_accuracy: 0.8633\n",
            "Epoch 32/100\n",
            "219/219 [==============================] - 0s 2ms/step - loss: 0.3400 - accuracy: 0.8593 - val_loss: 0.3430 - val_accuracy: 0.8613\n",
            "Epoch 33/100\n",
            "219/219 [==============================] - 0s 2ms/step - loss: 0.3399 - accuracy: 0.8593 - val_loss: 0.3426 - val_accuracy: 0.8620\n",
            "Epoch 34/100\n",
            "219/219 [==============================] - 0s 2ms/step - loss: 0.3397 - accuracy: 0.8593 - val_loss: 0.3429 - val_accuracy: 0.8603\n",
            "Epoch 35/100\n",
            "219/219 [==============================] - 0s 2ms/step - loss: 0.3395 - accuracy: 0.8587 - val_loss: 0.3416 - val_accuracy: 0.8623\n",
            "Epoch 36/100\n",
            "219/219 [==============================] - 0s 2ms/step - loss: 0.3398 - accuracy: 0.8597 - val_loss: 0.3430 - val_accuracy: 0.8610\n",
            "Epoch 37/100\n",
            "219/219 [==============================] - 0s 2ms/step - loss: 0.3393 - accuracy: 0.8597 - val_loss: 0.3428 - val_accuracy: 0.8623\n",
            "Epoch 38/100\n",
            "219/219 [==============================] - 0s 2ms/step - loss: 0.3393 - accuracy: 0.8589 - val_loss: 0.3417 - val_accuracy: 0.8613\n",
            "Epoch 39/100\n",
            "219/219 [==============================] - 0s 2ms/step - loss: 0.3394 - accuracy: 0.8597 - val_loss: 0.3418 - val_accuracy: 0.8613\n",
            "Epoch 40/100\n",
            "219/219 [==============================] - 0s 2ms/step - loss: 0.3389 - accuracy: 0.8603 - val_loss: 0.3418 - val_accuracy: 0.8637\n",
            "Epoch 41/100\n",
            "219/219 [==============================] - 0s 2ms/step - loss: 0.3389 - accuracy: 0.8594 - val_loss: 0.3408 - val_accuracy: 0.8613\n",
            "Epoch 42/100\n",
            "219/219 [==============================] - 0s 2ms/step - loss: 0.3389 - accuracy: 0.8599 - val_loss: 0.3405 - val_accuracy: 0.8623\n",
            "Epoch 43/100\n",
            "219/219 [==============================] - 0s 2ms/step - loss: 0.3386 - accuracy: 0.8607 - val_loss: 0.3417 - val_accuracy: 0.8617\n",
            "Epoch 44/100\n",
            "219/219 [==============================] - 0s 2ms/step - loss: 0.3381 - accuracy: 0.8603 - val_loss: 0.3398 - val_accuracy: 0.8620\n",
            "Epoch 45/100\n",
            "219/219 [==============================] - 0s 2ms/step - loss: 0.3379 - accuracy: 0.8617 - val_loss: 0.3397 - val_accuracy: 0.8627\n",
            "Epoch 46/100\n",
            "219/219 [==============================] - 0s 2ms/step - loss: 0.3377 - accuracy: 0.8596 - val_loss: 0.3397 - val_accuracy: 0.8617\n",
            "Epoch 47/100\n",
            "219/219 [==============================] - 0s 2ms/step - loss: 0.3375 - accuracy: 0.8633 - val_loss: 0.3416 - val_accuracy: 0.8617\n",
            "Epoch 48/100\n",
            "219/219 [==============================] - 0s 2ms/step - loss: 0.3374 - accuracy: 0.8600 - val_loss: 0.3407 - val_accuracy: 0.8617\n",
            "Epoch 49/100\n",
            "219/219 [==============================] - 0s 2ms/step - loss: 0.3370 - accuracy: 0.8619 - val_loss: 0.3412 - val_accuracy: 0.8613\n",
            "Epoch 50/100\n",
            "219/219 [==============================] - 0s 2ms/step - loss: 0.3369 - accuracy: 0.8607 - val_loss: 0.3397 - val_accuracy: 0.8633\n",
            "Epoch 51/100\n",
            "219/219 [==============================] - 0s 2ms/step - loss: 0.3367 - accuracy: 0.8624 - val_loss: 0.3403 - val_accuracy: 0.8633\n",
            "Epoch 52/100\n",
            "219/219 [==============================] - 0s 2ms/step - loss: 0.3368 - accuracy: 0.8607 - val_loss: 0.3403 - val_accuracy: 0.8630\n",
            "Epoch 53/100\n",
            "219/219 [==============================] - 0s 2ms/step - loss: 0.3367 - accuracy: 0.8617 - val_loss: 0.3386 - val_accuracy: 0.8620\n",
            "Epoch 54/100\n",
            "219/219 [==============================] - 0s 2ms/step - loss: 0.3364 - accuracy: 0.8621 - val_loss: 0.3409 - val_accuracy: 0.8610\n",
            "Epoch 55/100\n",
            "219/219 [==============================] - 0s 2ms/step - loss: 0.3367 - accuracy: 0.8623 - val_loss: 0.3384 - val_accuracy: 0.8637\n",
            "Epoch 56/100\n",
            "219/219 [==============================] - 0s 2ms/step - loss: 0.3363 - accuracy: 0.8620 - val_loss: 0.3387 - val_accuracy: 0.8633\n",
            "Epoch 57/100\n",
            "219/219 [==============================] - 0s 2ms/step - loss: 0.3361 - accuracy: 0.8631 - val_loss: 0.3397 - val_accuracy: 0.8613\n",
            "Epoch 58/100\n",
            "219/219 [==============================] - 0s 2ms/step - loss: 0.3363 - accuracy: 0.8621 - val_loss: 0.3391 - val_accuracy: 0.8630\n",
            "Epoch 59/100\n",
            "219/219 [==============================] - 0s 2ms/step - loss: 0.3357 - accuracy: 0.8609 - val_loss: 0.3385 - val_accuracy: 0.8647\n",
            "Epoch 60/100\n",
            "219/219 [==============================] - 0s 2ms/step - loss: 0.3353 - accuracy: 0.8610 - val_loss: 0.3385 - val_accuracy: 0.8637\n",
            "Epoch 61/100\n",
            "219/219 [==============================] - 0s 2ms/step - loss: 0.3360 - accuracy: 0.8613 - val_loss: 0.3394 - val_accuracy: 0.8627\n",
            "Epoch 62/100\n",
            "219/219 [==============================] - 0s 2ms/step - loss: 0.3357 - accuracy: 0.8623 - val_loss: 0.3378 - val_accuracy: 0.8640\n",
            "Epoch 63/100\n",
            "219/219 [==============================] - 0s 2ms/step - loss: 0.3356 - accuracy: 0.8619 - val_loss: 0.3391 - val_accuracy: 0.8627\n",
            "Epoch 64/100\n",
            "219/219 [==============================] - 0s 2ms/step - loss: 0.3350 - accuracy: 0.8623 - val_loss: 0.3393 - val_accuracy: 0.8643\n",
            "Epoch 65/100\n",
            "219/219 [==============================] - 0s 2ms/step - loss: 0.3350 - accuracy: 0.8606 - val_loss: 0.3397 - val_accuracy: 0.8640\n",
            "Epoch 66/100\n",
            "219/219 [==============================] - 0s 2ms/step - loss: 0.3350 - accuracy: 0.8614 - val_loss: 0.3375 - val_accuracy: 0.8640\n",
            "Epoch 67/100\n",
            "219/219 [==============================] - 0s 2ms/step - loss: 0.3347 - accuracy: 0.8621 - val_loss: 0.3373 - val_accuracy: 0.8637\n",
            "Epoch 68/100\n",
            "219/219 [==============================] - 0s 2ms/step - loss: 0.3345 - accuracy: 0.8634 - val_loss: 0.3384 - val_accuracy: 0.8620\n",
            "Epoch 69/100\n",
            "219/219 [==============================] - 0s 2ms/step - loss: 0.3345 - accuracy: 0.8623 - val_loss: 0.3381 - val_accuracy: 0.8627\n",
            "Epoch 70/100\n",
            "219/219 [==============================] - 0s 2ms/step - loss: 0.3345 - accuracy: 0.8624 - val_loss: 0.3379 - val_accuracy: 0.8623\n",
            "Epoch 71/100\n",
            "219/219 [==============================] - 0s 2ms/step - loss: 0.3340 - accuracy: 0.8624 - val_loss: 0.3394 - val_accuracy: 0.8637\n",
            "Epoch 72/100\n",
            "219/219 [==============================] - 0s 2ms/step - loss: 0.3343 - accuracy: 0.8627 - val_loss: 0.3379 - val_accuracy: 0.8613\n",
            "Epoch 73/100\n",
            "219/219 [==============================] - 0s 2ms/step - loss: 0.3342 - accuracy: 0.8626 - val_loss: 0.3400 - val_accuracy: 0.8623\n",
            "Epoch 74/100\n",
            "219/219 [==============================] - 0s 2ms/step - loss: 0.3339 - accuracy: 0.8629 - val_loss: 0.3393 - val_accuracy: 0.8623\n",
            "Epoch 75/100\n",
            "219/219 [==============================] - 0s 2ms/step - loss: 0.3338 - accuracy: 0.8637 - val_loss: 0.3384 - val_accuracy: 0.8620\n",
            "Epoch 76/100\n",
            "219/219 [==============================] - 0s 2ms/step - loss: 0.3339 - accuracy: 0.8617 - val_loss: 0.3371 - val_accuracy: 0.8623\n",
            "Epoch 77/100\n",
            "219/219 [==============================] - 0s 2ms/step - loss: 0.3341 - accuracy: 0.8636 - val_loss: 0.3378 - val_accuracy: 0.8620\n",
            "Epoch 78/100\n",
            "219/219 [==============================] - 0s 2ms/step - loss: 0.3335 - accuracy: 0.8630 - val_loss: 0.3372 - val_accuracy: 0.8650\n",
            "Epoch 79/100\n",
            "219/219 [==============================] - 0s 2ms/step - loss: 0.3339 - accuracy: 0.8636 - val_loss: 0.3371 - val_accuracy: 0.8633\n",
            "Epoch 80/100\n",
            "219/219 [==============================] - 0s 2ms/step - loss: 0.3334 - accuracy: 0.8629 - val_loss: 0.3364 - val_accuracy: 0.8660\n",
            "Epoch 81/100\n",
            "219/219 [==============================] - 0s 2ms/step - loss: 0.3339 - accuracy: 0.8624 - val_loss: 0.3380 - val_accuracy: 0.8640\n",
            "Epoch 82/100\n",
            "219/219 [==============================] - 0s 2ms/step - loss: 0.3328 - accuracy: 0.8620 - val_loss: 0.3367 - val_accuracy: 0.8637\n",
            "Epoch 83/100\n",
            "219/219 [==============================] - 0s 2ms/step - loss: 0.3332 - accuracy: 0.8624 - val_loss: 0.3376 - val_accuracy: 0.8643\n",
            "Epoch 84/100\n",
            "219/219 [==============================] - 0s 2ms/step - loss: 0.3331 - accuracy: 0.8607 - val_loss: 0.3380 - val_accuracy: 0.8630\n",
            "Epoch 85/100\n",
            "219/219 [==============================] - 0s 2ms/step - loss: 0.3331 - accuracy: 0.8627 - val_loss: 0.3370 - val_accuracy: 0.8623\n",
            "Epoch 86/100\n",
            "219/219 [==============================] - 0s 2ms/step - loss: 0.3329 - accuracy: 0.8627 - val_loss: 0.3381 - val_accuracy: 0.8610\n",
            "Epoch 87/100\n",
            "219/219 [==============================] - 0s 2ms/step - loss: 0.3330 - accuracy: 0.8631 - val_loss: 0.3377 - val_accuracy: 0.8643\n",
            "Epoch 88/100\n",
            "219/219 [==============================] - 0s 2ms/step - loss: 0.3328 - accuracy: 0.8623 - val_loss: 0.3377 - val_accuracy: 0.8643\n",
            "Epoch 89/100\n",
            "219/219 [==============================] - 0s 2ms/step - loss: 0.3327 - accuracy: 0.8643 - val_loss: 0.3378 - val_accuracy: 0.8633\n",
            "Epoch 90/100\n",
            "219/219 [==============================] - 0s 2ms/step - loss: 0.3326 - accuracy: 0.8629 - val_loss: 0.3383 - val_accuracy: 0.8637\n",
            "Epoch 91/100\n",
            "219/219 [==============================] - 0s 2ms/step - loss: 0.3324 - accuracy: 0.8621 - val_loss: 0.3396 - val_accuracy: 0.8643\n",
            "Epoch 92/100\n",
            "219/219 [==============================] - 0s 2ms/step - loss: 0.3324 - accuracy: 0.8633 - val_loss: 0.3374 - val_accuracy: 0.8647\n",
            "Epoch 93/100\n",
            "219/219 [==============================] - 0s 2ms/step - loss: 0.3328 - accuracy: 0.8611 - val_loss: 0.3366 - val_accuracy: 0.8643\n",
            "Epoch 94/100\n",
            "219/219 [==============================] - 0s 2ms/step - loss: 0.3324 - accuracy: 0.8650 - val_loss: 0.3375 - val_accuracy: 0.8617\n",
            "Epoch 95/100\n",
            "219/219 [==============================] - 0s 2ms/step - loss: 0.3322 - accuracy: 0.8606 - val_loss: 0.3366 - val_accuracy: 0.8643\n",
            "Epoch 96/100\n",
            "219/219 [==============================] - 0s 2ms/step - loss: 0.3326 - accuracy: 0.8621 - val_loss: 0.3373 - val_accuracy: 0.8647\n",
            "Epoch 97/100\n",
            "219/219 [==============================] - 0s 2ms/step - loss: 0.3323 - accuracy: 0.8646 - val_loss: 0.3382 - val_accuracy: 0.8630\n",
            "Epoch 98/100\n",
            "219/219 [==============================] - 0s 2ms/step - loss: 0.3319 - accuracy: 0.8641 - val_loss: 0.3383 - val_accuracy: 0.8633\n",
            "Epoch 99/100\n",
            "219/219 [==============================] - 0s 2ms/step - loss: 0.3321 - accuracy: 0.8629 - val_loss: 0.3365 - val_accuracy: 0.8657\n",
            "Epoch 100/100\n",
            "219/219 [==============================] - 0s 2ms/step - loss: 0.3319 - accuracy: 0.8639 - val_loss: 0.3372 - val_accuracy: 0.8637\n"
          ]
        },
        {
          "output_type": "execute_result",
          "data": {
            "text/plain": [
              "<keras.callbacks.History at 0x7faa2bdda050>"
            ]
          },
          "metadata": {},
          "execution_count": 92
        }
      ]
    },
    {
      "cell_type": "code",
      "source": [
        "yhat_=classifier.predict(X_test)\n",
        "yhat_"
      ],
      "metadata": {
        "colab": {
          "base_uri": "https://localhost:8080/"
        },
        "id": "5Eup4NZNiVZJ",
        "outputId": "4a867020-d9c9-48a9-da6e-12d2e2f93cbd"
      },
      "execution_count": 93,
      "outputs": [
        {
          "output_type": "execute_result",
          "data": {
            "text/plain": [
              "array([[0.04632831],\n",
              "       [0.13742396],\n",
              "       [0.06864548],\n",
              "       ...,\n",
              "       [0.04497203],\n",
              "       [0.07543042],\n",
              "       [0.12125468]], dtype=float32)"
            ]
          },
          "metadata": {},
          "execution_count": 93
        }
      ]
    },
    {
      "cell_type": "code",
      "source": [
        "sns.heatmap(confusion_matrix(y_test,yhat.round(), normalize='true'),annot=True)"
      ],
      "metadata": {
        "colab": {
          "base_uri": "https://localhost:8080/",
          "height": 286
        },
        "id": "yMYBqp1fib6Q",
        "outputId": "bbe77b79-cb82-4083-c4ad-0ea8a6032959"
      },
      "execution_count": 96,
      "outputs": [
        {
          "output_type": "execute_result",
          "data": {
            "text/plain": [
              "<matplotlib.axes._subplots.AxesSubplot at 0x7faa20bd9410>"
            ]
          },
          "metadata": {},
          "execution_count": 96
        },
        {
          "output_type": "display_data",
          "data": {
            "image/png": "[encoded data removed]",
            "text/plain": [
              "<Figure size 432x288 with 2 Axes>"
            ]
          },
          "metadata": {
            "needs_background": "light"
          }
        }
      ]
    },
    {
      "cell_type": "code",
      "source": [
        ""
      ],
      "metadata": {
        "id": "yUIicZjOihlx"
      },
      "execution_count": null,
      "outputs": []
    }
  ]
}