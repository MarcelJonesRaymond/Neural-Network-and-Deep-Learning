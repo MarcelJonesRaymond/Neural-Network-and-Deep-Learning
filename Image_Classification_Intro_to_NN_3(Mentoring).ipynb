{
  "nbformat": 4,
  "nbformat_minor": 0,
  "metadata": {
    "colab": {
      "name": "Image_Classification_Intro_to_NN_3(Mentoring).ipynb",
      "provenance": [],
      "authorship_tag": "ABX9TyOu5yKLVmF7uYzo3AMZlMph",
      "include_colab_link": true
    },
    "kernelspec": {
      "name": "python3",
      "display_name": "Python 3"
    },
    "language_info": {
      "name": "python"
    }
  },
  "cells": [
    {
      "cell_type": "markdown",
      "metadata": {
        "id": "view-in-github",
        "colab_type": "text"
      },
      "source": [
        "<a href=\"https://colab.research.google.com/github/MarcelJonesRaymond/Neural-Network-and-Deep-Learning/blob/main/Image_Classification_Intro_to_NN_3(Mentoring).ipynb\" target=\"_parent\"><img src=\"https://colab.research.google.com/assets/colab-badge.svg\" alt=\"Open In Colab\"/></a>"
      ]
    },
    {
      "cell_type": "code",
      "execution_count": 36,
      "metadata": {
        "id": "Gm5Eqg_h0YDs"
      },
      "outputs": [],
      "source": [
        "import pandas as pd\n",
        "import numpy as np\n",
        "import matplotlib.pyplot as plt\n",
        "import seaborn as sns\n",
        "from sklearn.model_selection import train_test_split\n",
        "from sklearn.preprocessing import StandardScaler\n",
        "import tensorflow as tf\n",
        "from tensorflow.keras.models import Sequential\n",
        "from tensorflow.keras.layers import Dense,Flatten \n",
        "from tensorflow.keras.datasets import fashion_mnist\n",
        "from tensorflow.keras.layers import Activation, Dense\n",
        "from tensorflow.keras.utils import to_categorical\n",
        "from tensorflow.keras import optimizers"
      ]
    },
    {
      "cell_type": "code",
      "source": [
        "(X_train,y_train),(X_test,y_test)=fashion_mnist.load_data()"
      ],
      "metadata": {
        "colab": {
          "base_uri": "https://localhost:8080/"
        },
        "id": "L7HWEQ_-4wIq",
        "outputId": "29b410db-2a5f-4913-91b8-5f7cff23d919"
      },
      "execution_count": 2,
      "outputs": [
        {
          "output_type": "stream",
          "name": "stdout",
          "text": [
            "Downloading data from https://storage.googleapis.com/tensorflow/tf-keras-datasets/train-labels-idx1-ubyte.gz\n",
            "32768/29515 [=================================] - 0s 0us/step\n",
            "40960/29515 [=========================================] - 0s 0us/step\n",
            "Downloading data from https://storage.googleapis.com/tensorflow/tf-keras-datasets/train-images-idx3-ubyte.gz\n",
            "26427392/26421880 [==============================] - 0s 0us/step\n",
            "26435584/26421880 [==============================] - 0s 0us/step\n",
            "Downloading data from https://storage.googleapis.com/tensorflow/tf-keras-datasets/t10k-labels-idx1-ubyte.gz\n",
            "16384/5148 [===============================================================================================] - 0s 0us/step\n",
            "Downloading data from https://storage.googleapis.com/tensorflow/tf-keras-datasets/t10k-images-idx3-ubyte.gz\n",
            "4423680/4422102 [==============================] - 0s 0us/step\n",
            "4431872/4422102 [==============================] - 0s 0us/step\n"
          ]
        }
      ]
    },
    {
      "cell_type": "code",
      "source": [
        "display(X_train.shape,y_train.shape)"
      ],
      "metadata": {
        "colab": {
          "base_uri": "https://localhost:8080/",
          "height": 52
        },
        "id": "Pum6n93y496G",
        "outputId": "832c8ebf-fdbf-434a-94e8-d41617d406a5"
      },
      "execution_count": 6,
      "outputs": [
        {
          "output_type": "display_data",
          "data": {
            "text/plain": [
              "(60000, 28, 28)"
            ]
          },
          "metadata": {}
        },
        {
          "output_type": "display_data",
          "data": {
            "text/plain": [
              "(60000,)"
            ]
          },
          "metadata": {}
        }
      ]
    },
    {
      "cell_type": "code",
      "source": [
        "plt.imshow(X_train[0])\n",
        "plt.show()\n",
        "print(y_train[0])"
      ],
      "metadata": {
        "colab": {
          "base_uri": "https://localhost:8080/",
          "height": 282
        },
        "id": "DwRvRhQD5BZE",
        "outputId": "cf81031f-7f55-419c-96a8-0df20c296d48"
      },
      "execution_count": 8,
      "outputs": [
        {
          "output_type": "display_data",
          "data": {
            "image/png": "[encoded data removed]",
            "text/plain": [
              "<Figure size 432x288 with 1 Axes>"
            ]
          },
          "metadata": {
            "needs_background": "light"
          }
        },
        {
          "output_type": "stream",
          "name": "stdout",
          "text": [
            "9\n"
          ]
        }
      ]
    },
    {
      "cell_type": "code",
      "source": [
        "plt.imshow(X_train[100])\n",
        "plt.show()\n",
        "print(y_train[100])"
      ],
      "metadata": {
        "colab": {
          "base_uri": "https://localhost:8080/",
          "height": 282
        },
        "id": "A-klkD5H5DTK",
        "outputId": "eafb1276-a701-44d7-b832-bec96972ae16"
      },
      "execution_count": 9,
      "outputs": [
        {
          "output_type": "display_data",
          "data": {
            "image/png": "[encoded data removed]",
            "text/plain": [
              "<Figure size 432x288 with 1 Axes>"
            ]
          },
          "metadata": {
            "needs_background": "light"
          }
        },
        {
          "output_type": "stream",
          "name": "stdout",
          "text": [
            "8\n"
          ]
        }
      ]
    },
    {
      "cell_type": "code",
      "source": [
        "plt.imshow(X_test[0])\n",
        "plt.show()\n",
        "print(y_test[0])"
      ],
      "metadata": {
        "colab": {
          "base_uri": "https://localhost:8080/",
          "height": 282
        },
        "id": "8I8lH2Cb5cPC",
        "outputId": "27dd8883-1ffd-4a7b-d3d5-53c8316d99f4"
      },
      "execution_count": 12,
      "outputs": [
        {
          "output_type": "display_data",
          "data": {
            "image/png": "[encoded data removed]",
            "text/plain": [
              "<Figure size 432x288 with 1 Axes>"
            ]
          },
          "metadata": {
            "needs_background": "light"
          }
        },
        {
          "output_type": "stream",
          "name": "stdout",
          "text": [
            "9\n"
          ]
        }
      ]
    },
    {
      "cell_type": "markdown",
      "source": [
        "Data Preprocessing"
      ],
      "metadata": {
        "id": "bXk3miZs5nXJ"
      }
    },
    {
      "cell_type": "code",
      "source": [
        "X_train = X_train.reshape((X_train.shape[0], -1))\n",
        "X_test = X_test.reshape((X_test.shape[0], -1))"
      ],
      "metadata": {
        "id": "wSuRsSFV5-hQ"
      },
      "execution_count": 14,
      "outputs": []
    },
    {
      "cell_type": "code",
      "source": [
        "y_test=to_categorical(y_test)"
      ],
      "metadata": {
        "id": "qXQFBsTP7Xzb"
      },
      "execution_count": 15,
      "outputs": []
    },
    {
      "cell_type": "code",
      "source": [
        "y_train=to_categorical(y_train)"
      ],
      "metadata": {
        "id": "zflZ8uqj7k8a"
      },
      "execution_count": 17,
      "outputs": []
    },
    {
      "cell_type": "code",
      "source": [
        "print(X_train.shape, X_test.shape, y_train.shape, y_test.shape)"
      ],
      "metadata": {
        "colab": {
          "base_uri": "https://localhost:8080/"
        },
        "id": "6qlH2FRT7mgA",
        "outputId": "c65583ca-171b-4657-b8d1-cb63a670766e"
      },
      "execution_count": 19,
      "outputs": [
        {
          "output_type": "stream",
          "name": "stdout",
          "text": [
            "(60000, 784) (10000, 784) (60000, 10) (10000, 10)\n"
          ]
        }
      ]
    },
    {
      "cell_type": "code",
      "source": [
        "model=Sequential()\n",
        "model.add(Dense(50,activation='relu',input_shape = (784, )))\n",
        "model.add(Dense(50,activation='relu'))\n",
        "model.add(Dense(50,activation='relu'))\n",
        "model.add(Dense(10,activation='softmax'))"
      ],
      "metadata": {
        "id": "YpmnGPGG7zeY"
      },
      "execution_count": 29,
      "outputs": []
    },
    {
      "cell_type": "code",
      "source": [
        "sgd=optimizers.SGD(learning_rate=0.01)\n",
        "model.compile(optimizer = sgd, loss = 'categorical_crossentropy', metrics = ['accuracy'])"
      ],
      "metadata": {
        "id": "0JQIgwSi8RZO"
      },
      "execution_count": 30,
      "outputs": []
    },
    {
      "cell_type": "code",
      "source": [
        "history = model.fit(X_train, y_train, batch_size = 200, epochs = 100, verbose = 1)"
      ],
      "metadata": {
        "colab": {
          "base_uri": "https://localhost:8080/"
        },
        "id": "DQ-znOS49qN5",
        "outputId": "4aba426f-2bbb-460e-cb10-2b6fe8e1ca78"
      },
      "execution_count": 31,
      "outputs": [
        {
          "output_type": "stream",
          "name": "stdout",
          "text": [
            "Epoch 1/100\n",
            "300/300 [==============================] - 1s 4ms/step - loss: 6533.9849 - accuracy: 0.0994\n",
            "Epoch 2/100\n",
            "300/300 [==============================] - 1s 4ms/step - loss: 2.3026 - accuracy: 0.0983\n",
            "Epoch 3/100\n",
            "300/300 [==============================] - 1s 4ms/step - loss: 2.3026 - accuracy: 0.0989\n",
            "Epoch 4/100\n",
            "300/300 [==============================] - 1s 4ms/step - loss: 2.3026 - accuracy: 0.0987\n",
            "Epoch 5/100\n",
            "300/300 [==============================] - 1s 4ms/step - loss: 2.3026 - accuracy: 0.0978\n",
            "Epoch 6/100\n",
            "300/300 [==============================] - 1s 4ms/step - loss: 2.3026 - accuracy: 0.0980\n",
            "Epoch 7/100\n",
            "300/300 [==============================] - 1s 4ms/step - loss: 2.3026 - accuracy: 0.0973\n",
            "Epoch 8/100\n",
            "300/300 [==============================] - 1s 4ms/step - loss: 2.3026 - accuracy: 0.0986\n",
            "Epoch 9/100\n",
            "300/300 [==============================] - 2s 5ms/step - loss: 2.3026 - accuracy: 0.0982\n",
            "Epoch 10/100\n",
            "300/300 [==============================] - 2s 6ms/step - loss: 2.3026 - accuracy: 0.0970\n",
            "Epoch 11/100\n",
            "300/300 [==============================] - 2s 7ms/step - loss: 2.3026 - accuracy: 0.0971\n",
            "Epoch 12/100\n",
            "300/300 [==============================] - 2s 6ms/step - loss: 2.3026 - accuracy: 0.0974\n",
            "Epoch 13/100\n",
            "300/300 [==============================] - 2s 6ms/step - loss: 2.3026 - accuracy: 0.0979\n",
            "Epoch 14/100\n",
            "300/300 [==============================] - 2s 6ms/step - loss: 2.3026 - accuracy: 0.0981\n",
            "Epoch 15/100\n",
            "300/300 [==============================] - 2s 6ms/step - loss: 2.3026 - accuracy: 0.0966\n",
            "Epoch 16/100\n",
            "300/300 [==============================] - 2s 7ms/step - loss: 2.3026 - accuracy: 0.0964\n",
            "Epoch 17/100\n",
            "300/300 [==============================] - 2s 7ms/step - loss: 2.3026 - accuracy: 0.0996\n",
            "Epoch 18/100\n",
            "300/300 [==============================] - 2s 7ms/step - loss: 2.3026 - accuracy: 0.0982\n",
            "Epoch 19/100\n",
            "300/300 [==============================] - 2s 7ms/step - loss: 2.3026 - accuracy: 0.0977\n",
            "Epoch 20/100\n",
            "300/300 [==============================] - 2s 8ms/step - loss: 2.3026 - accuracy: 0.0978\n",
            "Epoch 21/100\n",
            "300/300 [==============================] - 2s 7ms/step - loss: 2.3026 - accuracy: 0.0969\n",
            "Epoch 22/100\n",
            "300/300 [==============================] - 2s 8ms/step - loss: 2.3026 - accuracy: 0.0985\n",
            "Epoch 23/100\n",
            "300/300 [==============================] - 2s 7ms/step - loss: 2.3026 - accuracy: 0.0970\n",
            "Epoch 24/100\n",
            "300/300 [==============================] - 2s 7ms/step - loss: 2.3026 - accuracy: 0.0975\n",
            "Epoch 25/100\n",
            "300/300 [==============================] - 2s 7ms/step - loss: 2.3026 - accuracy: 0.0979\n",
            "Epoch 26/100\n",
            "300/300 [==============================] - 2s 6ms/step - loss: 2.3026 - accuracy: 0.0969\n",
            "Epoch 27/100\n",
            "300/300 [==============================] - 2s 7ms/step - loss: 2.3026 - accuracy: 0.0971\n",
            "Epoch 28/100\n",
            "300/300 [==============================] - 2s 6ms/step - loss: 2.3026 - accuracy: 0.0970\n",
            "Epoch 29/100\n",
            "300/300 [==============================] - 1s 4ms/step - loss: 2.3026 - accuracy: 0.0973\n",
            "Epoch 30/100\n",
            "300/300 [==============================] - 1s 4ms/step - loss: 2.3026 - accuracy: 0.0966\n",
            "Epoch 31/100\n",
            "300/300 [==============================] - 1s 4ms/step - loss: 2.3026 - accuracy: 0.0967\n",
            "Epoch 32/100\n",
            "300/300 [==============================] - 1s 4ms/step - loss: 2.3026 - accuracy: 0.0946\n",
            "Epoch 33/100\n",
            "300/300 [==============================] - 1s 4ms/step - loss: 2.3026 - accuracy: 0.0977\n",
            "Epoch 34/100\n",
            "300/300 [==============================] - 1s 4ms/step - loss: 2.3026 - accuracy: 0.0978\n",
            "Epoch 35/100\n",
            "300/300 [==============================] - 1s 4ms/step - loss: 2.3026 - accuracy: 0.0979\n",
            "Epoch 36/100\n",
            "300/300 [==============================] - 1s 4ms/step - loss: 2.3026 - accuracy: 0.0979\n",
            "Epoch 37/100\n",
            "300/300 [==============================] - 1s 4ms/step - loss: 2.3026 - accuracy: 0.0972\n",
            "Epoch 38/100\n",
            "300/300 [==============================] - 1s 4ms/step - loss: 2.3026 - accuracy: 0.0968\n",
            "Epoch 39/100\n",
            "300/300 [==============================] - 1s 4ms/step - loss: 2.3026 - accuracy: 0.0979\n",
            "Epoch 40/100\n",
            "300/300 [==============================] - 1s 4ms/step - loss: 2.3026 - accuracy: 0.0971\n",
            "Epoch 41/100\n",
            "300/300 [==============================] - 1s 4ms/step - loss: 2.3026 - accuracy: 0.0956\n",
            "Epoch 42/100\n",
            "300/300 [==============================] - 1s 4ms/step - loss: 2.3026 - accuracy: 0.0982\n",
            "Epoch 43/100\n",
            "300/300 [==============================] - 1s 4ms/step - loss: 2.3026 - accuracy: 0.0976\n",
            "Epoch 44/100\n",
            "300/300 [==============================] - 1s 4ms/step - loss: 2.3026 - accuracy: 0.0977\n",
            "Epoch 45/100\n",
            "300/300 [==============================] - 1s 4ms/step - loss: 2.3026 - accuracy: 0.0978\n",
            "Epoch 46/100\n",
            "300/300 [==============================] - 1s 3ms/step - loss: 2.3026 - accuracy: 0.0976\n",
            "Epoch 47/100\n",
            "300/300 [==============================] - 1s 4ms/step - loss: 2.3026 - accuracy: 0.0989\n",
            "Epoch 48/100\n",
            "300/300 [==============================] - 1s 4ms/step - loss: 2.3026 - accuracy: 0.0979\n",
            "Epoch 49/100\n",
            "300/300 [==============================] - 1s 4ms/step - loss: 2.3026 - accuracy: 0.0980\n",
            "Epoch 50/100\n",
            "300/300 [==============================] - 1s 4ms/step - loss: 2.3026 - accuracy: 0.0969\n",
            "Epoch 51/100\n",
            "300/300 [==============================] - 1s 4ms/step - loss: 2.3026 - accuracy: 0.0976\n",
            "Epoch 52/100\n",
            "300/300 [==============================] - 1s 4ms/step - loss: 2.3026 - accuracy: 0.0959\n",
            "Epoch 53/100\n",
            "300/300 [==============================] - 1s 4ms/step - loss: 2.3026 - accuracy: 0.0982\n",
            "Epoch 54/100\n",
            "300/300 [==============================] - 1s 4ms/step - loss: 2.3026 - accuracy: 0.0963\n",
            "Epoch 55/100\n",
            "300/300 [==============================] - 1s 4ms/step - loss: 2.3026 - accuracy: 0.0975\n",
            "Epoch 56/100\n",
            "300/300 [==============================] - 1s 4ms/step - loss: 2.3026 - accuracy: 0.0976\n",
            "Epoch 57/100\n",
            "300/300 [==============================] - 1s 4ms/step - loss: 2.3026 - accuracy: 0.0990\n",
            "Epoch 58/100\n",
            "300/300 [==============================] - 1s 4ms/step - loss: 2.3026 - accuracy: 0.0967\n",
            "Epoch 59/100\n",
            "300/300 [==============================] - 1s 4ms/step - loss: 2.3026 - accuracy: 0.0956\n",
            "Epoch 60/100\n",
            "300/300 [==============================] - 1s 4ms/step - loss: 2.3026 - accuracy: 0.0984\n",
            "Epoch 61/100\n",
            "300/300 [==============================] - 1s 4ms/step - loss: 2.3026 - accuracy: 0.0974\n",
            "Epoch 62/100\n",
            "300/300 [==============================] - 1s 4ms/step - loss: 2.3026 - accuracy: 0.0982\n",
            "Epoch 63/100\n",
            "300/300 [==============================] - 1s 4ms/step - loss: 2.3026 - accuracy: 0.0970\n",
            "Epoch 64/100\n",
            "300/300 [==============================] - 1s 4ms/step - loss: 2.3026 - accuracy: 0.0984\n",
            "Epoch 65/100\n",
            "300/300 [==============================] - 1s 4ms/step - loss: 2.3026 - accuracy: 0.0972\n",
            "Epoch 66/100\n",
            "300/300 [==============================] - 1s 4ms/step - loss: 2.3026 - accuracy: 0.0971\n",
            "Epoch 67/100\n",
            "300/300 [==============================] - 1s 4ms/step - loss: 2.3026 - accuracy: 0.0967\n",
            "Epoch 68/100\n",
            "300/300 [==============================] - 1s 4ms/step - loss: 2.3026 - accuracy: 0.0988\n",
            "Epoch 69/100\n",
            "300/300 [==============================] - 1s 4ms/step - loss: 2.3026 - accuracy: 0.0977\n",
            "Epoch 70/100\n",
            "300/300 [==============================] - 1s 4ms/step - loss: 2.3026 - accuracy: 0.0985\n",
            "Epoch 71/100\n",
            "300/300 [==============================] - 1s 4ms/step - loss: 2.3026 - accuracy: 0.0980\n",
            "Epoch 72/100\n",
            "300/300 [==============================] - 1s 4ms/step - loss: 2.3026 - accuracy: 0.0957\n",
            "Epoch 73/100\n",
            "300/300 [==============================] - 1s 4ms/step - loss: 2.3026 - accuracy: 0.0981\n",
            "Epoch 74/100\n",
            "300/300 [==============================] - 1s 4ms/step - loss: 2.3026 - accuracy: 0.0975\n",
            "Epoch 75/100\n",
            "300/300 [==============================] - 1s 4ms/step - loss: 2.3026 - accuracy: 0.0975\n",
            "Epoch 76/100\n",
            "300/300 [==============================] - 1s 4ms/step - loss: 2.3026 - accuracy: 0.0960\n",
            "Epoch 77/100\n",
            "300/300 [==============================] - 1s 5ms/step - loss: 2.3026 - accuracy: 0.0980\n",
            "Epoch 78/100\n",
            "300/300 [==============================] - 1s 4ms/step - loss: 2.3026 - accuracy: 0.0978\n",
            "Epoch 79/100\n",
            "300/300 [==============================] - 1s 4ms/step - loss: 2.3026 - accuracy: 0.0984\n",
            "Epoch 80/100\n",
            "300/300 [==============================] - 1s 4ms/step - loss: 2.3026 - accuracy: 0.0982\n",
            "Epoch 81/100\n",
            "300/300 [==============================] - 1s 5ms/step - loss: 2.3026 - accuracy: 0.0967\n",
            "Epoch 82/100\n",
            "300/300 [==============================] - 1s 5ms/step - loss: 2.3026 - accuracy: 0.0966\n",
            "Epoch 83/100\n",
            "300/300 [==============================] - 1s 5ms/step - loss: 2.3026 - accuracy: 0.0976\n",
            "Epoch 84/100\n",
            "300/300 [==============================] - 1s 4ms/step - loss: 2.3026 - accuracy: 0.0976\n",
            "Epoch 85/100\n",
            "300/300 [==============================] - 1s 4ms/step - loss: 2.3026 - accuracy: 0.0970\n",
            "Epoch 86/100\n",
            "300/300 [==============================] - 1s 4ms/step - loss: 2.3026 - accuracy: 0.0971\n",
            "Epoch 87/100\n",
            "300/300 [==============================] - 1s 4ms/step - loss: 2.3026 - accuracy: 0.0975\n",
            "Epoch 88/100\n",
            "300/300 [==============================] - 1s 4ms/step - loss: 2.3026 - accuracy: 0.0969\n",
            "Epoch 89/100\n",
            "300/300 [==============================] - 1s 4ms/step - loss: 2.3026 - accuracy: 0.0969\n",
            "Epoch 90/100\n",
            "300/300 [==============================] - 1s 4ms/step - loss: 2.3026 - accuracy: 0.0993\n",
            "Epoch 91/100\n",
            "300/300 [==============================] - 1s 4ms/step - loss: 2.3026 - accuracy: 0.0961\n",
            "Epoch 92/100\n",
            "300/300 [==============================] - 1s 4ms/step - loss: 2.3026 - accuracy: 0.0975\n",
            "Epoch 93/100\n",
            "300/300 [==============================] - 1s 4ms/step - loss: 2.3026 - accuracy: 0.0984\n",
            "Epoch 94/100\n",
            "300/300 [==============================] - 1s 4ms/step - loss: 2.3026 - accuracy: 0.0983\n",
            "Epoch 95/100\n",
            "300/300 [==============================] - 1s 4ms/step - loss: 2.3026 - accuracy: 0.0975\n",
            "Epoch 96/100\n",
            "300/300 [==============================] - 1s 4ms/step - loss: 2.3026 - accuracy: 0.0966\n",
            "Epoch 97/100\n",
            "300/300 [==============================] - 1s 4ms/step - loss: 2.3026 - accuracy: 0.0986\n",
            "Epoch 98/100\n",
            "300/300 [==============================] - 1s 4ms/step - loss: 2.3026 - accuracy: 0.0967\n",
            "Epoch 99/100\n",
            "300/300 [==============================] - 1s 4ms/step - loss: 2.3026 - accuracy: 0.0978\n",
            "Epoch 100/100\n",
            "300/300 [==============================] - 1s 4ms/step - loss: 2.3026 - accuracy: 0.0991\n"
          ]
        }
      ]
    },
    {
      "cell_type": "code",
      "source": [
        "results = model.evaluate(X_test, y_test)"
      ],
      "metadata": {
        "colab": {
          "base_uri": "https://localhost:8080/"
        },
        "id": "tHWNDmVo9tw9",
        "outputId": "080f508a-1281-4797-9dfc-ba6a49280971"
      },
      "execution_count": 32,
      "outputs": [
        {
          "output_type": "stream",
          "name": "stdout",
          "text": [
            "313/313 [==============================] - 1s 4ms/step - loss: 2.3026 - accuracy: 0.1000\n"
          ]
        }
      ]
    },
    {
      "cell_type": "code",
      "source": [
        "print('Test accuracy: ', results[1])"
      ],
      "metadata": {
        "colab": {
          "base_uri": "https://localhost:8080/"
        },
        "id": "mzpYeW7SDu1u",
        "outputId": "f8f48487-194f-468b-9cd9-6e819e6a9807"
      },
      "execution_count": 33,
      "outputs": [
        {
          "output_type": "stream",
          "name": "stdout",
          "text": [
            "Test accuracy:  0.10000000149011612\n"
          ]
        }
      ]
    },
    {
      "cell_type": "code",
      "source": [
        "def mlp_model():\n",
        "    model = Sequential()\n",
        "    \n",
        "    model.add(Dense(50, input_shape = (784, ), kernel_initializer='he_normal'))     # use he_normal initializer\n",
        "    model.add(Activation('sigmoid'))    \n",
        "    model.add(Dense(50, kernel_initializer='he_normal'))                            # use he_normal initializer\n",
        "    model.add(Activation('sigmoid'))    \n",
        "    model.add(Dense(50, kernel_initializer='he_normal'))                            # use he_normal initializer\n",
        "    model.add(Activation('sigmoid'))    \n",
        "    model.add(Dense(50, kernel_initializer='he_normal'))                            # use he_normal initializer\n",
        "    model.add(Activation('sigmoid'))    \n",
        "    model.add(Dense(10, kernel_initializer='he_normal'))                            # use he_normal initializer\n",
        "    model.add(Activation('softmax'))\n",
        "    \n",
        "    sgd = optimizers.SGD(lr = 0.001)\n",
        "    model.compile(optimizer = sgd, loss = 'categorical_crossentropy', metrics = ['accuracy'])\n",
        "    \n",
        "    return model"
      ],
      "metadata": {
        "id": "3uFXm3N3DxZu"
      },
      "execution_count": 37,
      "outputs": []
    },
    {
      "cell_type": "code",
      "source": [
        "model = mlp_model()\n",
        "history = model.fit(X_train, y_train, batch_size=200, epochs = 100, verbose = 1)"
      ],
      "metadata": {
        "colab": {
          "base_uri": "https://localhost:8080/"
        },
        "id": "Vw9BM06jD-C3",
        "outputId": "24a65513-25b8-4668-bef3-f6bf4d0ec6dc"
      },
      "execution_count": 38,
      "outputs": [
        {
          "output_type": "stream",
          "name": "stderr",
          "text": [
            "/usr/local/lib/python3.7/dist-packages/keras/optimizer_v2/gradient_descent.py:102: UserWarning: The `lr` argument is deprecated, use `learning_rate` instead.\n",
            "  super(SGD, self).__init__(name, **kwargs)\n"
          ]
        },
        {
          "output_type": "stream",
          "name": "stdout",
          "text": [
            "Epoch 1/100\n",
            "300/300 [==============================] - 2s 5ms/step - loss: 2.3685 - accuracy: 0.1000\n",
            "Epoch 2/100\n",
            "300/300 [==============================] - 1s 4ms/step - loss: 2.3211 - accuracy: 0.1000\n",
            "Epoch 3/100\n",
            "300/300 [==============================] - 1s 4ms/step - loss: 2.3042 - accuracy: 0.0998\n",
            "Epoch 4/100\n",
            "300/300 [==============================] - 1s 4ms/step - loss: 2.2967 - accuracy: 0.1011\n",
            "Epoch 5/100\n",
            "300/300 [==============================] - 1s 4ms/step - loss: 2.2927 - accuracy: 0.1176\n",
            "Epoch 6/100\n",
            "300/300 [==============================] - 1s 4ms/step - loss: 2.2899 - accuracy: 0.1463\n",
            "Epoch 7/100\n",
            "300/300 [==============================] - 1s 5ms/step - loss: 2.2877 - accuracy: 0.1719\n",
            "Epoch 8/100\n",
            "300/300 [==============================] - 1s 4ms/step - loss: 2.2858 - accuracy: 0.1951\n",
            "Epoch 9/100\n",
            "300/300 [==============================] - 1s 5ms/step - loss: 2.2840 - accuracy: 0.2205\n",
            "Epoch 10/100\n",
            "300/300 [==============================] - 2s 5ms/step - loss: 2.2823 - accuracy: 0.2308\n",
            "Epoch 11/100\n",
            "300/300 [==============================] - 1s 4ms/step - loss: 2.2805 - accuracy: 0.2451\n",
            "Epoch 12/100\n",
            "300/300 [==============================] - 1s 4ms/step - loss: 2.2785 - accuracy: 0.2535\n",
            "Epoch 13/100\n",
            "300/300 [==============================] - 1s 5ms/step - loss: 2.2767 - accuracy: 0.2618\n",
            "Epoch 14/100\n",
            "300/300 [==============================] - 1s 4ms/step - loss: 2.2750 - accuracy: 0.2766\n",
            "Epoch 15/100\n",
            "300/300 [==============================] - 1s 4ms/step - loss: 2.2733 - accuracy: 0.2820\n",
            "Epoch 16/100\n",
            "300/300 [==============================] - 1s 4ms/step - loss: 2.2716 - accuracy: 0.2871\n",
            "Epoch 17/100\n",
            "300/300 [==============================] - 1s 4ms/step - loss: 2.2699 - accuracy: 0.3058\n",
            "Epoch 18/100\n",
            "300/300 [==============================] - 1s 4ms/step - loss: 2.2681 - accuracy: 0.2990\n",
            "Epoch 19/100\n",
            "300/300 [==============================] - 1s 4ms/step - loss: 2.2663 - accuracy: 0.3056\n",
            "Epoch 20/100\n",
            "300/300 [==============================] - 1s 5ms/step - loss: 2.2645 - accuracy: 0.3053\n",
            "Epoch 21/100\n",
            "300/300 [==============================] - 1s 4ms/step - loss: 2.2625 - accuracy: 0.3089\n",
            "Epoch 22/100\n",
            "300/300 [==============================] - 1s 5ms/step - loss: 2.2605 - accuracy: 0.3068\n",
            "Epoch 23/100\n",
            "300/300 [==============================] - 1s 4ms/step - loss: 2.2583 - accuracy: 0.3109\n",
            "Epoch 24/100\n",
            "300/300 [==============================] - 1s 4ms/step - loss: 2.2560 - accuracy: 0.3058\n",
            "Epoch 25/100\n",
            "300/300 [==============================] - 1s 4ms/step - loss: 2.2534 - accuracy: 0.3149\n",
            "Epoch 26/100\n",
            "300/300 [==============================] - 1s 4ms/step - loss: 2.2509 - accuracy: 0.3269\n",
            "Epoch 27/100\n",
            "300/300 [==============================] - 1s 4ms/step - loss: 2.2486 - accuracy: 0.3325\n",
            "Epoch 28/100\n",
            "300/300 [==============================] - 1s 4ms/step - loss: 2.2464 - accuracy: 0.3569\n",
            "Epoch 29/100\n",
            "300/300 [==============================] - 1s 5ms/step - loss: 2.2443 - accuracy: 0.3619\n",
            "Epoch 30/100\n",
            "300/300 [==============================] - 1s 5ms/step - loss: 2.2422 - accuracy: 0.3529\n",
            "Epoch 31/100\n",
            "300/300 [==============================] - 1s 5ms/step - loss: 2.2401 - accuracy: 0.3676\n",
            "Epoch 32/100\n",
            "300/300 [==============================] - 1s 4ms/step - loss: 2.2379 - accuracy: 0.3622\n",
            "Epoch 33/100\n",
            "300/300 [==============================] - 1s 4ms/step - loss: 2.2358 - accuracy: 0.3649\n",
            "Epoch 34/100\n",
            "300/300 [==============================] - 1s 4ms/step - loss: 2.2336 - accuracy: 0.3701\n",
            "Epoch 35/100\n",
            "300/300 [==============================] - 1s 4ms/step - loss: 2.2313 - accuracy: 0.3714\n",
            "Epoch 36/100\n",
            "300/300 [==============================] - 1s 5ms/step - loss: 2.2291 - accuracy: 0.3719\n",
            "Epoch 37/100\n",
            "300/300 [==============================] - 1s 5ms/step - loss: 2.2267 - accuracy: 0.3772\n",
            "Epoch 38/100\n",
            "300/300 [==============================] - 1s 4ms/step - loss: 2.2244 - accuracy: 0.3866\n",
            "Epoch 39/100\n",
            "300/300 [==============================] - 1s 5ms/step - loss: 2.2219 - accuracy: 0.3831\n",
            "Epoch 40/100\n",
            "300/300 [==============================] - 1s 5ms/step - loss: 2.2194 - accuracy: 0.3794\n",
            "Epoch 41/100\n",
            "300/300 [==============================] - 1s 5ms/step - loss: 2.2169 - accuracy: 0.3899\n",
            "Epoch 42/100\n",
            "300/300 [==============================] - 1s 5ms/step - loss: 2.2143 - accuracy: 0.3928\n",
            "Epoch 43/100\n",
            "300/300 [==============================] - 1s 4ms/step - loss: 2.2117 - accuracy: 0.3941\n",
            "Epoch 44/100\n",
            "300/300 [==============================] - 1s 4ms/step - loss: 2.2090 - accuracy: 0.3902\n",
            "Epoch 45/100\n",
            "300/300 [==============================] - 1s 5ms/step - loss: 2.2062 - accuracy: 0.3970\n",
            "Epoch 46/100\n",
            "300/300 [==============================] - 1s 5ms/step - loss: 2.2034 - accuracy: 0.3932\n",
            "Epoch 47/100\n",
            "300/300 [==============================] - 2s 5ms/step - loss: 2.2005 - accuracy: 0.3983\n",
            "Epoch 48/100\n",
            "300/300 [==============================] - 1s 5ms/step - loss: 2.1974 - accuracy: 0.3947\n",
            "Epoch 49/100\n",
            "300/300 [==============================] - 1s 5ms/step - loss: 2.1944 - accuracy: 0.4001\n",
            "Epoch 50/100\n",
            "300/300 [==============================] - 1s 5ms/step - loss: 2.1912 - accuracy: 0.4015\n",
            "Epoch 51/100\n",
            "300/300 [==============================] - 1s 4ms/step - loss: 2.1879 - accuracy: 0.4049\n",
            "Epoch 52/100\n",
            "300/300 [==============================] - 1s 5ms/step - loss: 2.1846 - accuracy: 0.4108\n",
            "Epoch 53/100\n",
            "300/300 [==============================] - 1s 5ms/step - loss: 2.1812 - accuracy: 0.4084\n",
            "Epoch 54/100\n",
            "300/300 [==============================] - 1s 5ms/step - loss: 2.1776 - accuracy: 0.4132\n",
            "Epoch 55/100\n",
            "300/300 [==============================] - 1s 5ms/step - loss: 2.1740 - accuracy: 0.4012\n",
            "Epoch 56/100\n",
            "300/300 [==============================] - 1s 4ms/step - loss: 2.1702 - accuracy: 0.4093\n",
            "Epoch 57/100\n",
            "300/300 [==============================] - 1s 4ms/step - loss: 2.1663 - accuracy: 0.4151\n",
            "Epoch 58/100\n",
            "300/300 [==============================] - 1s 5ms/step - loss: 2.1624 - accuracy: 0.4036\n",
            "Epoch 59/100\n",
            "300/300 [==============================] - 1s 4ms/step - loss: 2.1582 - accuracy: 0.4215\n",
            "Epoch 60/100\n",
            "300/300 [==============================] - 1s 4ms/step - loss: 2.1540 - accuracy: 0.4188\n",
            "Epoch 61/100\n",
            "300/300 [==============================] - 1s 4ms/step - loss: 2.1496 - accuracy: 0.4164\n",
            "Epoch 62/100\n",
            "300/300 [==============================] - 1s 4ms/step - loss: 2.1452 - accuracy: 0.4092\n",
            "Epoch 63/100\n",
            "300/300 [==============================] - 1s 5ms/step - loss: 2.1406 - accuracy: 0.4205\n",
            "Epoch 64/100\n",
            "300/300 [==============================] - 1s 4ms/step - loss: 2.1359 - accuracy: 0.4326\n",
            "Epoch 65/100\n",
            "300/300 [==============================] - 1s 4ms/step - loss: 2.1311 - accuracy: 0.4121\n",
            "Epoch 66/100\n",
            "300/300 [==============================] - 1s 5ms/step - loss: 2.1261 - accuracy: 0.4062\n",
            "Epoch 67/100\n",
            "300/300 [==============================] - 1s 4ms/step - loss: 2.1210 - accuracy: 0.4024\n",
            "Epoch 68/100\n",
            "300/300 [==============================] - 1s 4ms/step - loss: 2.1158 - accuracy: 0.4197\n",
            "Epoch 69/100\n",
            "300/300 [==============================] - 1s 4ms/step - loss: 2.1104 - accuracy: 0.4347\n",
            "Epoch 70/100\n",
            "300/300 [==============================] - 1s 4ms/step - loss: 2.1049 - accuracy: 0.4061\n",
            "Epoch 71/100\n",
            "300/300 [==============================] - 1s 5ms/step - loss: 2.0992 - accuracy: 0.4124\n",
            "Epoch 72/100\n",
            "300/300 [==============================] - 2s 7ms/step - loss: 2.0934 - accuracy: 0.4249\n",
            "Epoch 73/100\n",
            "300/300 [==============================] - 1s 5ms/step - loss: 2.0874 - accuracy: 0.4265\n",
            "Epoch 74/100\n",
            "300/300 [==============================] - 1s 5ms/step - loss: 2.0813 - accuracy: 0.4223\n",
            "Epoch 75/100\n",
            "300/300 [==============================] - 1s 4ms/step - loss: 2.0750 - accuracy: 0.4045\n",
            "Epoch 76/100\n",
            "300/300 [==============================] - 1s 4ms/step - loss: 2.0686 - accuracy: 0.4168\n",
            "Epoch 77/100\n",
            "300/300 [==============================] - 1s 5ms/step - loss: 2.0620 - accuracy: 0.4228\n",
            "Epoch 78/100\n",
            "300/300 [==============================] - 1s 5ms/step - loss: 2.0553 - accuracy: 0.4037\n",
            "Epoch 79/100\n",
            "300/300 [==============================] - 1s 4ms/step - loss: 2.0484 - accuracy: 0.4039\n",
            "Epoch 80/100\n",
            "300/300 [==============================] - 1s 4ms/step - loss: 2.0414 - accuracy: 0.4196\n",
            "Epoch 81/100\n",
            "300/300 [==============================] - 1s 4ms/step - loss: 2.0342 - accuracy: 0.4040\n",
            "Epoch 82/100\n",
            "300/300 [==============================] - 1s 5ms/step - loss: 2.0269 - accuracy: 0.4253\n",
            "Epoch 83/100\n",
            "300/300 [==============================] - 1s 5ms/step - loss: 2.0194 - accuracy: 0.4076\n",
            "Epoch 84/100\n",
            "300/300 [==============================] - 1s 5ms/step - loss: 2.0118 - accuracy: 0.4190\n",
            "Epoch 85/100\n",
            "300/300 [==============================] - 2s 5ms/step - loss: 2.0040 - accuracy: 0.4031\n",
            "Epoch 86/100\n",
            "300/300 [==============================] - 2s 5ms/step - loss: 1.9961 - accuracy: 0.4146\n",
            "Epoch 87/100\n",
            "300/300 [==============================] - 2s 6ms/step - loss: 1.9881 - accuracy: 0.4024\n",
            "Epoch 88/100\n",
            "300/300 [==============================] - 1s 4ms/step - loss: 1.9799 - accuracy: 0.4150\n",
            "Epoch 89/100\n",
            "300/300 [==============================] - 1s 5ms/step - loss: 1.9716 - accuracy: 0.4148\n",
            "Epoch 90/100\n",
            "300/300 [==============================] - 1s 5ms/step - loss: 1.9632 - accuracy: 0.4001\n",
            "Epoch 91/100\n",
            "300/300 [==============================] - 1s 5ms/step - loss: 1.9546 - accuracy: 0.4094\n",
            "Epoch 92/100\n",
            "300/300 [==============================] - 1s 5ms/step - loss: 1.9460 - accuracy: 0.4194\n",
            "Epoch 93/100\n",
            "300/300 [==============================] - 1s 4ms/step - loss: 1.9372 - accuracy: 0.4115\n",
            "Epoch 94/100\n",
            "300/300 [==============================] - 1s 4ms/step - loss: 1.9284 - accuracy: 0.4141\n",
            "Epoch 95/100\n",
            "300/300 [==============================] - 1s 4ms/step - loss: 1.9194 - accuracy: 0.4056\n",
            "Epoch 96/100\n",
            "300/300 [==============================] - 1s 5ms/step - loss: 1.9104 - accuracy: 0.4133\n",
            "Epoch 97/100\n",
            "300/300 [==============================] - 2s 5ms/step - loss: 1.9013 - accuracy: 0.4159\n",
            "Epoch 98/100\n",
            "300/300 [==============================] - 2s 5ms/step - loss: 1.8922 - accuracy: 0.4043\n",
            "Epoch 99/100\n",
            "300/300 [==============================] - 2s 5ms/step - loss: 1.8830 - accuracy: 0.4064\n",
            "Epoch 100/100\n",
            "300/300 [==============================] - 1s 5ms/step - loss: 1.8738 - accuracy: 0.4035\n"
          ]
        }
      ]
    },
    {
      "cell_type": "code",
      "source": [
        "results = model.evaluate(X_test, y_test)"
      ],
      "metadata": {
        "colab": {
          "base_uri": "https://localhost:8080/"
        },
        "id": "xzOR-qofEwiX",
        "outputId": "f5099fb5-47f5-499a-dd2e-b06244d00345"
      },
      "execution_count": 40,
      "outputs": [
        {
          "output_type": "stream",
          "name": "stdout",
          "text": [
            "313/313 [==============================] - 1s 3ms/step - loss: 2.2894 - accuracy: 0.2684\n"
          ]
        }
      ]
    },
    {
      "cell_type": "code",
      "source": [
        "print('Test accuracy: ', results[1])"
      ],
      "metadata": {
        "colab": {
          "base_uri": "https://localhost:8080/"
        },
        "id": "cd-HDXp6E1hp",
        "outputId": "a540872c-1706-47bd-b11a-20bdd74b4cef"
      },
      "execution_count": 41,
      "outputs": [
        {
          "output_type": "stream",
          "name": "stdout",
          "text": [
            "Test accuracy:  0.26840001344680786\n"
          ]
        }
      ]
    },
    {
      "cell_type": "code",
      "source": [
        "def mlp_model():\n",
        "    model = Sequential()\n",
        "    \n",
        "    model.add(Dense(50, input_shape = (784, )))\n",
        "    model.add(Activation('relu'))    \n",
        "    model.add(Dense(50))\n",
        "    model.add(Activation('relu'))    \n",
        "    model.add(Dense(50))\n",
        "    model.add(Activation('relu'))    \n",
        "    model.add(Dense(50))\n",
        "    model.add(Activation('relu'))    \n",
        "    model.add(Dense(10))\n",
        "    model.add(Activation('softmax'))\n",
        "    \n",
        "    sgd = optimizers.SGD(lr = 0.001)\n",
        "    model.compile(optimizer = sgd, loss = 'categorical_crossentropy', metrics = ['accuracy'])\n",
        "    \n",
        "    return model"
      ],
      "metadata": {
        "id": "AQ8A3KZCE5N4"
      },
      "execution_count": 42,
      "outputs": []
    },
    {
      "cell_type": "code",
      "source": [
        "model = mlp_model()\n",
        "history = model.fit(X_train, y_train, epochs = 10, verbose = 1)"
      ],
      "metadata": {
        "colab": {
          "base_uri": "https://localhost:8080/"
        },
        "id": "-_tbD934E7xd",
        "outputId": "893d7fe9-fde0-4ef9-9a92-71181e3ece57"
      },
      "execution_count": 43,
      "outputs": [
        {
          "output_type": "stream",
          "name": "stderr",
          "text": [
            "/usr/local/lib/python3.7/dist-packages/keras/optimizer_v2/gradient_descent.py:102: UserWarning: The `lr` argument is deprecated, use `learning_rate` instead.\n",
            "  super(SGD, self).__init__(name, **kwargs)\n"
          ]
        },
        {
          "output_type": "stream",
          "name": "stdout",
          "text": [
            "Epoch 1/10\n",
            "1875/1875 [==============================] - 6s 3ms/step - loss: 1.2002 - accuracy: 0.6152\n",
            "Epoch 2/10\n",
            "1875/1875 [==============================] - 4s 2ms/step - loss: 0.6785 - accuracy: 0.7395\n",
            "Epoch 3/10\n",
            "1875/1875 [==============================] - 3s 2ms/step - loss: 0.5975 - accuracy: 0.7744\n",
            "Epoch 4/10\n",
            "1875/1875 [==============================] - 3s 2ms/step - loss: 0.5491 - accuracy: 0.7933\n",
            "Epoch 5/10\n",
            "1875/1875 [==============================] - 3s 2ms/step - loss: 0.5127 - accuracy: 0.8140\n",
            "Epoch 6/10\n",
            "1875/1875 [==============================] - 3s 2ms/step - loss: 0.4874 - accuracy: 0.8237\n",
            "Epoch 7/10\n",
            "1875/1875 [==============================] - 4s 2ms/step - loss: 0.4691 - accuracy: 0.8302\n",
            "Epoch 8/10\n",
            "1875/1875 [==============================] - 4s 2ms/step - loss: 0.4565 - accuracy: 0.8356\n",
            "Epoch 9/10\n",
            "1875/1875 [==============================] - 4s 2ms/step - loss: 0.4467 - accuracy: 0.8378\n",
            "Epoch 10/10\n",
            "1875/1875 [==============================] - 4s 2ms/step - loss: 0.4365 - accuracy: 0.8406\n"
          ]
        }
      ]
    },
    {
      "cell_type": "code",
      "source": [
        "results = model.evaluate(X_test, y_test)\n"
      ],
      "metadata": {
        "colab": {
          "base_uri": "https://localhost:8080/"
        },
        "id": "7RCv91LBE-Cb",
        "outputId": "bfa063a9-60bb-4ec8-96e5-f21e4a433aed"
      },
      "execution_count": 44,
      "outputs": [
        {
          "output_type": "stream",
          "name": "stdout",
          "text": [
            "313/313 [==============================] - 1s 2ms/step - loss: 0.4902 - accuracy: 0.8246\n"
          ]
        }
      ]
    },
    {
      "cell_type": "code",
      "source": [
        "print('Test accuracy: ', results[1])"
      ],
      "metadata": {
        "colab": {
          "base_uri": "https://localhost:8080/"
        },
        "id": "M551iZ_jFI7X",
        "outputId": "8795b112-8b06-4148-a83b-535d0bc3a744"
      },
      "execution_count": 45,
      "outputs": [
        {
          "output_type": "stream",
          "name": "stdout",
          "text": [
            "Test accuracy:  0.8245999813079834\n"
          ]
        }
      ]
    },
    {
      "cell_type": "code",
      "source": [
        "from tensorflow.keras.layers import BatchNormalization, Dropout\n"
      ],
      "metadata": {
        "id": "wJuJO_2ZFK9s"
      },
      "execution_count": 46,
      "outputs": []
    },
    {
      "cell_type": "code",
      "source": [
        "def mlp_model():\n",
        "    model = Sequential()\n",
        "    \n",
        "    model.add(Dense(50, input_shape = (784, )))\n",
        "    model.add(BatchNormalization())                    \n",
        "    model.add(Activation('relu'))    \n",
        "    model.add(Dense(50))\n",
        "    model.add(BatchNormalization())                    \n",
        "    model.add(Activation('relu'))    \n",
        "    model.add(Dense(50))\n",
        "    model.add(BatchNormalization())                    \n",
        "    model.add(Activation('relu'))    \n",
        "    model.add(Dense(50))\n",
        "    model.add(BatchNormalization())                    \n",
        "    model.add(Activation('relu'))    \n",
        "    model.add(Dense(10))\n",
        "    model.add(Activation('softmax'))\n",
        "    \n",
        "    sgd = optimizers.SGD(lr = 0.001)\n",
        "    model.compile(optimizer = sgd, loss = 'categorical_crossentropy', metrics = ['accuracy'])\n",
        "    \n",
        "    return model"
      ],
      "metadata": {
        "id": "sNnIeLbJFO-c"
      },
      "execution_count": 47,
      "outputs": []
    },
    {
      "cell_type": "code",
      "source": [
        "model = mlp_model()\n",
        "history = model.fit(X_train, y_train, epochs = 20, verbose = 1)\n"
      ],
      "metadata": {
        "colab": {
          "base_uri": "https://localhost:8080/"
        },
        "id": "hFyKDyUkFRH3",
        "outputId": "e4224ec2-6d01-484e-9c80-555fbde70726"
      },
      "execution_count": 48,
      "outputs": [
        {
          "output_type": "stream",
          "name": "stderr",
          "text": [
            "/usr/local/lib/python3.7/dist-packages/keras/optimizer_v2/gradient_descent.py:102: UserWarning: The `lr` argument is deprecated, use `learning_rate` instead.\n",
            "  super(SGD, self).__init__(name, **kwargs)\n"
          ]
        },
        {
          "output_type": "stream",
          "name": "stdout",
          "text": [
            "Epoch 1/20\n",
            "1875/1875 [==============================] - 7s 3ms/step - loss: 1.3793 - accuracy: 0.5770\n",
            "Epoch 2/20\n",
            "1875/1875 [==============================] - 9s 5ms/step - loss: 0.8848 - accuracy: 0.7292\n",
            "Epoch 3/20\n",
            "1875/1875 [==============================] - 5s 3ms/step - loss: 0.7468 - accuracy: 0.7639\n",
            "Epoch 4/20\n",
            "1875/1875 [==============================] - 4s 2ms/step - loss: 0.6691 - accuracy: 0.7832\n",
            "Epoch 5/20\n",
            "1875/1875 [==============================] - 5s 3ms/step - loss: 0.6176 - accuracy: 0.7963\n",
            "Epoch 6/20\n",
            "1875/1875 [==============================] - 4s 2ms/step - loss: 0.5815 - accuracy: 0.8059\n",
            "Epoch 7/20\n",
            "1875/1875 [==============================] - 5s 3ms/step - loss: 0.5546 - accuracy: 0.8128\n",
            "Epoch 8/20\n",
            "1875/1875 [==============================] - 5s 2ms/step - loss: 0.5348 - accuracy: 0.8169\n",
            "Epoch 9/20\n",
            "1875/1875 [==============================] - 7s 4ms/step - loss: 0.5190 - accuracy: 0.8241\n",
            "Epoch 10/20\n",
            "1875/1875 [==============================] - 6s 3ms/step - loss: 0.5038 - accuracy: 0.8280\n",
            "Epoch 11/20\n",
            "1875/1875 [==============================] - 6s 3ms/step - loss: 0.4921 - accuracy: 0.8315\n",
            "Epoch 12/20\n",
            "1875/1875 [==============================] - 7s 4ms/step - loss: 0.4806 - accuracy: 0.8343\n",
            "Epoch 13/20\n",
            "1875/1875 [==============================] - 7s 4ms/step - loss: 0.4715 - accuracy: 0.8367\n",
            "Epoch 14/20\n",
            "1875/1875 [==============================] - 6s 3ms/step - loss: 0.4631 - accuracy: 0.8401\n",
            "Epoch 15/20\n",
            "1875/1875 [==============================] - 5s 2ms/step - loss: 0.4545 - accuracy: 0.8432\n",
            "Epoch 16/20\n",
            "1875/1875 [==============================] - 5s 3ms/step - loss: 0.4500 - accuracy: 0.8425\n",
            "Epoch 17/20\n",
            "1875/1875 [==============================] - 5s 3ms/step - loss: 0.4435 - accuracy: 0.8436\n",
            "Epoch 18/20\n",
            "1875/1875 [==============================] - 5s 3ms/step - loss: 0.4395 - accuracy: 0.8462\n",
            "Epoch 19/20\n",
            "1875/1875 [==============================] - 5s 3ms/step - loss: 0.4347 - accuracy: 0.8479\n",
            "Epoch 20/20\n",
            "1875/1875 [==============================] - 5s 3ms/step - loss: 0.4296 - accuracy: 0.8495\n"
          ]
        }
      ]
    },
    {
      "cell_type": "code",
      "source": [
        "results = model.evaluate(X_test, y_test)"
      ],
      "metadata": {
        "colab": {
          "base_uri": "https://localhost:8080/"
        },
        "id": "G7GBTrzXFTBI",
        "outputId": "e6e58695-5973-4bd2-da3d-f949f3ff2ae9"
      },
      "execution_count": 49,
      "outputs": [
        {
          "output_type": "stream",
          "name": "stdout",
          "text": [
            "313/313 [==============================] - 1s 2ms/step - loss: 0.4104 - accuracy: 0.8539\n"
          ]
        }
      ]
    },
    {
      "cell_type": "code",
      "source": [
        "def mlp_model():\n",
        "    model = Sequential()\n",
        "    \n",
        "    model.add(Dense(50, input_shape = (784, ), kernel_initializer='he_normal'))\n",
        "    model.add(BatchNormalization())\n",
        "    model.add(Activation('relu'))\n",
        "    model.add(Dropout(0.2))\n",
        "    model.add(Dense(50, kernel_initializer='he_normal'))\n",
        "    model.add(BatchNormalization())\n",
        "    model.add(Activation('relu'))    \n",
        "    model.add(Dropout(0.2))\n",
        "    model.add(Dense(50, kernel_initializer='he_normal'))\n",
        "    model.add(BatchNormalization())\n",
        "    model.add(Activation('relu'))\n",
        "    model.add(Dropout(0.2))\n",
        "    model.add(Dense(50, kernel_initializer='he_normal'))\n",
        "    model.add(BatchNormalization())\n",
        "    model.add(Activation('relu'))\n",
        "    model.add(Dropout(0.2))\n",
        "    model.add(Dense(10, kernel_initializer='he_normal'))\n",
        "    model.add(Activation('softmax'))\n",
        "    \n",
        "    adam = optimizers.Adam(lr = 0.001)\n",
        "    model.compile(optimizer = adam, loss = 'categorical_crossentropy', metrics = ['accuracy'])\n",
        "    \n",
        "    return model"
      ],
      "metadata": {
        "id": "eoUZIrC9FVa7"
      },
      "execution_count": 50,
      "outputs": []
    },
    {
      "cell_type": "code",
      "source": [
        "model = mlp_model()\n",
        "history = model.fit(X_train, y_train, epochs = 10, verbose = 1)"
      ],
      "metadata": {
        "colab": {
          "base_uri": "https://localhost:8080/"
        },
        "id": "X7mNBjIyFfWk",
        "outputId": "100e7b00-8596-44a2-bbbe-af1857bb1dfc"
      },
      "execution_count": 51,
      "outputs": [
        {
          "output_type": "stream",
          "name": "stderr",
          "text": [
            "/usr/local/lib/python3.7/dist-packages/keras/optimizer_v2/adam.py:105: UserWarning: The `lr` argument is deprecated, use `learning_rate` instead.\n",
            "  super(Adam, self).__init__(name, **kwargs)\n"
          ]
        },
        {
          "output_type": "stream",
          "name": "stdout",
          "text": [
            "Epoch 1/10\n",
            "1875/1875 [==============================] - 9s 4ms/step - loss: 0.8521 - accuracy: 0.7077\n",
            "Epoch 2/10\n",
            "1875/1875 [==============================] - 7s 4ms/step - loss: 0.5944 - accuracy: 0.7976\n",
            "Epoch 3/10\n",
            "1875/1875 [==============================] - 7s 4ms/step - loss: 0.5426 - accuracy: 0.8132\n",
            "Epoch 4/10\n",
            "1875/1875 [==============================] - 6s 3ms/step - loss: 0.5158 - accuracy: 0.8238\n",
            "Epoch 5/10\n",
            "1875/1875 [==============================] - 6s 3ms/step - loss: 0.4948 - accuracy: 0.8303\n",
            "Epoch 6/10\n",
            "1875/1875 [==============================] - 6s 3ms/step - loss: 0.4784 - accuracy: 0.8353\n",
            "Epoch 7/10\n",
            "1875/1875 [==============================] - 7s 4ms/step - loss: 0.4671 - accuracy: 0.8401\n",
            "Epoch 8/10\n",
            "1875/1875 [==============================] - 6s 3ms/step - loss: 0.4585 - accuracy: 0.8418\n",
            "Epoch 9/10\n",
            "1875/1875 [==============================] - 7s 4ms/step - loss: 0.4478 - accuracy: 0.8465\n",
            "Epoch 10/10\n",
            "1875/1875 [==============================] - 7s 4ms/step - loss: 0.4431 - accuracy: 0.8475\n"
          ]
        }
      ]
    },
    {
      "cell_type": "code",
      "source": [
        "results = model.evaluate(X_test, y_test)"
      ],
      "metadata": {
        "colab": {
          "base_uri": "https://localhost:8080/"
        },
        "id": "BrHJYb-XFlXj",
        "outputId": "a1d0d129-7109-44dc-b583-12435a56aaf7"
      },
      "execution_count": 52,
      "outputs": [
        {
          "output_type": "stream",
          "name": "stdout",
          "text": [
            "313/313 [==============================] - 1s 4ms/step - loss: 0.3815 - accuracy: 0.8638\n"
          ]
        }
      ]
    },
    {
      "cell_type": "code",
      "source": [
        "print('Test accuracy: ', results[1])"
      ],
      "metadata": {
        "colab": {
          "base_uri": "https://localhost:8080/"
        },
        "id": "g28fnHPfGIg7",
        "outputId": "140dc1c7-3d99-4ae9-b42a-85e85cd8fb25"
      },
      "execution_count": 53,
      "outputs": [
        {
          "output_type": "stream",
          "name": "stdout",
          "text": [
            "Test accuracy:  0.8637999892234802\n"
          ]
        }
      ]
    },
    {
      "cell_type": "code",
      "source": [
        ""
      ],
      "metadata": {
        "id": "j9FK4QnnGLO5"
      },
      "execution_count": null,
      "outputs": []
    }
  ]
}