{
  "nbformat": 4,
  "nbformat_minor": 0,
  "metadata": {
    "colab": {
      "name": "Regression(Boston Housing dataset) NN&DL.ipynb",
      "provenance": []
    },
    "kernelspec": {
      "name": "python3",
      "display_name": "Python 3"
    },
    "language_info": {
      "name": "python"
    }
  },
  "cells": [
    {
      "cell_type": "code",
      "execution_count": null,
      "metadata": {
        "id": "rraGJ-4WsnMQ"
      },
      "outputs": [],
      "source": [
        "import numpy as np\n",
        "import matplotlib.pyplot as plt\n",
        "import random\n",
        "random.seed(0)\n",
        "import warnings\n",
        "warnings.filterwarnings('ignore')"
      ]
    },
    {
      "cell_type": "code",
      "source": [
        "import tensorflow"
      ],
      "metadata": {
        "id": "NK4TSG7ds6x0"
      },
      "execution_count": null,
      "outputs": []
    },
    {
      "cell_type": "code",
      "source": [
        "from tensorflow.keras.datasets import boston_housing\n",
        "train,test=boston_housing.load_data()"
      ],
      "metadata": {
        "id": "IzUf__fatC3L"
      },
      "execution_count": null,
      "outputs": []
    },
    {
      "cell_type": "code",
      "source": [
        "(features,actual_prize),_= boston_housing.load_data(test_split=0)"
      ],
      "metadata": {
        "id": "KjKl6QtQt0s9"
      },
      "execution_count": null,
      "outputs": []
    },
    {
      "cell_type": "code",
      "source": [
        "features.shape"
      ],
      "metadata": {
        "colab": {
          "base_uri": "https://localhost:8080/"
        },
        "id": "ENWzdzR6t9J8",
        "outputId": "ccddf5ab-9a34-4c0d-befc-dcd8437643ee"
      },
      "execution_count": null,
      "outputs": [
        {
          "output_type": "execute_result",
          "data": {
            "text/plain": [
              "(506, 13)"
            ]
          },
          "metadata": {},
          "execution_count": 8
        }
      ]
    },
    {
      "cell_type": "code",
      "source": [
        "actual_prize.shape"
      ],
      "metadata": {
        "colab": {
          "base_uri": "https://localhost:8080/"
        },
        "id": "eCEgaGRDt-du",
        "outputId": "002fe914-ac77-43f5-a196-2c4bad3d7a9f"
      },
      "execution_count": null,
      "outputs": [
        {
          "output_type": "execute_result",
          "data": {
            "text/plain": [
              "(506,)"
            ]
          },
          "metadata": {},
          "execution_count": 9
        }
      ]
    },
    {
      "cell_type": "code",
      "source": [
        "_"
      ],
      "metadata": {
        "colab": {
          "base_uri": "https://localhost:8080/"
        },
        "id": "tCTT2WRbuAXe",
        "outputId": "0dd49128-b7e1-46ae-b170-7fbf512a14dc"
      },
      "execution_count": null,
      "outputs": [
        {
          "output_type": "execute_result",
          "data": {
            "text/plain": [
              "(506,)"
            ]
          },
          "metadata": {},
          "execution_count": 10
        }
      ]
    },
    {
      "cell_type": "code",
      "source": [
        "model=tensorflow.keras.models.Sequential([tensorflow.keras.layers.BatchNormalization(input_shape=(13,))\n",
        ",tensorflow.keras.layers.Dense(1)])"
      ],
      "metadata": {
        "id": "1bE2eKQJuBr2"
      },
      "execution_count": null,
      "outputs": []
    },
    {
      "cell_type": "code",
      "source": [
        "model1=tensorflow.keras.models.Sequential()\n",
        "model1.add(tensorflow.keras.layers.Flatten())\n",
        "model1.add(tensorflow.keras.layers.Dense(1))"
      ],
      "metadata": {
        "id": "CgB3IIvKvQYz"
      },
      "execution_count": null,
      "outputs": []
    },
    {
      "cell_type": "code",
      "source": [
        "model.compile(optimizer='sgd',loss='mean_absolute_error')"
      ],
      "metadata": {
        "id": "QWUw6Bhyv7AE"
      },
      "execution_count": null,
      "outputs": []
    },
    {
      "cell_type": "code",
      "source": [
        "model.fit(features,actual_prize,epochs=100,validation_split=0.3)"
      ],
      "metadata": {
        "colab": {
          "base_uri": "https://localhost:8080/"
        },
        "id": "rZXE_N-34tlx",
        "outputId": "4e547683-f4a7-4f74-9b79-ee48786d3b75"
      },
      "execution_count": null,
      "outputs": [
        {
          "output_type": "stream",
          "name": "stdout",
          "text": [
            "Epoch 1/100\n",
            "12/12 [==============================] - 1s 17ms/step - loss: 22.2219 - val_loss: 37.7204\n",
            "Epoch 2/100\n",
            "12/12 [==============================] - 0s 4ms/step - loss: 21.7923 - val_loss: 33.4332\n",
            "Epoch 3/100\n",
            "12/12 [==============================] - 0s 5ms/step - loss: 21.3383 - val_loss: 30.9954\n",
            "Epoch 4/100\n",
            "12/12 [==============================] - 0s 5ms/step - loss: 20.8404 - val_loss: 29.2001\n",
            "Epoch 5/100\n",
            "12/12 [==============================] - 0s 4ms/step - loss: 20.2771 - val_loss: 27.8093\n",
            "Epoch 6/100\n",
            "12/12 [==============================] - 0s 4ms/step - loss: 19.6229 - val_loss: 26.4761\n",
            "Epoch 7/100\n",
            "12/12 [==============================] - 0s 3ms/step - loss: 18.8470 - val_loss: 25.1619\n",
            "Epoch 8/100\n",
            "12/12 [==============================] - 0s 5ms/step - loss: 17.9119 - val_loss: 23.7697\n",
            "Epoch 9/100\n",
            "12/12 [==============================] - 0s 3ms/step - loss: 16.7707 - val_loss: 22.2103\n",
            "Epoch 10/100\n",
            "12/12 [==============================] - 0s 5ms/step - loss: 15.3858 - val_loss: 20.4534\n",
            "Epoch 11/100\n",
            "12/12 [==============================] - 0s 5ms/step - loss: 13.7661 - val_loss: 18.4383\n",
            "Epoch 12/100\n",
            "12/12 [==============================] - 0s 4ms/step - loss: 11.9455 - val_loss: 16.1124\n",
            "Epoch 13/100\n",
            "12/12 [==============================] - 0s 5ms/step - loss: 10.0116 - val_loss: 13.7040\n",
            "Epoch 14/100\n",
            "12/12 [==============================] - 0s 4ms/step - loss: 8.2385 - val_loss: 11.2368\n",
            "Epoch 15/100\n",
            "12/12 [==============================] - 0s 5ms/step - loss: 6.8180 - val_loss: 8.8146\n",
            "Epoch 16/100\n",
            "12/12 [==============================] - 0s 5ms/step - loss: 5.8001 - val_loss: 7.2973\n",
            "Epoch 17/100\n",
            "12/12 [==============================] - 0s 4ms/step - loss: 5.3639 - val_loss: 6.7827\n",
            "Epoch 18/100\n",
            "12/12 [==============================] - 0s 6ms/step - loss: 5.1040 - val_loss: 6.0542\n",
            "Epoch 19/100\n",
            "12/12 [==============================] - 0s 5ms/step - loss: 4.9672 - val_loss: 5.5937\n",
            "Epoch 20/100\n",
            "12/12 [==============================] - 0s 5ms/step - loss: 4.8868 - val_loss: 5.4181\n",
            "Epoch 21/100\n",
            "12/12 [==============================] - 0s 4ms/step - loss: 4.8530 - val_loss: 5.1733\n",
            "Epoch 22/100\n",
            "12/12 [==============================] - 0s 5ms/step - loss: 4.8404 - val_loss: 4.9289\n",
            "Epoch 23/100\n",
            "12/12 [==============================] - 0s 5ms/step - loss: 4.8613 - val_loss: 5.0542\n",
            "Epoch 24/100\n",
            "12/12 [==============================] - 0s 4ms/step - loss: 4.6712 - val_loss: 4.7554\n",
            "Epoch 25/100\n",
            "12/12 [==============================] - 0s 3ms/step - loss: 4.5739 - val_loss: 4.7218\n",
            "Epoch 26/100\n",
            "12/12 [==============================] - 0s 5ms/step - loss: 4.5622 - val_loss: 4.4821\n",
            "Epoch 27/100\n",
            "12/12 [==============================] - 0s 5ms/step - loss: 4.4497 - val_loss: 4.4116\n",
            "Epoch 28/100\n",
            "12/12 [==============================] - 0s 5ms/step - loss: 4.5357 - val_loss: 4.4282\n",
            "Epoch 29/100\n",
            "12/12 [==============================] - 0s 5ms/step - loss: 4.4132 - val_loss: 4.1685\n",
            "Epoch 30/100\n",
            "12/12 [==============================] - 0s 4ms/step - loss: 4.4263 - val_loss: 4.2697\n",
            "Epoch 31/100\n",
            "12/12 [==============================] - 0s 5ms/step - loss: 4.4497 - val_loss: 4.1137\n",
            "Epoch 32/100\n",
            "12/12 [==============================] - 0s 6ms/step - loss: 4.3832 - val_loss: 4.0944\n",
            "Epoch 33/100\n",
            "12/12 [==============================] - 0s 5ms/step - loss: 4.2205 - val_loss: 4.0483\n",
            "Epoch 34/100\n",
            "12/12 [==============================] - 0s 6ms/step - loss: 4.1994 - val_loss: 4.0435\n",
            "Epoch 35/100\n",
            "12/12 [==============================] - 0s 4ms/step - loss: 4.2155 - val_loss: 3.9687\n",
            "Epoch 36/100\n",
            "12/12 [==============================] - 0s 5ms/step - loss: 4.1851 - val_loss: 3.9133\n",
            "Epoch 37/100\n",
            "12/12 [==============================] - 0s 4ms/step - loss: 4.3257 - val_loss: 3.8749\n",
            "Epoch 38/100\n",
            "12/12 [==============================] - 0s 6ms/step - loss: 4.3203 - val_loss: 3.9134\n",
            "Epoch 39/100\n",
            "12/12 [==============================] - 0s 5ms/step - loss: 4.3387 - val_loss: 3.9178\n",
            "Epoch 40/100\n",
            "12/12 [==============================] - 0s 6ms/step - loss: 4.1964 - val_loss: 3.8699\n",
            "Epoch 41/100\n",
            "12/12 [==============================] - 0s 4ms/step - loss: 4.2198 - val_loss: 3.8321\n",
            "Epoch 42/100\n",
            "12/12 [==============================] - 0s 5ms/step - loss: 4.2678 - val_loss: 3.8017\n",
            "Epoch 43/100\n",
            "12/12 [==============================] - 0s 5ms/step - loss: 3.9488 - val_loss: 3.8505\n",
            "Epoch 44/100\n",
            "12/12 [==============================] - 0s 5ms/step - loss: 4.0546 - val_loss: 3.7953\n",
            "Epoch 45/100\n",
            "12/12 [==============================] - 0s 4ms/step - loss: 4.0028 - val_loss: 3.7698\n",
            "Epoch 46/100\n",
            "12/12 [==============================] - 0s 4ms/step - loss: 4.0140 - val_loss: 3.7578\n",
            "Epoch 47/100\n",
            "12/12 [==============================] - 0s 4ms/step - loss: 4.1550 - val_loss: 3.7566\n",
            "Epoch 48/100\n",
            "12/12 [==============================] - 0s 3ms/step - loss: 4.1117 - val_loss: 3.7705\n",
            "Epoch 49/100\n",
            "12/12 [==============================] - 0s 5ms/step - loss: 3.9311 - val_loss: 3.7787\n",
            "Epoch 50/100\n",
            "12/12 [==============================] - 0s 5ms/step - loss: 3.9988 - val_loss: 3.7558\n",
            "Epoch 51/100\n",
            "12/12 [==============================] - 0s 5ms/step - loss: 4.0035 - val_loss: 3.7671\n",
            "Epoch 52/100\n",
            "12/12 [==============================] - 0s 5ms/step - loss: 3.9332 - val_loss: 3.7609\n",
            "Epoch 53/100\n",
            "12/12 [==============================] - 0s 5ms/step - loss: 3.8960 - val_loss: 3.7217\n",
            "Epoch 54/100\n",
            "12/12 [==============================] - 0s 5ms/step - loss: 4.1904 - val_loss: 3.7223\n",
            "Epoch 55/100\n",
            "12/12 [==============================] - 0s 3ms/step - loss: 4.0233 - val_loss: 3.7139\n",
            "Epoch 56/100\n",
            "12/12 [==============================] - 0s 4ms/step - loss: 3.8717 - val_loss: 3.7147\n",
            "Epoch 57/100\n",
            "12/12 [==============================] - 0s 4ms/step - loss: 3.8930 - val_loss: 3.7268\n",
            "Epoch 58/100\n",
            "12/12 [==============================] - 0s 4ms/step - loss: 3.7315 - val_loss: 3.7012\n",
            "Epoch 59/100\n",
            "12/12 [==============================] - 0s 5ms/step - loss: 3.7102 - val_loss: 3.6939\n",
            "Epoch 60/100\n",
            "12/12 [==============================] - 0s 4ms/step - loss: 3.8149 - val_loss: 3.6584\n",
            "Epoch 61/100\n",
            "12/12 [==============================] - 0s 4ms/step - loss: 3.8495 - val_loss: 3.6501\n",
            "Epoch 62/100\n",
            "12/12 [==============================] - 0s 5ms/step - loss: 4.0348 - val_loss: 3.6543\n",
            "Epoch 63/100\n",
            "12/12 [==============================] - 0s 5ms/step - loss: 3.9888 - val_loss: 3.6551\n",
            "Epoch 64/100\n",
            "12/12 [==============================] - 0s 5ms/step - loss: 3.7098 - val_loss: 3.6401\n",
            "Epoch 65/100\n",
            "12/12 [==============================] - 0s 5ms/step - loss: 3.8076 - val_loss: 3.6178\n",
            "Epoch 66/100\n",
            "12/12 [==============================] - 0s 5ms/step - loss: 3.8336 - val_loss: 3.6226\n",
            "Epoch 67/100\n",
            "12/12 [==============================] - 0s 4ms/step - loss: 3.5497 - val_loss: 3.6179\n",
            "Epoch 68/100\n",
            "12/12 [==============================] - 0s 4ms/step - loss: 3.6433 - val_loss: 3.6287\n",
            "Epoch 69/100\n",
            "12/12 [==============================] - 0s 4ms/step - loss: 3.5740 - val_loss: 3.6000\n",
            "Epoch 70/100\n",
            "12/12 [==============================] - 0s 5ms/step - loss: 3.7453 - val_loss: 3.6274\n",
            "Epoch 71/100\n",
            "12/12 [==============================] - 0s 4ms/step - loss: 4.0209 - val_loss: 3.5925\n",
            "Epoch 72/100\n",
            "12/12 [==============================] - 0s 5ms/step - loss: 3.7686 - val_loss: 3.5911\n",
            "Epoch 73/100\n",
            "12/12 [==============================] - 0s 5ms/step - loss: 3.6820 - val_loss: 3.5768\n",
            "Epoch 74/100\n",
            "12/12 [==============================] - 0s 6ms/step - loss: 3.7192 - val_loss: 3.5772\n",
            "Epoch 75/100\n",
            "12/12 [==============================] - 0s 4ms/step - loss: 3.9197 - val_loss: 3.5681\n",
            "Epoch 76/100\n",
            "12/12 [==============================] - 0s 5ms/step - loss: 3.7662 - val_loss: 3.5520\n",
            "Epoch 77/100\n",
            "12/12 [==============================] - 0s 4ms/step - loss: 3.6981 - val_loss: 3.5341\n",
            "Epoch 78/100\n",
            "12/12 [==============================] - 0s 5ms/step - loss: 3.6318 - val_loss: 3.5543\n",
            "Epoch 79/100\n",
            "12/12 [==============================] - 0s 5ms/step - loss: 3.6577 - val_loss: 3.5732\n",
            "Epoch 80/100\n",
            "12/12 [==============================] - 0s 4ms/step - loss: 3.7828 - val_loss: 3.6017\n",
            "Epoch 81/100\n",
            "12/12 [==============================] - 0s 5ms/step - loss: 3.6633 - val_loss: 3.5720\n",
            "Epoch 82/100\n",
            "12/12 [==============================] - 0s 5ms/step - loss: 3.6565 - val_loss: 3.5671\n",
            "Epoch 83/100\n",
            "12/12 [==============================] - 0s 5ms/step - loss: 3.7665 - val_loss: 3.5428\n",
            "Epoch 84/100\n",
            "12/12 [==============================] - 0s 4ms/step - loss: 3.6791 - val_loss: 3.5522\n",
            "Epoch 85/100\n",
            "12/12 [==============================] - 0s 4ms/step - loss: 3.6210 - val_loss: 3.5161\n",
            "Epoch 86/100\n",
            "12/12 [==============================] - 0s 4ms/step - loss: 3.7984 - val_loss: 3.5513\n",
            "Epoch 87/100\n",
            "12/12 [==============================] - 0s 4ms/step - loss: 3.5334 - val_loss: 3.4992\n",
            "Epoch 88/100\n",
            "12/12 [==============================] - 0s 5ms/step - loss: 3.5156 - val_loss: 3.5137\n",
            "Epoch 89/100\n",
            "12/12 [==============================] - 0s 5ms/step - loss: 3.5912 - val_loss: 3.5422\n",
            "Epoch 90/100\n",
            "12/12 [==============================] - 0s 4ms/step - loss: 3.7556 - val_loss: 3.5039\n",
            "Epoch 91/100\n",
            "12/12 [==============================] - 0s 5ms/step - loss: 3.7072 - val_loss: 3.4680\n",
            "Epoch 92/100\n",
            "12/12 [==============================] - 0s 3ms/step - loss: 3.4683 - val_loss: 3.4833\n",
            "Epoch 93/100\n",
            "12/12 [==============================] - 0s 5ms/step - loss: 3.6801 - val_loss: 3.5028\n",
            "Epoch 94/100\n",
            "12/12 [==============================] - 0s 5ms/step - loss: 3.4106 - val_loss: 3.4586\n",
            "Epoch 95/100\n",
            "12/12 [==============================] - 0s 4ms/step - loss: 3.5169 - val_loss: 3.4530\n",
            "Epoch 96/100\n",
            "12/12 [==============================] - 0s 3ms/step - loss: 3.4593 - val_loss: 3.4927\n",
            "Epoch 97/100\n",
            "12/12 [==============================] - 0s 4ms/step - loss: 3.6048 - val_loss: 3.4873\n",
            "Epoch 98/100\n",
            "12/12 [==============================] - 0s 4ms/step - loss: 3.5693 - val_loss: 3.4632\n",
            "Epoch 99/100\n",
            "12/12 [==============================] - 0s 4ms/step - loss: 3.4822 - val_loss: 3.4502\n",
            "Epoch 100/100\n",
            "12/12 [==============================] - 0s 5ms/step - loss: 3.7623 - val_loss: 3.4496\n"
          ]
        },
        {
          "output_type": "execute_result",
          "data": {
            "text/plain": [
              "<keras.callbacks.History at 0x7ff5e56bfe10>"
            ]
          },
          "metadata": {},
          "execution_count": 18
        }
      ]
    },
    {
      "cell_type": "code",
      "source": [
        "test_x = np.reshape([1.2, 0, 8.14e+00, 0.0e+00, 5.3e-01, 6.14e+00, 9.170e+01, 3.97e+00, 4, 3.07e+02, 2.10e+01, 3.96e+02, 1.872e+01],(-1, 13))\n",
        "model.predict(test_x)"
      ],
      "metadata": {
        "colab": {
          "base_uri": "https://localhost:8080/"
        },
        "id": "SATyK7TC5DEO",
        "outputId": "63092d94-3008-48f4-c2cf-ba0407a2f9ed"
      },
      "execution_count": null,
      "outputs": [
        {
          "output_type": "execute_result",
          "data": {
            "text/plain": [
              "array([[15.836908]], dtype=float32)"
            ]
          },
          "metadata": {},
          "execution_count": 19
        }
      ]
    },
    {
      "cell_type": "code",
      "source": [
        ""
      ],
      "metadata": {
        "id": "nXyHuuZ75PeJ"
      },
      "execution_count": null,
      "outputs": []
    }
  ]
}